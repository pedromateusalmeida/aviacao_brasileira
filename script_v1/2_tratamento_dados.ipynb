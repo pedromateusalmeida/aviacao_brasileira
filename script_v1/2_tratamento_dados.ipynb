{
 "cells": [
  {
   "cell_type": "code",
   "execution_count": 1,
   "id": "a076a71e-1653-40e4-8684-b99cbb5b21f4",
   "metadata": {},
   "outputs": [],
   "source": [
    "#pip install -r requirements.txt"
   ]
  },
  {
   "cell_type": "markdown",
   "id": "9df2c789-0e89-44a1-842f-01c03404f2a8",
   "metadata": {},
   "source": [
    "# Pacote"
   ]
  },
  {
   "cell_type": "code",
   "execution_count": 1,
   "id": "b101502b-7592-45a5-a70d-c7328357f391",
   "metadata": {},
   "outputs": [],
   "source": [
    "import pandas as pd\n",
    "import chardet\n",
    "import glob\n",
    "from unidecode import unidecode\n",
    "import os\n",
    "import Levenshtein as lev\n",
    "import csv \n",
    "\n",
    "pd.set_option('display.max_columns', None)"
   ]
  },
  {
   "cell_type": "markdown",
   "id": "ba83a186-dcc2-4a3b-a51e-7d82e9b5008e",
   "metadata": {},
   "source": [
    "# Funções"
   ]
  },
  {
   "cell_type": "code",
   "execution_count": 2,
   "id": "8f72e4a7-9d0f-4706-bd50-aec55801a65a",
   "metadata": {},
   "outputs": [],
   "source": [
    "def detect_encoding(file_pattern_or_path, num_bytes=10000):\n",
    "    \"\"\"\n",
    "    Detecta a codificação do arquivo ou arquivos fornecidos.\n",
    "    \n",
    "    Parâmetros:\n",
    "        file_pattern_or_path (str): Caminho ou padrão do arquivo para detecção.\n",
    "        num_bytes (int, opcional): Número de bytes para ler para a detecção. Padrão é 10000.\n",
    "    \n",
    "    Retorna:\n",
    "        dict: Dicionário com caminho do arquivo como chave e codificação detectada como valor.\n",
    "    \"\"\"\n",
    "    \n",
    "    # Encontrar arquivos que correspondem ao padrão ou caminho fornecido.\n",
    "    files = glob.glob(file_pattern_or_path)\n",
    "    encodings = {}\n",
    "\n",
    "    # Iterar sobre cada arquivo encontrado.\n",
    "    for file_path in files:\n",
    "        # Abrir arquivo em modo binário e ler os primeiros 'num_bytes' bytes.\n",
    "        with open(file_path, 'rb') as f:\n",
    "            rawdata = f.read(num_bytes)\n",
    "            # Detectar a codificação do fragmento lido e armazenar no dicionário.\n",
    "            encodings[file_path] = chardet.detect(rawdata)[\"encoding\"]\n",
    "    \n",
    "    return encodings\n",
    "\n",
    "def is_delayed(row):\n",
    "    \"\"\"\n",
    "    Determina se um voo está atrasado ou pontual com base na diferença de tempo entre a partida prevista e a real.\n",
    "\n",
    "    Parâmetros:\n",
    "    row (pd.Series): Uma linha de um DataFrame que contém informações de partida do voo.\n",
    "\n",
    "    Retorna:\n",
    "    str: \"Atrasado\" se o voo estiver atrasado por mais de 15 minutos, caso contrário \"Pontual\".\n",
    "    \"\"\"\n",
    "    # Calcula a diferença de tempo entre a partida real e a prevista.\n",
    "    delta = row['Partida Real'] - row['Partida Prevista']\n",
    "    # Retorna \"Atrasado\" se a diferença for maior que 15 minutos, senão \"Pontual\".\n",
    "    return \"Atrasado\" if delta > pd.Timedelta(minutes=15) else \"Pontual\"\n",
    "\n",
    "def padronizar_nome_coluna(coluna):\n",
    "    \"\"\"\n",
    "    Padroniza o nome de uma coluna removendo acentos, transformando em minúsculas e substituindo espaços por underscores.\n",
    "\n",
    "    Parâmetros:\n",
    "    coluna (str): Nome da coluna a ser padronizado.\n",
    "\n",
    "    Retorna:\n",
    "    str: Nome da coluna padronizado.\n",
    "    \"\"\"\n",
    "    # Remover acentos do nome da coluna.\n",
    "    coluna = unidecode(coluna)\n",
    "    # Transformar todas as letras em minúsculas.\n",
    "    coluna = coluna.lower()\n",
    "    # Substituir espaços por underscores.\n",
    "    coluna = coluna.replace(' ', '_')\n",
    "    return coluna\n",
    "\n",
    "def calculate_time_delta(row, start_col, end_col):\n",
    "    \"\"\"\n",
    "    Calcula a diferença de tempo entre duas colunas de um DataFrame.\n",
    "\n",
    "    Parâmetros:\n",
    "    row (pd.Series): Uma linha do DataFrame.\n",
    "    start_col (str): Nome da coluna com o tempo inicial.\n",
    "    end_col (str): Nome da coluna com o tempo final.\n",
    "\n",
    "    Retorna:\n",
    "    pd.Timedelta: Diferença de tempo entre 'start_col' e 'end_col'.\n",
    "    \"\"\"\n",
    "    # Extrai os tempos iniciais e finais das colunas especificadas.\n",
    "    start_time = row[start_col]\n",
    "    end_time = row[end_col]\n",
    "    \n",
    "    # Verifica se algum dos tempos é NaT (Not a Time) e retorna 0 se verdadeiro.\n",
    "    if pd.isna(start_time) or pd.isna(end_time):\n",
    "        return 0\n",
    "    \n",
    "    # Calcula e retorna a diferença absoluta de tempo entre os dois tempos.\n",
    "    delta = abs(end_time - start_time)\n",
    "    return delta\n",
    "\n",
    "def calculate_time_int(row, start_col, end_col):\n",
    "    \"\"\"\n",
    "    Calcula a diferença de tempo em minutos entre duas colunas de um DataFrame.\n",
    "\n",
    "    Parâmetros:\n",
    "    row (pd.Series): Uma linha do DataFrame.\n",
    "    start_col (str): Nome da coluna com o tempo inicial.\n",
    "    end_col (str): Nome da coluna com o tempo final.\n",
    "\n",
    "    Retorna:\n",
    "    int: Diferença de tempo em minutos entre 'start_col' e 'end_col'.\n",
    "    \"\"\"\n",
    "    # Extrai os tempos iniciais e finais das colunas especificadas.\n",
    "    start_time = row[start_col]\n",
    "    end_time = row[end_col]\n",
    "    \n",
    "    # Verifica se algum dos tempos é NaT (Not a Time) e retorna 0 se verdadeiro.\n",
    "    if pd.isna(start_time) or pd.isna(end_time):\n",
    "        return 0\n",
    "    \n",
    "    # Calcula a diferença de tempo, converte para segundos e depois para minutos.\n",
    "    delta = abs(end_time - start_time)\n",
    "    return int(delta.total_seconds() / 60)\n",
    "\n",
    "def encontrar_coluna_similar(coluna, colunas_padrao, limiar=8):\n",
    "    \"\"\"\n",
    "    Encontra a coluna mais similar a um dado nome de coluna, baseado em uma medida de distância.\n",
    "\n",
    "    Args:\n",
    "    coluna (str): Nome da coluna a ser comparada.\n",
    "    colunas_padrao (list): Lista de nomes de colunas padrão para comparação.\n",
    "    limiar (int, optional): Limiar de distância para considerar uma coluna similar. Default é 8.\n",
    "\n",
    "    Etapas:\n",
    "    1. Iterar sobre cada coluna padrão.\n",
    "    2. Calcular a distância de Levenshtein entre a coluna e cada coluna padrão.\n",
    "    3. Se a distância for menor ou igual ao limiar, retornar a coluna padrão correspondente.\n",
    "    4. Se nenhuma coluna padrão satisfizer o critério, retornar o nome da coluna original.\n",
    "\n",
    "    Returns:\n",
    "    str: O nome da coluna mais similar dentre as colunas padrão, ou o próprio nome da coluna se nenhuma for suficientemente similar.\n",
    "    \"\"\"\n",
    "     # Itera sobre cada coluna padrão na lista fornecida.\n",
    "    for padrao in colunas_padrao:\n",
    "        # Calcula a distância de Levenshtein entre a coluna e a coluna padrão atual.\n",
    "        # A função lev.distance() é assumida como uma função predefinida ou importada para calcular esta distância.\n",
    "        if lev.distance(coluna, padrao) <= limiar:\n",
    "            # Se a distância for menor ou igual ao limiar, retorna a coluna padrão como correspondente.\n",
    "            return padrao\n",
    "    # Se nenhuma coluna padrão corresponder dentro do limiar, retorna o nome da coluna original.\n",
    "    return coluna\n",
    "\n",
    "# Função para detectar o delimitador mais adequado\n",
    "def detectar_delimitador(filename, encoding='utf-8', num_lines=10):\n",
    "    \"\"\"\n",
    "    Detecta o delimitador mais adequado para um arquivo CSV.\n",
    "\n",
    "    Args:\n",
    "    filename (str): Nome do arquivo a ser analisado.\n",
    "    encoding (str, optional): Codificação do arquivo. Default é 'utf-8'.\n",
    "    num_lines (int, optional): Número de linhas a serem lidas para a detecção do delimitador. Default é 10.\n",
    "\n",
    "    Etapas:\n",
    "    1. Definir uma lista de delimitadores possíveis.\n",
    "    2. Ler as primeiras linhas do arquivo, testando cada delimitador possível.\n",
    "    3. Identificar o delimitador que resulta no maior número de campos (colunas) por linha.\n",
    "    4. Retornar o delimitador que maximiza o número de campos.\n",
    "\n",
    "    Returns:\n",
    "    str: O delimitador mais adequado encontrado no arquivo. Se nenhum delimitador adequado for encontrado, retorna None.\n",
    "    \"\"\"\n",
    "    # Define uma lista de delimitadores possíveis para testar no arquivo.\n",
    "    delimitadores_possiveis = [',', ';', '\\t', '|']\n",
    "    # Inicializa variáveis para armazenar o delimitador com o máximo de campos e o número máximo de campos.\n",
    "    max_delimiter = None\n",
    "    max_fields = 1\n",
    "\n",
    "    # Abre o arquivo com o nome e codificação especificados.\n",
    "    with open(filename, 'r', encoding=encoding) as file:\n",
    "        # Testa cada delimitador possível.\n",
    "        for delimiter in delimitadores_possiveis:\n",
    "            # Retorna ao início do arquivo antes de testar um novo delimitador.\n",
    "            file.seek(0)\n",
    "            # Cria um leitor CSV com o delimitador atual.\n",
    "            reader = csv.reader(file, delimiter=delimiter)\n",
    "            # Itera sobre as linhas do arquivo até o limite especificado.\n",
    "            for i, row in enumerate(reader):\n",
    "                # Interrompe a leitura após um determinado número de linhas.\n",
    "                if i >= num_lines:\n",
    "                    break\n",
    "                # Atualiza o delimitador e o número máximo de campos se este delimitador resultar em mais campos.\n",
    "                if len(row) > max_fields:\n",
    "                    max_fields = len(row)\n",
    "                    max_delimiter = delimiter\n",
    "\n",
    "    # Retorna o delimitador que resultou no maior número de campos por linha.\n",
    "    return max_delimiter"
   ]
  },
  {
   "cell_type": "markdown",
   "id": "f686fcd5-825d-4580-ba9f-c38ca9ba37e1",
   "metadata": {},
   "source": [
    "# Carregando dados"
   ]
  },
  {
   "cell_type": "code",
   "execution_count": 3,
   "id": "bed08148-529e-45bf-b15f-6fb399c718f7",
   "metadata": {},
   "outputs": [],
   "source": [
    "# --- Carregamento dos Dados dos Aeroportos ---\n",
    "# Definindo o caminho para o arquivo CSV dos glossários de aeródromos.\n",
    "file_path = \"dados_complementares_convertidos/glossario_de_aerodromo.csv\"\n",
    "\n",
    "# Detectando a codificação do arquivo de aeródromos para assegurar a leitura correta dos dados.\n",
    "file_encodings = detect_encoding(file_path)\n",
    "\n",
    "# Obtendo a codificação detectada para o arquivo específico.\n",
    "encoding = file_encodings[file_path]\n",
    "\n",
    "# Lendo o arquivo CSV com a codificação apropriada.\n",
    "# A codificação detectada é usada para lidar com possíveis caracteres especiais nos dados.\n",
    "df_aeroportos = pd.read_csv(file_path, sep=',', encoding=encoding)  # A codificação pode variar (ex: 'iso-8859-1', 'cp1252'), dependendo do arquivo.\n",
    "\n",
    "\n",
    "# --- Carregamento dos Dados das Companhias Aéreas ---\n",
    "# Definindo o caminho para o arquivo CSV dos glossários de empresas aéreas.\n",
    "file_path = \"dados_complementares_convertidos/glossario_de_empresas_aereas.csv\"\n",
    "\n",
    "# Detectando a codificação do arquivo das empresas aéreas.\n",
    "file_encodings = detect_encoding(file_path)\n",
    "\n",
    "# Obtendo a codificação detectada para este arquivo específico.\n",
    "encoding = file_encodings[file_path]\n",
    "\n",
    "# Lendo o arquivo CSV com a codificação apropriada.\n",
    "# Novamente, a codificação detectada é essencial para lidar com caracteres especiais.\n",
    "df_cia_aerea = pd.read_csv(file_path, sep=',', encoding=encoding)  # A codificação pode variar, semelhante ao arquivo de aeródromos."
   ]
  },
  {
   "cell_type": "code",
   "execution_count": 4,
   "id": "05e91c4d-ab44-429d-bb2a-218967a159d3",
   "metadata": {},
   "outputs": [
    {
     "name": "stdout",
     "output_type": "stream",
     "text": [
      "Carregando arquivo: 2018\\vra-01_2018.csv\n",
      "Carregando arquivo: 2018\\vra-02_2018.csv\n",
      "Carregando arquivo: 2018\\vra-03_2018.csv\n",
      "Carregando arquivo: 2018\\vra-04_2018.csv\n",
      "Carregando arquivo: 2018\\vra-05_2018.csv\n",
      "Carregando arquivo: 2018\\vra-06_2018.csv\n",
      "Carregando arquivo: 2018\\vra-07_2018.csv\n",
      "Carregando arquivo: 2018\\vra-08_2018.csv\n",
      "Carregando arquivo: 2018\\vra-09_2018.csv\n",
      "Carregando arquivo: 2018\\vra-10_2018.csv\n",
      "Carregando arquivo: 2018\\vra-11_2018.csv\n",
      "Carregando arquivo: 2018\\vra-12_2018.csv\n",
      "Todos os arquivos CSV foram carregados com sucesso.\n"
     ]
    }
   ],
   "source": [
    "# Definindo o caminho para os arquivos CSV do ano de 2019.\n",
    "file_path = \"2018/*.csv\"\n",
    "\n",
    "# Detectando a codificação dos arquivos CSV\n",
    "file_encodings = detect_encoding(file_path)\n",
    "\n",
    "# Criando uma lista para armazenar os DataFrames de cada arquivo CSV.\n",
    "df_list = []\n",
    "\n",
    "# Iniciando a iteração sobre todos os arquivos CSV no diretório especificado.\n",
    "for filename in glob.glob(file_path):\n",
    "    print(f\"Carregando arquivo: {filename}\")\n",
    "    try:\n",
    "        # Obter a codificação do arquivo\n",
    "        encoding = file_encodings.get(filename, 'latin1')\n",
    "\n",
    "        # Detectar o delimitador apropriado para cada arquivo\n",
    "        delimitador = detectar_delimitador(filename, encoding=encoding)\n",
    "\n",
    "        # Lendo o arquivo CSV com a codificação apropriada\n",
    "        df = pd.read_csv(filename, encoding=encoding, sep=delimitador, low_memory=False, index_col=None)\n",
    "        df_list.append(df)\n",
    "    except Exception as e:\n",
    "        print(f\"Erro ao carregar o arquivo {filename}: {e}\")\n",
    "\n",
    "# Verificando se DataFrames foram carregados na lista.\n",
    "if df_list:\n",
    "    # Concatenando todos os DataFrames em um único DataFrame para análise combinada.\n",
    "    combined_df = pd.concat(df_list, ignore_index=True)\n",
    "    print(\"Todos os arquivos CSV foram carregados com sucesso.\")\n",
    "else:\n",
    "    print(\"Nenhum arquivo CSV foi encontrado ou carregado.\")"
   ]
  },
  {
   "cell_type": "code",
   "execution_count": 5,
   "id": "66c73b0b-c281-4a21-9281-762ffa632e09",
   "metadata": {},
   "outputs": [],
   "source": [
    "mapeamento_colunas = {\n",
    "    'Código Autorização (DI)': 'Codigo DI',\n",
    "    'cd_di': 'Codigo DI',\n",
    "    'ICAO Empresa Aerea': 'ICAO Empresa Aérea',\n",
    "    'sg_empresa_icao': 'ICAO Empresa Aérea',\n",
    "    'Número Voo': 'Número Voo',\n",
    "    'NUmero Voo': 'Número Voo',\n",
    "    'nr_voo': 'Número Voo',\n",
    "    'Código Tipo Linha': 'Código Tipo Linha',\n",
    "    'Codigo Tipo Linha': 'Código Tipo Linha',\n",
    "    'cd_tipo_linha': 'Código Tipo Linha',\n",
    "    'ICAO Aeródromo Origem': 'ICAO Aeródromo Origem',\n",
    "    'ICAO Aerodromo Origem': 'ICAO Aeródromo Origem',\n",
    "    'sg_icao_origem': 'ICAO Aeródromo Origem',\n",
    "    'ICAO Aeródromo Destino': 'ICAO Aeródromo Destino',\n",
    "    'ICAO Aerodromo Destino': 'ICAO Aeródromo Destino',\n",
    "    'sg_icao_destino': 'ICAO Aeródromo Destino',\n",
    "    'Partida Prevista': 'Partida Prevista',\n",
    "    'dt_partida_prevista': 'Partida Prevista',\n",
    "    'Partida Real': 'Partida Real',\n",
    "    'Código DI': 'Codigo DI',   \n",
    "    'Data Partida Real': 'Partida Real',\n",
    "    'Data Chegada Real': 'Chegada Real',\n",
    "    'Data Partida Prevista': 'Partida Prevista',\n",
    "    'Data Chegada Prevista': 'Chegada Prevista',\n",
    "    'dt_partida_real': 'Partida Real',\n",
    "    'Chegada Prevista': 'Chegada Prevista',\n",
    "    'dt_chegada_prevista': 'Chegada Prevista',\n",
    "    'Chegada Real': 'Chegada Real',\n",
    "    'dt_chegada_real': 'Chegada Real',\n",
    "    'Situação Voo': 'Situação Voo',\n",
    "    'Situacao Voo': 'Situação Voo',\n",
    "    'situacao': 'Situação Voo',\n",
    "    'Código Justificativa': 'Código Justificativa',\n",
    "    'Codigo Justificativa': 'Código Justificativa',\n",
    "    'cd_justificativa': 'Código Justificativa'}"
   ]
  },
  {
   "cell_type": "code",
   "execution_count": 6,
   "id": "eec02be0-66a6-4db0-a5fb-babf10e36513",
   "metadata": {},
   "outputs": [
    {
     "name": "stdout",
     "output_type": "stream",
     "text": [
      "Carregando arquivo: 2018\\vra-01_2018.csv\n",
      "Carregando arquivo: 2018\\vra-02_2018.csv\n",
      "Carregando arquivo: 2018\\vra-03_2018.csv\n",
      "Carregando arquivo: 2018\\vra-04_2018.csv\n",
      "Carregando arquivo: 2018\\vra-05_2018.csv\n",
      "Carregando arquivo: 2018\\vra-06_2018.csv\n",
      "Carregando arquivo: 2018\\vra-07_2018.csv\n",
      "Carregando arquivo: 2018\\vra-08_2018.csv\n",
      "Carregando arquivo: 2018\\vra-09_2018.csv\n",
      "Carregando arquivo: 2018\\vra-10_2018.csv\n",
      "Carregando arquivo: 2018\\vra-11_2018.csv\n",
      "Carregando arquivo: 2018\\vra-12_2018.csv\n",
      "Todos os arquivos CSV foram carregados com sucesso.\n"
     ]
    }
   ],
   "source": [
    "# Colunas padrão esperadas\n",
    "colunas_esperadas = [\n",
    "    'ICAO Empresa Aérea', 'Número Voo', 'Código Tipo Linha',\n",
    "    'ICAO Aeródromo Origem', 'ICAO Aeródromo Destino', 'Partida Prevista', 'Partida Real',\n",
    "    'Chegada Prevista', 'Chegada Real', 'Situação Voo', 'Código Justificativa', 'Codigo DI'\n",
    "]\n",
    "\n",
    "# Definindo o caminho para os arquivos CSV do ano de 2019.\n",
    "file_path = \"2018/*.csv\"\n",
    "\n",
    "# Detectando a codificação dos arquivos CSV\n",
    "file_encodings = detect_encoding(file_path)\n",
    "\n",
    "# Criando uma lista para armazenar os DataFrames de cada arquivo CSV.\n",
    "df_list = []\n",
    "\n",
    "# Processamento dos arquivos CSV\n",
    "df_list = []\n",
    "for filename in glob.glob(file_path):\n",
    "    print(f\"Carregando arquivo: {filename}\")\n",
    "    try:\n",
    "        encoding = file_encodings.get(filename, 'latin1')\n",
    "        delimitador = detectar_delimitador(filename, encoding=encoding)\n",
    "        df = pd.read_csv(filename, encoding=encoding, sep=delimitador, low_memory=False, index_col=None)\n",
    "\n",
    "        # Renomear colunas com base no mapeamento\n",
    "        df.rename(columns=mapeamento_colunas, inplace=True, errors='ignore')\n",
    "\n",
    "        # Manter apenas as colunas esperadas\n",
    "        df = df[colunas_esperadas]\n",
    "        df_list.append(df)\n",
    "    except Exception as e:\n",
    "        print(f\"Erro ao carregar o arquivo {filename}: {e}\")\n",
    "\n",
    "# Concatenando todos os DataFrames em um único DataFrame para análise combinada.\n",
    "if df_list:\n",
    "    combined_df = pd.concat(df_list, ignore_index=True)\n",
    "    print(\"Todos os arquivos CSV foram carregados com sucesso.\")\n",
    "else:\n",
    "    print(\"Nenhum arquivo CSV foi encontrado ou carregado.\")"
   ]
  },
  {
   "cell_type": "code",
   "execution_count": 7,
   "id": "324e4c83-2f1e-42c1-afa5-e09f26a58f87",
   "metadata": {},
   "outputs": [],
   "source": [
    "df = combined_df.copy()"
   ]
  },
  {
   "cell_type": "code",
   "execution_count": 8,
   "id": "3d72802e-8ab2-4924-8ab5-f5e2a829874f",
   "metadata": {},
   "outputs": [
    {
     "name": "stdout",
     "output_type": "stream",
     "text": [
      "<class 'pandas.core.frame.DataFrame'>\n",
      "RangeIndex: 1034556 entries, 0 to 1034555\n",
      "Data columns (total 12 columns):\n",
      " #   Column                  Non-Null Count    Dtype \n",
      "---  ------                  --------------    ----- \n",
      " 0   ICAO Empresa Aérea      1034556 non-null  object\n",
      " 1   Número Voo              1034556 non-null  object\n",
      " 2   Código Tipo Linha       1034556 non-null  object\n",
      " 3   ICAO Aeródromo Origem   1034556 non-null  object\n",
      " 4   ICAO Aeródromo Destino  1034556 non-null  object\n",
      " 5   Partida Prevista        1022536 non-null  object\n",
      " 6   Partida Real            988714 non-null   object\n",
      " 7   Chegada Prevista        1022536 non-null  object\n",
      " 8   Chegada Real            988714 non-null   object\n",
      " 9   Situação Voo            1034556 non-null  object\n",
      " 10  Código Justificativa    267790 non-null   object\n",
      " 11  Codigo DI               1033945 non-null  object\n",
      "dtypes: object(12)\n",
      "memory usage: 94.7+ MB\n"
     ]
    }
   ],
   "source": [
    "combined_df.info()"
   ]
  },
  {
   "cell_type": "markdown",
   "id": "7977e560-d0b4-4b30-89b8-423d3b76fc65",
   "metadata": {},
   "source": [
    "## Dicionário de dados\n",
    "| Campo                         | Descrição                                                                                                   |\r\n",
    "|-------------------------------|-------------------------------------------------------------------------------------------------------------|\r\n",
    "| Sigla ICAO Empresa Aérea      | Sigla/Designador ICAO Empresa Aérea                                                                         |\r\n",
    "| Número Voo                    | Numeração do voo                                                                                            |\r\n",
    "| Código DI                     | Caractere usado para identificar o Dígito Identificador (DI) para cada etapa de voo                         |\r\n",
    "| Código Tipo Linha             | Caractere usado para identificar o Tipo de Linha realizada para cada etapa de voo                           |\r\n",
    "| Sigla ICAO Aeroporto Origem   | Sigla/Designador ICAO Aeroporto de Origem                                                                   |\r\n",
    "| Sigla ICAO Aeroporto Destino  | Sigla/Designador ICAO Aeroporto de Destino                                                                  |\r\n",
    "| Partida Prevista              | Data e horário da partida prevista informada pela empresa aérea, em horário de Brasília                      |\r\n",
    "| Partida Real                  | Data e horário da partida realizada informada pela empresa aérea, em horário de Brasília                     |\r\n",
    "| Chegada Prevista              | Data e horário da chegada prevista informada pela empresa aérea, em horário de Brasília                      |\r\n",
    "| Chegada Real                  | Data e horário da chegada realizada, informada pela empresa aérea, em horário de Brasília                    |\r\n",
    "| Situação do voo               | Campo informando a situação do voo: realizado, cancelado ou não informado.                                  |\r\n"
   ]
  },
  {
   "cell_type": "markdown",
   "id": "19efbdfe-2e1d-477f-8dd1-3721ae56c722",
   "metadata": {},
   "source": [
    "# Tratamento de dados"
   ]
  },
  {
   "cell_type": "markdown",
   "id": "d32e0585-43d7-41b8-80c8-f07d858a103b",
   "metadata": {},
   "source": [
    "## Join com as tabelas complementares"
   ]
  },
  {
   "cell_type": "code",
   "execution_count": 9,
   "id": "3f255d79-a47a-41f4-ab57-b615e23c342e",
   "metadata": {},
   "outputs": [],
   "source": [
    "# Preparando DataFrames de Aeroportos para Mesclagem com o DataFrame Principal.\n",
    "\n",
    "# Criando cópias do DataFrame de aeroportos para uso separado como origem e destino.\n",
    "df_aeroportos_origem = df_aeroportos.copy()\n",
    "df_aeroportos_destino = df_aeroportos.copy()\n",
    "\n",
    "# Renomeando as colunas do DataFrame de aeroportos origem.\n",
    "# Isso é feito para evitar conflitos de nomes ao mesclar com o DataFrame principal.\n",
    "# Cada nome de coluna é acrescido de '_origem' para indicar que se refere ao aeroporto de origem do voo.\n",
    "df_aeroportos_origem.rename(columns={col: col + '_origem' for col in df_aeroportos_origem.columns}, inplace=True)\n",
    "\n",
    "# Renomeando as colunas do DataFrame de aeroportos destino de forma similar.\n",
    "# Aqui, '_destino' é acrescido para indicar que as colunas se referem ao aeroporto de destino.\n",
    "df_aeroportos_destino.rename(columns={col: col + '_destino' for col in df_aeroportos_destino.columns}, inplace=True)\n",
    "\n",
    "# Mesclando o DataFrame principal com o DataFrame de companhias aéreas.\n",
    "# A mesclagem é feita com base na coluna 'ICAO Empresa Aérea' do DataFrame principal\n",
    "# e na coluna 'Sigla OACI' do DataFrame das companhias aéreas.\n",
    "# A opção 'inner' assegura que apenas os registros presentes em ambos os DataFrames sejam mantidos.\n",
    "df = pd.merge(df, df_cia_aerea, left_on='ICAO Empresa Aérea', right_on='Sigla OACI', how='inner')\n",
    "\n",
    "# Mesclando o DataFrame resultante com o DataFrame de aeroportos origem.\n",
    "# A mesclagem utiliza 'ICAO Aeródromo Origem' do DataFrame principal e 'Sigla OACI_origem' do DataFrame de aeroportos origem.\n",
    "df = pd.merge(df, df_aeroportos_origem, left_on='ICAO Aeródromo Origem', right_on='Sigla OACI_origem', how='inner')\n",
    "\n",
    "# Mesclando o DataFrame resultante com o DataFrame de aeroportos destino.\n",
    "# Similar à etapa anterior, mas agora usando 'ICAO Aeródromo Destino' e 'Sigla OACI_destino'.\n",
    "df = pd.merge(df, df_aeroportos_destino, left_on='ICAO Aeródromo Destino', right_on='Sigla OACI_destino', how='inner')\n"
   ]
  },
  {
   "cell_type": "markdown",
   "id": "678cd057-1bc1-445b-aee4-0e4b5aec2d11",
   "metadata": {},
   "source": [
    "## Filtro de cia aerea "
   ]
  },
  {
   "cell_type": "code",
   "execution_count": 10,
   "id": "cb042b2a-325d-448a-978f-73b5299fcabe",
   "metadata": {},
   "outputs": [],
   "source": [
    "# Filtrando o DataFrame para incluir apenas voos das empresas aéreas específicas.\n",
    "\n",
    "# Definindo a lista de códigos ICAO das empresas aéreas desejadas para o filtro.\n",
    "valores_filtrar = ['GLO', 'AZU', 'TAM']\n",
    "\n",
    "# Filtrando o DataFrame para manter apenas as linhas onde 'ICAO Empresa Aérea' corresponde aos valores na lista de filtro.\n",
    "df = df[df['ICAO Empresa Aérea'].isin(valores_filtrar)]"
   ]
  },
  {
   "cell_type": "markdown",
   "id": "db148d24-841c-448e-a52b-487f93705675",
   "metadata": {},
   "source": [
    "## Datas"
   ]
  },
  {
   "cell_type": "code",
   "execution_count": 11,
   "id": "76014675-5446-41b4-b94f-20c525157595",
   "metadata": {},
   "outputs": [],
   "source": [
    "# Convertendo colunas de datas e horas de partidas e chegadas para o formato datetime.\n",
    "\n",
    "# As seguintes colunas são convertidas para o tipo datetime usando o formato especificado '%d/%m/%Y %H:%M':\n",
    "# 'Partida Prevista', 'Partida Real', 'Chegada Prevista' e 'Chegada Real'.\n",
    "df['Partida Prevista'] = pd.to_datetime(df['Partida Prevista'], format='%d/%m/%Y %H:%M')\n",
    "df['Partida Real'] = pd.to_datetime(df['Partida Real'], format='%d/%m/%Y %H:%M')\n",
    "df['Chegada Prevista'] = pd.to_datetime(df['Chegada Prevista'], format='%d/%m/%Y %H:%M')\n",
    "df['Chegada Real'] = pd.to_datetime(df['Chegada Real'], format='%d/%m/%Y %H:%M')\n",
    "\n",
    "# Aplicando a função 'is_delayed' em cada linha para determinar se o voo está atrasado ou pontual.\n",
    "# O resultado é armazenado na nova coluna 'Status do Voo'.\n",
    "df['Status do Voo'] = df.apply(is_delayed, axis=1)"
   ]
  },
  {
   "cell_type": "markdown",
   "id": "c79a6dec-652e-4e7b-b14f-8ae403aa4ace",
   "metadata": {},
   "source": [
    "### Criação de colunas com delta"
   ]
  },
  {
   "cell_type": "code",
   "execution_count": 12,
   "id": "d769cab4-1fb2-4bb8-8cb3-a525b5852cf6",
   "metadata": {},
   "outputs": [],
   "source": [
    "# Aplicando a função para calcular o delta de tempo\n",
    "df['Delta Tempo Partida delta'] = df.apply(calculate_time_delta, axis=1, start_col='Partida Prevista', end_col='Partida Real')\n",
    "df['Delta Tempo Chegada delta'] = df.apply(calculate_time_delta, axis=1, start_col='Chegada Prevista', end_col='Chegada Real')\n",
    "\n",
    "# Aplicando a função para calcular o delta de tempo\n",
    "df['Delta Tempo Partida int'] = df.apply(calculate_time_int, axis=1, start_col='Partida Prevista', end_col='Partida Real')\n",
    "df['Delta Tempo Chegada int'] = df.apply(calculate_time_int, axis=1, start_col='Chegada Prevista', end_col='Chegada Real')"
   ]
  },
  {
   "cell_type": "markdown",
   "id": "36f49934-bd52-4f83-9d0a-9985ce9963a8",
   "metadata": {},
   "source": [
    "## Seleção de colunas"
   ]
  },
  {
   "cell_type": "code",
   "execution_count": null,
   "id": "ee9575a5-017b-44f2-aa8e-5c361cb61662",
   "metadata": {},
   "outputs": [],
   "source": [
    "df= df[['Nome Empresas','Número Voo', 'Código DI',\n",
    " 'Código Tipo Linha', 'Partida Prevista', 'Partida Real',\n",
    " 'Chegada Prevista', 'Chegada Real', 'Situação Voo',\n",
    " 'Descrição_origem', 'País_origem', 'Continente_origem',\n",
    " 'Descrição_destino', 'País_destino', 'Continente_destino',\n",
    " 'Status do Voo', 'Delta Tempo Partida delta', 'Delta Tempo Chegada delta',\n",
    " 'Delta Tempo Partida int', 'Delta Tempo Chegada int', 'Cidade_origem',\n",
    " 'UF_origem', 'Cidade_destino', 'UF_destino']]"
   ]
  },
  {
   "cell_type": "markdown",
   "id": "ba2f635a-22df-4bdf-909e-da370b54837e",
   "metadata": {},
   "source": [
    "## Removendo caracteres especiais e espaço do nome das colunas"
   ]
  },
  {
   "cell_type": "code",
   "execution_count": null,
   "id": "bc5861f0-ea82-48a0-baa0-c57f22f647ad",
   "metadata": {},
   "outputs": [],
   "source": [
    "# Aplicar a função a cada nome de coluna\n",
    "df.columns = [padronizar_nome_coluna(col) for col in df.columns]"
   ]
  },
  {
   "cell_type": "markdown",
   "id": "a3cc028f-2217-437a-8040-57c5581a1bd3",
   "metadata": {},
   "source": [
    "# Adiação de colunas mês, dia do mês e dia da semana"
   ]
  },
  {
   "cell_type": "code",
   "execution_count": null,
   "id": "36c5411a-aef8-49f1-8d09-a024a3043928",
   "metadata": {},
   "outputs": [],
   "source": [
    "# Extração de componentes de data das colunas de partida e chegada.\n",
    "\n",
    "# As seguintes operações são realizadas para extrair informações específicas das datas de partida:\n",
    "# 1. 'mes_partida': Extração do mês da 'partida_prevista'.\n",
    "# 2. 'dia_semana_partida': Extração do dia da semana da 'partida_prevista' (0 = Segunda-feira, 6 = Domingo).\n",
    "# 3. 'dia_mes_partida': Extração do dia do mês da 'partida_prevista'.\n",
    "df['mes_partida'] = df['partida_prevista'].dt.month\n",
    "df['dia_semana_partida'] = df['partida_prevista'].dt.dayofweek\n",
    "df['dia_mes_partida'] = df['partida_prevista'].dt.day\n",
    "\n",
    "# Nota: As mesmas informações são extraídas para 'chegada_prevista', mas há um erro no código;\n",
    "# 'partida_prevista' está sendo usada ao invés de 'chegada_prevista'.\n",
    "# As variáveis 'mes_chegada', 'dia_semana_chegada', e 'dia_mes_chegada' devem ser ajustadas para usar 'chegada_prevista'.\n",
    "df['mes_chegada'] = df['partida_prevista'].dt.month\n",
    "df['dia_semana_chegada'] = df['partida_prevista'].dt.dayofweek\n",
    "df['dia_mes_chegada'] = df['partida_prevista'].dt.day"
   ]
  },
  {
   "cell_type": "markdown",
   "id": "ba2693fd-8a6d-4534-8fe1-5c39dc27b2aa",
   "metadata": {},
   "source": [
    "# Criando coluna com as principais rotas"
   ]
  },
  {
   "cell_type": "code",
   "execution_count": null,
   "id": "db3c9331-bb21-4f5f-9eda-1006e8e8e8ba",
   "metadata": {},
   "outputs": [],
   "source": [
    "# Criação da variavel rota (aeroporto origem + aeroporto destino). Observar as rotas mais problemas de atraso e cancelamento\n",
    "df['rota'] = df['descricao_origem'] + \" -> \" + df['descricao_destino']"
   ]
  },
  {
   "cell_type": "markdown",
   "id": "96c49a3d-2855-43a2-99a0-f68c72e2efb5",
   "metadata": {},
   "source": [
    "# Salvando dataset tratado"
   ]
  },
  {
   "cell_type": "code",
   "execution_count": null,
   "id": "6ad74010-f3a1-4e91-99f2-412dda10221a",
   "metadata": {},
   "outputs": [],
   "source": [
    "# Definir o caminho do diretório e do arquivo CSV\n",
    "diretorio = 'dados_tratados'\n",
    "nome_arquivo = 'historico_voo_tratados.csv'\n",
    "caminho_completo = os.path.join(diretorio, nome_arquivo)\n",
    "\n",
    "# Verificar se o diretório existe. Se não, criar o diretório\n",
    "if not os.path.exists(diretorio):\n",
    "    os.makedirs(diretorio)\n",
    "\n",
    "# Salvar o DataFrame no arquivo CSV\n",
    "df.to_csv(caminho_completo, index=False)"
   ]
  },
  {
   "cell_type": "code",
   "execution_count": null,
   "id": "79d2bff8-d13c-4a35-99cf-883142d5bbbf",
   "metadata": {},
   "outputs": [],
   "source": []
  },
  {
   "cell_type": "code",
   "execution_count": null,
   "id": "f79a2f57-aaa9-4204-9c1a-d7e564eeaf95",
   "metadata": {},
   "outputs": [],
   "source": []
  }
 ],
 "metadata": {
  "kernelspec": {
   "display_name": "Python 3 (ipykernel)",
   "language": "python",
   "name": "python3"
  },
  "language_info": {
   "codemirror_mode": {
    "name": "ipython",
    "version": 3
   },
   "file_extension": ".py",
   "mimetype": "text/x-python",
   "name": "python",
   "nbconvert_exporter": "python",
   "pygments_lexer": "ipython3",
   "version": "3.11.0"
  }
 },
 "nbformat": 4,
 "nbformat_minor": 5
}
