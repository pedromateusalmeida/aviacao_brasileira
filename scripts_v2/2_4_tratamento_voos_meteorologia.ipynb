{
 "cells": [
  {
   "cell_type": "markdown",
   "id": "33bd42d6-4d93-4801-894b-db37e3a4f16e",
   "metadata": {},
   "source": [
    "# Pacote"
   ]
  },
  {
   "cell_type": "code",
   "execution_count": 1,
   "id": "06c542e1-2c0a-402f-87fc-7ccc874f8937",
   "metadata": {},
   "outputs": [],
   "source": [
    "import pandas as pd\n",
    "import chardet\n",
    "import glob\n",
    "from unidecode import unidecode\n",
    "import os\n",
    "import Levenshtein as lev\n",
    "import csv \n",
    "\n",
    "pd.set_option('display.max_columns', None)"
   ]
  },
  {
   "cell_type": "code",
   "execution_count": 2,
   "id": "e353b098-1c08-426b-809b-3ef991c7fee7",
   "metadata": {},
   "outputs": [
    {
     "name": "stdout",
     "output_type": "stream",
     "text": [
      "C:\\Users\\pedro\\spark-3.5.0-bin-hadoop3\n",
      "C:\\Users\\pedro\\hadoop3.0\n",
      "C:\\Program Files\\Java\\jdk1.8.0_202\n"
     ]
    }
   ],
   "source": [
    "import sys\n",
    "\n",
    "print(os.environ.get(\"SPARK_HOME\"))\n",
    "print(os.environ.get(\"HADOOP_HOME\"))\n",
    "print(os.environ.get(\"JAVA_HOME\"))\n",
    "\n",
    "os.environ[\"PYARROW_IGNORE_TIMEZONE\"] = \"1\""
   ]
  },
  {
   "cell_type": "code",
   "execution_count": 3,
   "id": "0744d461-401f-4be1-8357-05c779554844",
   "metadata": {},
   "outputs": [],
   "source": [
    "import pyspark\n",
    "from pyspark.sql import SparkSession\n",
    "\n",
    "from pyspark.sql.types import *\n",
    "from pyspark.sql.functions import lower, upper,row_number,isnan, when, count, col, coalesce, broadcast, regexp_replace, regexp_extract, lit, countDistinct\n",
    "from pyspark.sql import functions as F, Window, Row\n",
    "from pyspark.sql.functions import *\n",
    "#from functools import reduce\n",
    "\n",
    "#Pyspark\n",
    "import py4j\n",
    "from pyspark import SparkContext,SQLContext,SparkConf,StorageLevel\n",
    "\n",
    "## Pacotes para configurar sessão no spark\n",
    "from pyspark.sql import SparkSession\n",
    "from pyspark.conf import SparkConf\n",
    "                            \n",
    "## Pacote para localizar o path spark \n",
    "import findspark\n",
    "\n",
    "from pyspark.sql.functions import udf, col\n",
    "from pyspark.sql.types import StringType\n",
    "import unicodedata"
   ]
  },
  {
   "cell_type": "markdown",
   "id": "54ccaf93-81d0-4b18-85d3-763911ff42dc",
   "metadata": {},
   "source": [
    "## Spark session"
   ]
  },
  {
   "cell_type": "code",
   "execution_count": 4,
   "id": "1f2deba9-4c4c-494d-a69a-170ffdc0c672",
   "metadata": {},
   "outputs": [],
   "source": [
    "# Usa todos os núcleos disponíveis na máquina local.\n",
    "# Define o nome da aplicação.\n",
    "# Número de núcleos alocados para o driver Spark.\n",
    "# Quantidade de memória alocada para o driver Spark.\n",
    "# Nível de paralelismo padrão para todas as transformações em RDDs.\n",
    "# Número de partições para usar quando fazer operações de shuffle.\n",
    "# Número de instâncias do executor para iniciar.\n",
    "# Número de núcleos para usar por executor.\n",
    "# Quantidade de memória alocada para cada executor.\n",
    "# Fração da heap do executor para armazenamento e execução.\n",
    "# Proporção da memória de execução acima da qual o armazenamento será despejado para o disco.\n",
    "# Habilita o uso de memória fora do heap.\n",
    "# Tamanho da memória fora do heap alocada para o Spark.\n",
    "# Tamanho máximo dos resultados do driver.\n",
    "# Memória adicional alocada por executor.\n",
    "# Habilita a avaliação antecipada e a visualização dos DataFrames no Spark SQL REPL.\n",
    "# Número máximo de linhas para mostrar quando a avaliação antecipada está habilitada.\n",
    "# Tamanho máximo do buffer para serialização Kryo.\n",
    "# Tamanho máximo das tabelas na realização do broadcast join \n",
    "# Usa KryoSerializer para serialização, oferecendo melhor desempenho.\n",
    "# Classe de registrator Kryo para registrar classes personalizadas com Kryo.\n",
    "# Comprime os dados shuffle para economizar espaço em disco.\n",
    "# Define o nível de armazenamento para RDDs persistidos, usando tanto a memória quanto o disco.\n",
    "# Comprime RDDs armazenados em memória.\n",
    "\n",
    "spark = (SparkSession.builder \n",
    "    .master(\"local[*]\") \n",
    "    .appName(\"Spark Optimization\")   \n",
    "    .config(\"spark.driver.cores\", \"2\")   \n",
    "    .config(\"spark.driver.memory\", \"8g\")   \n",
    "    .config(\"spark.default.parallelism\", \"24\")   \n",
    "    .config(\"spark.sql.shuffle.partitions\", \"24\")   \n",
    "    .config(\"spark.executor.instances\", \"3\")   \n",
    "    .config(\"spark.executor.cores\", \"2\")   \n",
    "    .config(\"spark.executor.memory\", \"10g\")   \n",
    "    .config(\"spark.memory.fraction\", \"0.6\")  \n",
    "    .config(\"spark.memory.storageFraction\", \"0.5\")   \n",
    "    .config(\"spark.memory.offHeap.enabled\", \"true\")   \n",
    "    .config(\"spark.memory.offHeap.size\", \"4g\")   \n",
    "    .config(\"spark.driver.maxResultSize\", \"4g\")   \n",
    "    .config(\"spark.executor.memoryOverhead\", \"2g\")   \n",
    "    .config(\"spark.sql.repl.eagerEval.enabled\", True)   \n",
    "    .config(\"spark.sql.repl.eagerEval.maxNumRows\", 10)  \n",
    "#    .config(\"spark.kryoserializer.buffer.max\", \"512m\")  \n",
    "    .config(\"spark.sql.autoBroadcastJoinThreshold\", \"400m\")   \n",
    "#    .config(\"spark.serializer\", \"org.apache.spark.serializer.KryoSerializer\")   \n",
    "#    .config(\"spark.kryo.registrator\", \"MyKryoRegistrator\")   \n",
    "    .config(\"spark.shuffle.compress\", \"true\")   \n",
    "    .config(\"spark.storage.level\", \"MEMORY_AND_DISK\")   \n",
    "    .config(\"spark.rdd.compress\", \"true\")   \n",
    "    .getOrCreate())"
   ]
  },
  {
   "cell_type": "code",
   "execution_count": 5,
   "id": "9658301c-ebd6-4bb4-9e68-52d81574d83d",
   "metadata": {},
   "outputs": [
    {
     "data": {
      "text/html": [
       "\n",
       "            <div>\n",
       "                <p><b>SparkSession - in-memory</b></p>\n",
       "                \n",
       "        <div>\n",
       "            <p><b>SparkContext</b></p>\n",
       "\n",
       "            <p><a href=\"http://DESKTOP-DFIBSP4:4041\">Spark UI</a></p>\n",
       "\n",
       "            <dl>\n",
       "              <dt>Version</dt>\n",
       "                <dd><code>v3.5.0</code></dd>\n",
       "              <dt>Master</dt>\n",
       "                <dd><code>local[*]</code></dd>\n",
       "              <dt>AppName</dt>\n",
       "                <dd><code>Spark Optimization</code></dd>\n",
       "            </dl>\n",
       "        </div>\n",
       "        \n",
       "            </div>\n",
       "        "
      ],
      "text/plain": [
       "<pyspark.sql.session.SparkSession at 0x2ae7b6f0490>"
      ]
     },
     "execution_count": 5,
     "metadata": {},
     "output_type": "execute_result"
    }
   ],
   "source": [
    "spark"
   ]
  },
  {
   "cell_type": "markdown",
   "id": "f3d85566-5dbe-45c7-98cc-5c22fabe9cbc",
   "metadata": {},
   "source": [
    "# Carregando dados"
   ]
  },
  {
   "cell_type": "markdown",
   "id": "6950e42f-ac85-47dc-a9f7-331066006772",
   "metadata": {},
   "source": [
    "## Df meteorologia"
   ]
  },
  {
   "cell_type": "code",
   "execution_count": 75,
   "id": "bb828d95-24a3-48c0-aaef-758856097135",
   "metadata": {},
   "outputs": [],
   "source": [
    "df = (spark.read.parquet(\"DADOS_METEROLOGIA/DADOS_METEOROLOGICOS_TRATADOS/dados_meteorologicos_2023.parquet\").repartition(12))\n",
    "df = df.withColumn(\"hora_utc\", col(\"hora_utc\").cast(\"int\"))\n",
    "df = df.withColumnRenamed(\"estacao\", \"cidade\")"
   ]
  },
  {
   "cell_type": "code",
   "execution_count": 76,
   "id": "3e0d1286-9ec0-447b-aba9-2be4f447eae9",
   "metadata": {},
   "outputs": [],
   "source": [
    "# Renomeando as colunas para aeroportos de origem\n",
    "df_origem = df.select(\n",
    "    *[col(c).alias(c + '_origem') for c in df.columns])\n",
    "\n",
    "# Renomeando as colunas para aeroportos de destino\n",
    "df_destino = df.select(\n",
    "    *[col(c).alias(c + '_destino') for c in df.columns])\n",
    "\n",
    "df_origem = df_origem.withColumnRenamed(\"data_origem\", \"data_partida\") \\\n",
    "                 .withColumnRenamed(\"hora_utc_origem\", \"hora_partida\")\n",
    "\n",
    "df_destino = df_destino.withColumnRenamed(\"data_destino\", \"data_chegada\")\\\n",
    "                 .withColumnRenamed(\"hora_utc_destino\", \"hora_chegada\")"
   ]
  },
  {
   "cell_type": "code",
   "execution_count": 77,
   "id": "8d88ba58-d2f1-4479-9cd7-c526a5b2ea99",
   "metadata": {},
   "outputs": [
    {
     "name": "stdout",
     "output_type": "stream",
     "text": [
      "root\n",
      " |-- data_chegada: string (nullable = true)\n",
      " |-- hora_chegada: integer (nullable = true)\n",
      " |-- cidade_destino: string (nullable = true)\n",
      " |-- uf_destino: string (nullable = true)\n",
      " |-- regiao_destino: string (nullable = true)\n",
      " |-- precipitacao_total_horario_mm__destino: double (nullable = true)\n",
      " |-- pressao_atmosferica_ao_nivel_da_estacao_horaria_mb__destino: double (nullable = true)\n",
      " |-- pressao_atmosferica_max_na_hora_ant_aut_mb__destino: double (nullable = true)\n",
      " |-- pressao_atmosferica_min_na_hora_ant_aut_mb__destino: double (nullable = true)\n",
      " |-- temperatura_do_ar_bulbo_seco_horaria_degc__destino: double (nullable = true)\n",
      " |-- temperatura_do_ponto_de_orvalho_degc__destino: double (nullable = true)\n",
      " |-- temperatura_maxima_na_hora_ant_aut_degc__destino: double (nullable = true)\n",
      " |-- temperatura_minima_na_hora_ant_aut_degc__destino: double (nullable = true)\n",
      " |-- temperatura_orvalho_max_na_hora_ant_aut_degc__destino: double (nullable = true)\n",
      " |-- temperatura_orvalho_min_na_hora_ant_aut_degc__destino: double (nullable = true)\n",
      " |-- umidade_rel_max_na_hora_ant_aut_pcnt__destino: double (nullable = true)\n",
      " |-- umidade_rel_min_na_hora_ant_aut_pcnt__destino: double (nullable = true)\n",
      " |-- umidade_relativa_do_ar_horaria_pcnt__destino: double (nullable = true)\n",
      " |-- vento_direcao_horaria_gr_deg_gr__destino: double (nullable = true)\n",
      " |-- vento_rajada_maxima_ms__destino: double (nullable = true)\n",
      " |-- vento_velocidade_horaria_ms__destino: double (nullable = true)\n",
      " |-- altitude_destino: double (nullable = true)\n",
      "\n"
     ]
    }
   ],
   "source": [
    "df_destino.printSchema()"
   ]
  },
  {
   "cell_type": "markdown",
   "id": "da195e8f-be3d-432f-abc6-897a58c2c205",
   "metadata": {},
   "source": [
    "## Df voos"
   ]
  },
  {
   "cell_type": "code",
   "execution_count": 78,
   "id": "211d79c8-14df-4d3b-afa2-56b73a973b16",
   "metadata": {},
   "outputs": [],
   "source": [
    "df_voos=spark.read.option(\"header\", \"true\").csv(\"dados_tratados/historico_voo_tratados_2023.csv\").repartition(6)\n",
    "\n",
    "df_voos = df_voos.withColumn('partida_prevista_data', to_date(col('partida_prevista')))\n",
    "df_voos = df_voos.withColumn('chegada_prevista_data', to_date(col('chegada_prevista')))"
   ]
  },
  {
   "cell_type": "code",
   "execution_count": 79,
   "id": "12bac8c0-9755-4711-af4c-ae8b25479e56",
   "metadata": {},
   "outputs": [],
   "source": [
    "df_voos = df_voos.withColumn(\"hora_chegada\", col(\"hora_chegada\").cast(\"int\"))\n",
    "df_voos = df_voos.withColumn(\"hora_partida\", col(\"hora_partida\").cast(\"int\"))"
   ]
  },
  {
   "cell_type": "code",
   "execution_count": 80,
   "id": "4b0ed881-a012-46cc-b38e-2a3ed289ed02",
   "metadata": {},
   "outputs": [
    {
     "data": {
      "text/html": [
       "<table border='1'>\n",
       "<tr><th>nome_empresas</th><th>numero_voo</th><th>codigo_di</th><th>codigo_tipo_linha</th><th>partida_prevista</th><th>partida_real</th><th>chegada_prevista</th><th>chegada_real</th><th>situacao_voo</th><th>descricao_origem</th><th>pais_origem</th><th>continente_origem</th><th>descricao_destino</th><th>pais_destino</th><th>continente_destino</th><th>status_do_voo</th><th>delta_tempo_partida_delta</th><th>delta_tempo_chegada_delta</th><th>delta_tempo_partida_int</th><th>delta_tempo_chegada_int</th><th>cidade_origem</th><th>uf_origem_x</th><th>cidade_destino</th><th>uf_destino_x</th><th>mes_partida</th><th>dia_semana_partida</th><th>dia_mes_partida</th><th>hora_partida</th><th>mes_chegada</th><th>dia_semana_chegada</th><th>dia_mes_chegada</th><th>hora_chegada</th><th>altitude_origem</th><th>latgeopoint_origem</th><th>longeopoint_origem</th><th>latitude_aero_origem</th><th>longitude_aero_origem</th><th>altitude_destino</th><th>latgeopoint_destino</th><th>longeopoint_destino</th><th>latitude_aero_destino</th><th>longitude_aero_destino</th><th>rota</th><th>partida_prevista_data</th><th>chegada_prevista_data</th></tr>\n",
       "<tr><td>TAM</td><td>8033</td><td>0</td><td>I</td><td>2022-01-18 12:35:00</td><td>NULL</td><td>2022-01-18 15:10:00</td><td>NULL</td><td>NULL</td><td>JORGE NEWBERY AIR...</td><td>ARGENTINA</td><td>AMERICA DO SUL</td><td>GUARULHOS - GOVER...</td><td>BRASIL</td><td>AMERICA DO SUL</td><td>Pontual</td><td>0</td><td>0</td><td>0</td><td>0</td><td>BUENOS AIRES/AERO...</td><td>NULL</td><td>GUARULHOS</td><td>SP</td><td>1.0</td><td>1.0</td><td>18.0</td><td>12</td><td>1.0</td><td>1.0</td><td>18.0</td><td>15</td><td>NULL</td><td>NULL</td><td>NULL</td><td>NULL</td><td>NULL</td><td>750.0</td><td>-23.435.556</td><td>-46.473.056</td><td>-23.43555555555556</td><td>-46.473055555555554</td><td>JORGE NEWBERY AIR...</td><td>2022-01-18</td><td>2022-01-18</td></tr>\n",
       "<tr><td>TAM</td><td>3309</td><td>0</td><td>N</td><td>2022-12-04 19:20:00</td><td>2022-12-04 19:20:00</td><td>2022-12-04 22:50:00</td><td>2022-12-04 22:48:00</td><td>REALIZADO</td><td>PINTO MARTINS</td><td>BRASIL</td><td>AMERICA DO SUL</td><td>GUARULHOS - GOVER...</td><td>BRASIL</td><td>AMERICA DO SUL</td><td>Pontual</td><td>0 days 00:00:00</td><td>0 days 00:02:00</td><td>0</td><td>2</td><td>FORTALEZA</td><td>CE</td><td>GUARULHOS</td><td>SP</td><td>12.0</td><td>6.0</td><td>4.0</td><td>19</td><td>12.0</td><td>6.0</td><td>4.0</td><td>22</td><td>25.0</td><td>-37.758.333</td><td>-38.532.222</td><td>-3.775833333333333</td><td>-38.532222222222224</td><td>750.0</td><td>-23.435.556</td><td>-46.473.056</td><td>-23.43555555555556</td><td>-46.473055555555554</td><td>PINTO MARTINS -&gt; ...</td><td>2022-12-04</td><td>2022-12-04</td></tr>\n",
       "<tr><td>TAM</td><td>3321</td><td>0</td><td>N</td><td>2022-12-21 16:05:00</td><td>2022-12-21 16:02:00</td><td>2022-12-21 17:10:00</td><td>2022-12-21 17:17:00</td><td>REALIZADO</td><td>AEROPORTO INTERNA...</td><td>BRASIL</td><td>AMERICA DO SUL</td><td>GUARULHOS - GOVER...</td><td>BRASIL</td><td>AMERICA DO SUL</td><td>Pontual</td><td>0 days 00:03:00</td><td>0 days 00:07:00</td><td>3</td><td>7</td><td>RIO DE JANEIRO</td><td>RJ</td><td>GUARULHOS</td><td>SP</td><td>12.0</td><td>2.0</td><td>21.0</td><td>16</td><td>12.0</td><td>2.0</td><td>21.0</td><td>17</td><td>9.0</td><td>-22.81</td><td>-43.250.556</td><td>-22.81</td><td>-43.25055555555556</td><td>750.0</td><td>-23.435.556</td><td>-46.473.056</td><td>-23.43555555555556</td><td>-46.473055555555554</td><td>AEROPORTO INTERNA...</td><td>2022-12-21</td><td>2022-12-21</td></tr>\n",
       "<tr><td>AZUL</td><td>2768</td><td>0</td><td>N</td><td>2022-09-21 13:25:00</td><td>2022-09-21 13:19:00</td><td>2022-09-21 16:40:00</td><td>2022-09-21 16:36:00</td><td>REALIZADO</td><td>GUARARAPES - GILB...</td><td>BRASIL</td><td>AMERICA DO SUL</td><td>GUARULHOS - GOVER...</td><td>BRASIL</td><td>AMERICA DO SUL</td><td>Pontual</td><td>0 days 00:06:00</td><td>0 days 00:04:00</td><td>6</td><td>4</td><td>RECIFE</td><td>PE</td><td>GUARULHOS</td><td>SP</td><td>9.0</td><td>2.0</td><td>21.0</td><td>13</td><td>9.0</td><td>2.0</td><td>21.0</td><td>16</td><td>10.0</td><td>-81.263.889</td><td>-34.922.778</td><td>-8.12638888888889</td><td>-34.922777777777775</td><td>750.0</td><td>-23.435.556</td><td>-46.473.056</td><td>-23.43555555555556</td><td>-46.473055555555554</td><td>GUARARAPES - GILB...</td><td>2022-09-21</td><td>2022-09-21</td></tr>\n",
       "<tr><td>GOL</td><td>1251</td><td>0</td><td>N</td><td>2022-07-18 18:15:00</td><td>2022-07-18 18:33:00</td><td>2022-07-18 19:35:00</td><td>2022-07-18 20:03:00</td><td>REALIZADO</td><td>HERCILIO LUZ</td><td>BRASIL</td><td>AMERICA DO SUL</td><td>GUARULHOS - GOVER...</td><td>BRASIL</td><td>AMERICA DO SUL</td><td>Atrasado</td><td>0 days 00:18:00</td><td>0 days 00:28:00</td><td>18</td><td>28</td><td>FLORIANOPOLIS</td><td>SC</td><td>GUARULHOS</td><td>SP</td><td>7.0</td><td>0.0</td><td>18.0</td><td>18</td><td>7.0</td><td>0.0</td><td>18.0</td><td>19</td><td>5.0</td><td>-27.670.278</td><td>-485.525</td><td>-27.67027777777778</td><td>-48.5525</td><td>750.0</td><td>-23.435.556</td><td>-46.473.056</td><td>-23.43555555555556</td><td>-46.473055555555554</td><td>HERCILIO LUZ -&gt; G...</td><td>2022-07-18</td><td>2022-07-18</td></tr>\n",
       "<tr><td>TAM</td><td>8045</td><td>0</td><td>I</td><td>2022-07-06 11:15:00</td><td>2022-07-06 11:21:00</td><td>2022-07-06 13:40:00</td><td>2022-07-06 14:33:00</td><td>REALIZADO</td><td>JORGE NEWBERY AIR...</td><td>ARGENTINA</td><td>AMERICA DO SUL</td><td>GUARULHOS - GOVER...</td><td>BRASIL</td><td>AMERICA DO SUL</td><td>Pontual</td><td>0 days 00:06:00</td><td>0 days 00:53:00</td><td>6</td><td>53</td><td>BUENOS AIRES/AERO...</td><td>NULL</td><td>GUARULHOS</td><td>SP</td><td>7.0</td><td>2.0</td><td>6.0</td><td>11</td><td>7.0</td><td>2.0</td><td>6.0</td><td>13</td><td>NULL</td><td>NULL</td><td>NULL</td><td>NULL</td><td>NULL</td><td>750.0</td><td>-23.435.556</td><td>-46.473.056</td><td>-23.43555555555556</td><td>-46.473055555555554</td><td>JORGE NEWBERY AIR...</td><td>2022-07-06</td><td>2022-07-06</td></tr>\n",
       "<tr><td>TAM</td><td>3423</td><td>0</td><td>N</td><td>2022-06-05 13:15:00</td><td>2022-06-05 13:10:00</td><td>2022-06-05 14:55:00</td><td>2022-06-05 14:57:00</td><td>REALIZADO</td><td>PRESIDENTE JUSCEL...</td><td>BRASIL</td><td>AMERICA DO SUL</td><td>GUARULHOS - GOVER...</td><td>BRASIL</td><td>AMERICA DO SUL</td><td>Pontual</td><td>0 days 00:05:00</td><td>0 days 00:02:00</td><td>5</td><td>2</td><td>BRASILIA</td><td>DF</td><td>GUARULHOS</td><td>SP</td><td>6.0</td><td>6.0</td><td>5.0</td><td>13</td><td>6.0</td><td>6.0</td><td>5.0</td><td>14</td><td>1066.0</td><td>-15.871.111</td><td>-47.918.611</td><td>-15.871111111111112</td><td>-47.91861111111111</td><td>750.0</td><td>-23.435.556</td><td>-46.473.056</td><td>-23.43555555555556</td><td>-46.473055555555554</td><td>PRESIDENTE JUSCEL...</td><td>2022-06-05</td><td>2022-06-05</td></tr>\n",
       "<tr><td>TAM</td><td>8045</td><td>0</td><td>I</td><td>2022-07-26 11:45:00</td><td>2022-07-26 11:41:00</td><td>2022-07-26 14:20:00</td><td>2022-07-26 14:06:00</td><td>REALIZADO</td><td>JORGE NEWBERY AIR...</td><td>ARGENTINA</td><td>AMERICA DO SUL</td><td>GUARULHOS - GOVER...</td><td>BRASIL</td><td>AMERICA DO SUL</td><td>Pontual</td><td>0 days 00:04:00</td><td>0 days 00:14:00</td><td>4</td><td>14</td><td>BUENOS AIRES/AERO...</td><td>NULL</td><td>GUARULHOS</td><td>SP</td><td>7.0</td><td>1.0</td><td>26.0</td><td>11</td><td>7.0</td><td>1.0</td><td>26.0</td><td>14</td><td>NULL</td><td>NULL</td><td>NULL</td><td>NULL</td><td>NULL</td><td>750.0</td><td>-23.435.556</td><td>-46.473.056</td><td>-23.43555555555556</td><td>-46.473055555555554</td><td>JORGE NEWBERY AIR...</td><td>2022-07-26</td><td>2022-07-26</td></tr>\n",
       "<tr><td>TAM</td><td>3687</td><td>0</td><td>N</td><td>2022-06-10 02:00:00</td><td>2022-06-10 01:50:00</td><td>2022-06-10 05:10:00</td><td>2022-06-10 04:51:00</td><td>REALIZADO</td><td>GUARARAPES - GILB...</td><td>BRASIL</td><td>AMERICA DO SUL</td><td>GUARULHOS - GOVER...</td><td>BRASIL</td><td>AMERICA DO SUL</td><td>Pontual</td><td>0 days 00:10:00</td><td>0 days 00:19:00</td><td>10</td><td>19</td><td>RECIFE</td><td>PE</td><td>GUARULHOS</td><td>SP</td><td>6.0</td><td>4.0</td><td>10.0</td><td>2</td><td>6.0</td><td>4.0</td><td>10.0</td><td>5</td><td>10.0</td><td>-81.263.889</td><td>-34.922.778</td><td>-8.12638888888889</td><td>-34.922777777777775</td><td>750.0</td><td>-23.435.556</td><td>-46.473.056</td><td>-23.43555555555556</td><td>-46.473055555555554</td><td>GUARARAPES - GILB...</td><td>2022-06-10</td><td>2022-06-10</td></tr>\n",
       "<tr><td>TAM</td><td>3321</td><td>0</td><td>N</td><td>2022-12-06 16:05:00</td><td>2022-12-06 16:07:00</td><td>2022-12-06 17:15:00</td><td>2022-12-06 17:26:00</td><td>REALIZADO</td><td>AEROPORTO INTERNA...</td><td>BRASIL</td><td>AMERICA DO SUL</td><td>GUARULHOS - GOVER...</td><td>BRASIL</td><td>AMERICA DO SUL</td><td>Pontual</td><td>0 days 00:02:00</td><td>0 days 00:11:00</td><td>2</td><td>11</td><td>RIO DE JANEIRO</td><td>RJ</td><td>GUARULHOS</td><td>SP</td><td>12.0</td><td>1.0</td><td>6.0</td><td>16</td><td>12.0</td><td>1.0</td><td>6.0</td><td>17</td><td>9.0</td><td>-22.81</td><td>-43.250.556</td><td>-22.81</td><td>-43.25055555555556</td><td>750.0</td><td>-23.435.556</td><td>-46.473.056</td><td>-23.43555555555556</td><td>-46.473055555555554</td><td>AEROPORTO INTERNA...</td><td>2022-12-06</td><td>2022-12-06</td></tr>\n",
       "</table>\n",
       "only showing top 10 rows\n"
      ],
      "text/plain": [
       "+-------------+----------+---------+-----------------+-------------------+-------------------+-------------------+-------------------+------------+--------------------+-----------+-----------------+--------------------+------------+------------------+-------------+-------------------------+-------------------------+-----------------------+-----------------------+--------------------+-----------+--------------+------------+-----------+------------------+---------------+------------+-----------+------------------+---------------+------------+---------------+------------------+------------------+--------------------+---------------------+----------------+-------------------+-------------------+---------------------+----------------------+--------------------+---------------------+---------------------+\n",
       "|nome_empresas|numero_voo|codigo_di|codigo_tipo_linha|   partida_prevista|       partida_real|   chegada_prevista|       chegada_real|situacao_voo|    descricao_origem|pais_origem|continente_origem|   descricao_destino|pais_destino|continente_destino|status_do_voo|delta_tempo_partida_delta|delta_tempo_chegada_delta|delta_tempo_partida_int|delta_tempo_chegada_int|       cidade_origem|uf_origem_x|cidade_destino|uf_destino_x|mes_partida|dia_semana_partida|dia_mes_partida|hora_partida|mes_chegada|dia_semana_chegada|dia_mes_chegada|hora_chegada|altitude_origem|latgeopoint_origem|longeopoint_origem|latitude_aero_origem|longitude_aero_origem|altitude_destino|latgeopoint_destino|longeopoint_destino|latitude_aero_destino|longitude_aero_destino|                rota|partida_prevista_data|chegada_prevista_data|\n",
       "+-------------+----------+---------+-----------------+-------------------+-------------------+-------------------+-------------------+------------+--------------------+-----------+-----------------+--------------------+------------+------------------+-------------+-------------------------+-------------------------+-----------------------+-----------------------+--------------------+-----------+--------------+------------+-----------+------------------+---------------+------------+-----------+------------------+---------------+------------+---------------+------------------+------------------+--------------------+---------------------+----------------+-------------------+-------------------+---------------------+----------------------+--------------------+---------------------+---------------------+\n",
       "|          TAM|      8033|        0|                I|2022-01-18 12:35:00|               NULL|2022-01-18 15:10:00|               NULL|        NULL|JORGE NEWBERY AIR...|  ARGENTINA|   AMERICA DO SUL|GUARULHOS - GOVER...|      BRASIL|    AMERICA DO SUL|      Pontual|                        0|                        0|                      0|                      0|BUENOS AIRES/AERO...|       NULL|     GUARULHOS|          SP|        1.0|               1.0|           18.0|          12|        1.0|               1.0|           18.0|          15|           NULL|              NULL|              NULL|                NULL|                 NULL|           750.0|        -23.435.556|        -46.473.056|   -23.43555555555556|   -46.473055555555554|JORGE NEWBERY AIR...|           2022-01-18|           2022-01-18|\n",
       "|          TAM|      3309|        0|                N|2022-12-04 19:20:00|2022-12-04 19:20:00|2022-12-04 22:50:00|2022-12-04 22:48:00|   REALIZADO|       PINTO MARTINS|     BRASIL|   AMERICA DO SUL|GUARULHOS - GOVER...|      BRASIL|    AMERICA DO SUL|      Pontual|          0 days 00:00:00|          0 days 00:02:00|                      0|                      2|           FORTALEZA|         CE|     GUARULHOS|          SP|       12.0|               6.0|            4.0|          19|       12.0|               6.0|            4.0|          22|           25.0|       -37.758.333|       -38.532.222|  -3.775833333333333|  -38.532222222222224|           750.0|        -23.435.556|        -46.473.056|   -23.43555555555556|   -46.473055555555554|PINTO MARTINS -> ...|           2022-12-04|           2022-12-04|\n",
       "|          TAM|      3321|        0|                N|2022-12-21 16:05:00|2022-12-21 16:02:00|2022-12-21 17:10:00|2022-12-21 17:17:00|   REALIZADO|AEROPORTO INTERNA...|     BRASIL|   AMERICA DO SUL|GUARULHOS - GOVER...|      BRASIL|    AMERICA DO SUL|      Pontual|          0 days 00:03:00|          0 days 00:07:00|                      3|                      7|      RIO DE JANEIRO|         RJ|     GUARULHOS|          SP|       12.0|               2.0|           21.0|          16|       12.0|               2.0|           21.0|          17|            9.0|            -22.81|       -43.250.556|              -22.81|   -43.25055555555556|           750.0|        -23.435.556|        -46.473.056|   -23.43555555555556|   -46.473055555555554|AEROPORTO INTERNA...|           2022-12-21|           2022-12-21|\n",
       "|         AZUL|      2768|        0|                N|2022-09-21 13:25:00|2022-09-21 13:19:00|2022-09-21 16:40:00|2022-09-21 16:36:00|   REALIZADO|GUARARAPES - GILB...|     BRASIL|   AMERICA DO SUL|GUARULHOS - GOVER...|      BRASIL|    AMERICA DO SUL|      Pontual|          0 days 00:06:00|          0 days 00:04:00|                      6|                      4|              RECIFE|         PE|     GUARULHOS|          SP|        9.0|               2.0|           21.0|          13|        9.0|               2.0|           21.0|          16|           10.0|       -81.263.889|       -34.922.778|   -8.12638888888889|  -34.922777777777775|           750.0|        -23.435.556|        -46.473.056|   -23.43555555555556|   -46.473055555555554|GUARARAPES - GILB...|           2022-09-21|           2022-09-21|\n",
       "|          GOL|      1251|        0|                N|2022-07-18 18:15:00|2022-07-18 18:33:00|2022-07-18 19:35:00|2022-07-18 20:03:00|   REALIZADO|        HERCILIO LUZ|     BRASIL|   AMERICA DO SUL|GUARULHOS - GOVER...|      BRASIL|    AMERICA DO SUL|     Atrasado|          0 days 00:18:00|          0 days 00:28:00|                     18|                     28|       FLORIANOPOLIS|         SC|     GUARULHOS|          SP|        7.0|               0.0|           18.0|          18|        7.0|               0.0|           18.0|          19|            5.0|       -27.670.278|          -485.525|  -27.67027777777778|             -48.5525|           750.0|        -23.435.556|        -46.473.056|   -23.43555555555556|   -46.473055555555554|HERCILIO LUZ -> G...|           2022-07-18|           2022-07-18|\n",
       "|          TAM|      8045|        0|                I|2022-07-06 11:15:00|2022-07-06 11:21:00|2022-07-06 13:40:00|2022-07-06 14:33:00|   REALIZADO|JORGE NEWBERY AIR...|  ARGENTINA|   AMERICA DO SUL|GUARULHOS - GOVER...|      BRASIL|    AMERICA DO SUL|      Pontual|          0 days 00:06:00|          0 days 00:53:00|                      6|                     53|BUENOS AIRES/AERO...|       NULL|     GUARULHOS|          SP|        7.0|               2.0|            6.0|          11|        7.0|               2.0|            6.0|          13|           NULL|              NULL|              NULL|                NULL|                 NULL|           750.0|        -23.435.556|        -46.473.056|   -23.43555555555556|   -46.473055555555554|JORGE NEWBERY AIR...|           2022-07-06|           2022-07-06|\n",
       "|          TAM|      3423|        0|                N|2022-06-05 13:15:00|2022-06-05 13:10:00|2022-06-05 14:55:00|2022-06-05 14:57:00|   REALIZADO|PRESIDENTE JUSCEL...|     BRASIL|   AMERICA DO SUL|GUARULHOS - GOVER...|      BRASIL|    AMERICA DO SUL|      Pontual|          0 days 00:05:00|          0 days 00:02:00|                      5|                      2|            BRASILIA|         DF|     GUARULHOS|          SP|        6.0|               6.0|            5.0|          13|        6.0|               6.0|            5.0|          14|         1066.0|       -15.871.111|       -47.918.611| -15.871111111111112|   -47.91861111111111|           750.0|        -23.435.556|        -46.473.056|   -23.43555555555556|   -46.473055555555554|PRESIDENTE JUSCEL...|           2022-06-05|           2022-06-05|\n",
       "|          TAM|      8045|        0|                I|2022-07-26 11:45:00|2022-07-26 11:41:00|2022-07-26 14:20:00|2022-07-26 14:06:00|   REALIZADO|JORGE NEWBERY AIR...|  ARGENTINA|   AMERICA DO SUL|GUARULHOS - GOVER...|      BRASIL|    AMERICA DO SUL|      Pontual|          0 days 00:04:00|          0 days 00:14:00|                      4|                     14|BUENOS AIRES/AERO...|       NULL|     GUARULHOS|          SP|        7.0|               1.0|           26.0|          11|        7.0|               1.0|           26.0|          14|           NULL|              NULL|              NULL|                NULL|                 NULL|           750.0|        -23.435.556|        -46.473.056|   -23.43555555555556|   -46.473055555555554|JORGE NEWBERY AIR...|           2022-07-26|           2022-07-26|\n",
       "|          TAM|      3687|        0|                N|2022-06-10 02:00:00|2022-06-10 01:50:00|2022-06-10 05:10:00|2022-06-10 04:51:00|   REALIZADO|GUARARAPES - GILB...|     BRASIL|   AMERICA DO SUL|GUARULHOS - GOVER...|      BRASIL|    AMERICA DO SUL|      Pontual|          0 days 00:10:00|          0 days 00:19:00|                     10|                     19|              RECIFE|         PE|     GUARULHOS|          SP|        6.0|               4.0|           10.0|           2|        6.0|               4.0|           10.0|           5|           10.0|       -81.263.889|       -34.922.778|   -8.12638888888889|  -34.922777777777775|           750.0|        -23.435.556|        -46.473.056|   -23.43555555555556|   -46.473055555555554|GUARARAPES - GILB...|           2022-06-10|           2022-06-10|\n",
       "|          TAM|      3321|        0|                N|2022-12-06 16:05:00|2022-12-06 16:07:00|2022-12-06 17:15:00|2022-12-06 17:26:00|   REALIZADO|AEROPORTO INTERNA...|     BRASIL|   AMERICA DO SUL|GUARULHOS - GOVER...|      BRASIL|    AMERICA DO SUL|      Pontual|          0 days 00:02:00|          0 days 00:11:00|                      2|                     11|      RIO DE JANEIRO|         RJ|     GUARULHOS|          SP|       12.0|               1.0|            6.0|          16|       12.0|               1.0|            6.0|          17|            9.0|            -22.81|       -43.250.556|              -22.81|   -43.25055555555556|           750.0|        -23.435.556|        -46.473.056|   -23.43555555555556|   -46.473055555555554|AEROPORTO INTERNA...|           2022-12-06|           2022-12-06|\n",
       "+-------------+----------+---------+-----------------+-------------------+-------------------+-------------------+-------------------+------------+--------------------+-----------+-----------------+--------------------+------------+------------------+-------------+-------------------------+-------------------------+-----------------------+-----------------------+--------------------+-----------+--------------+------------+-----------+------------------+---------------+------------+-----------+------------------+---------------+------------+---------------+------------------+------------------+--------------------+---------------------+----------------+-------------------+-------------------+---------------------+----------------------+--------------------+---------------------+---------------------+\n",
       "only showing top 10 rows"
      ]
     },
     "execution_count": 80,
     "metadata": {},
     "output_type": "execute_result"
    }
   ],
   "source": [
    "df_voos"
   ]
  },
  {
   "cell_type": "code",
   "execution_count": 81,
   "id": "fef394d9-2fd4-43d4-8826-a30e45226c73",
   "metadata": {},
   "outputs": [
    {
     "name": "stdout",
     "output_type": "stream",
     "text": [
      "root\n",
      " |-- nome_empresas: string (nullable = true)\n",
      " |-- numero_voo: string (nullable = true)\n",
      " |-- codigo_di: string (nullable = true)\n",
      " |-- codigo_tipo_linha: string (nullable = true)\n",
      " |-- partida_prevista: string (nullable = true)\n",
      " |-- partida_real: string (nullable = true)\n",
      " |-- chegada_prevista: string (nullable = true)\n",
      " |-- chegada_real: string (nullable = true)\n",
      " |-- situacao_voo: string (nullable = true)\n",
      " |-- descricao_origem: string (nullable = true)\n",
      " |-- pais_origem: string (nullable = true)\n",
      " |-- continente_origem: string (nullable = true)\n",
      " |-- descricao_destino: string (nullable = true)\n",
      " |-- pais_destino: string (nullable = true)\n",
      " |-- continente_destino: string (nullable = true)\n",
      " |-- status_do_voo: string (nullable = true)\n",
      " |-- delta_tempo_partida_delta: string (nullable = true)\n",
      " |-- delta_tempo_chegada_delta: string (nullable = true)\n",
      " |-- delta_tempo_partida_int: string (nullable = true)\n",
      " |-- delta_tempo_chegada_int: string (nullable = true)\n",
      " |-- cidade_origem: string (nullable = true)\n",
      " |-- uf_origem_x: string (nullable = true)\n",
      " |-- cidade_destino: string (nullable = true)\n",
      " |-- uf_destino_x: string (nullable = true)\n",
      " |-- mes_partida: string (nullable = true)\n",
      " |-- dia_semana_partida: string (nullable = true)\n",
      " |-- dia_mes_partida: string (nullable = true)\n",
      " |-- hora_partida: integer (nullable = true)\n",
      " |-- mes_chegada: string (nullable = true)\n",
      " |-- dia_semana_chegada: string (nullable = true)\n",
      " |-- dia_mes_chegada: string (nullable = true)\n",
      " |-- hora_chegada: integer (nullable = true)\n",
      " |-- altitude_origem: string (nullable = true)\n",
      " |-- latgeopoint_origem: string (nullable = true)\n",
      " |-- longeopoint_origem: string (nullable = true)\n",
      " |-- latitude_aero_origem: string (nullable = true)\n",
      " |-- longitude_aero_origem: string (nullable = true)\n",
      " |-- altitude_destino: string (nullable = true)\n",
      " |-- latgeopoint_destino: string (nullable = true)\n",
      " |-- longeopoint_destino: string (nullable = true)\n",
      " |-- latitude_aero_destino: string (nullable = true)\n",
      " |-- longitude_aero_destino: string (nullable = true)\n",
      " |-- rota: string (nullable = true)\n",
      " |-- partida_prevista_data: date (nullable = true)\n",
      " |-- chegada_prevista_data: date (nullable = true)\n",
      "\n"
     ]
    }
   ],
   "source": [
    "df_voos.printSchema()"
   ]
  },
  {
   "cell_type": "code",
   "execution_count": 82,
   "id": "d4d4823b-ea5b-4f29-b883-fce9de7f5d9f",
   "metadata": {},
   "outputs": [],
   "source": [
    "df_voos = df_voos.withColumnRenamed(\"partida_prevista_data\", \"data_partida\") \\\n",
    "                 .withColumnRenamed(\"hora_partida\", \"hora_partida\") \\\n",
    "                 .withColumnRenamed(\"cidade_origem\", \"cidade_origem\") \\\n",
    "                 .withColumnRenamed(\"uf_origem_x\", \"uf_origem\")\n",
    "\n",
    "df_voos = df_voos.withColumnRenamed(\"chegada_prevista_data\", \"data_chegada\") \\\n",
    "                 .withColumnRenamed(\"uf_destino_x\", \"uf_destino\")\n",
    "\n",
    "# Convertendo as colunas data_partida e data_chegada para string\n",
    "df_voos = df_voos.withColumn(\"data_partida\", col(\"data_partida\").cast(\"string\")) \\\n",
    "       .withColumn(\"data_chegada\", col(\"data_chegada\").cast(\"string\"))"
   ]
  },
  {
   "cell_type": "markdown",
   "id": "f9113ef5-3dbc-4d1a-9cbb-156243dbc707",
   "metadata": {},
   "source": [
    "## Join entre os datasets"
   ]
  },
  {
   "cell_type": "code",
   "execution_count": 83,
   "id": "654985ef-3b98-45bd-aaa2-49115a7ff89f",
   "metadata": {},
   "outputs": [],
   "source": [
    "# Colunas para realizar o join\n",
    "join_cols = ['data_chegada', 'hora_chegada', 'cidade_destino', 'uf_destino']\n",
    "\n",
    "# Realizando o join\n",
    "df_joined = df_voos.join(df_destino, on=join_cols, how='left').drop(df_destino.data_chegada, df_destino.hora_chegada, df_destino.cidade_destino, df_destino.uf_destino, df_destino.altitude_destino)\n",
    "\n",
    "# Colunas para realizar o join\n",
    "join_cols = ['data_partida','hora_partida','cidade_origem','uf_origem']\n",
    "\n",
    "# Realizando o join\n",
    "df_joined_final = df_joined.join(df_origem, on=join_cols, how='left').drop(df_origem.data_partida, df_origem.hora_partida, df_origem.cidade_origem, df_origem.uf_origem, df_origem.altitude_origem)\n",
    "\n",
    "df_joined_final = df_joined_final.dropDuplicates()"
   ]
  },
  {
   "cell_type": "code",
   "execution_count": 84,
   "id": "45853e9f-74cc-4b13-8bc6-5f1d5ce15ef6",
   "metadata": {},
   "outputs": [],
   "source": [
    "df_joined_final = df_joined_final.withColumn(\"ano\", lit(2023))"
   ]
  },
  {
   "cell_type": "code",
   "execution_count": 85,
   "id": "816b0d3f-d1e9-4fa6-8a7d-7b281cc09709",
   "metadata": {},
   "outputs": [
    {
     "data": {
      "text/html": [
       "<table border='1'>\n",
       "<tr><th>data_partida</th><th>hora_partida</th><th>cidade_origem</th><th>uf_origem</th><th>data_chegada</th><th>hora_chegada</th><th>cidade_destino</th><th>uf_destino</th><th>nome_empresas</th><th>numero_voo</th><th>codigo_di</th><th>codigo_tipo_linha</th><th>partida_prevista</th><th>partida_real</th><th>chegada_prevista</th><th>chegada_real</th><th>situacao_voo</th><th>descricao_origem</th><th>pais_origem</th><th>continente_origem</th><th>descricao_destino</th><th>pais_destino</th><th>continente_destino</th><th>status_do_voo</th><th>delta_tempo_partida_delta</th><th>delta_tempo_chegada_delta</th><th>delta_tempo_partida_int</th><th>delta_tempo_chegada_int</th><th>mes_partida</th><th>dia_semana_partida</th><th>dia_mes_partida</th><th>mes_chegada</th><th>dia_semana_chegada</th><th>dia_mes_chegada</th><th>altitude_origem</th><th>latgeopoint_origem</th><th>longeopoint_origem</th><th>latitude_aero_origem</th><th>longitude_aero_origem</th><th>altitude_destino</th><th>latgeopoint_destino</th><th>longeopoint_destino</th><th>latitude_aero_destino</th><th>longitude_aero_destino</th><th>rota</th><th>regiao_destino</th><th>precipitacao_total_horario_mm__destino</th><th>pressao_atmosferica_ao_nivel_da_estacao_horaria_mb__destino</th><th>pressao_atmosferica_max_na_hora_ant_aut_mb__destino</th><th>pressao_atmosferica_min_na_hora_ant_aut_mb__destino</th><th>temperatura_do_ar_bulbo_seco_horaria_degc__destino</th><th>temperatura_do_ponto_de_orvalho_degc__destino</th><th>temperatura_maxima_na_hora_ant_aut_degc__destino</th><th>temperatura_minima_na_hora_ant_aut_degc__destino</th><th>temperatura_orvalho_max_na_hora_ant_aut_degc__destino</th><th>temperatura_orvalho_min_na_hora_ant_aut_degc__destino</th><th>umidade_rel_max_na_hora_ant_aut_pcnt__destino</th><th>umidade_rel_min_na_hora_ant_aut_pcnt__destino</th><th>umidade_relativa_do_ar_horaria_pcnt__destino</th><th>vento_direcao_horaria_gr_deg_gr__destino</th><th>vento_rajada_maxima_ms__destino</th><th>vento_velocidade_horaria_ms__destino</th><th>regiao_origem</th><th>precipitacao_total_horario_mm__origem</th><th>pressao_atmosferica_ao_nivel_da_estacao_horaria_mb__origem</th><th>pressao_atmosferica_max_na_hora_ant_aut_mb__origem</th><th>pressao_atmosferica_min_na_hora_ant_aut_mb__origem</th><th>temperatura_do_ar_bulbo_seco_horaria_degc__origem</th><th>temperatura_do_ponto_de_orvalho_degc__origem</th><th>temperatura_maxima_na_hora_ant_aut_degc__origem</th><th>temperatura_minima_na_hora_ant_aut_degc__origem</th><th>temperatura_orvalho_max_na_hora_ant_aut_degc__origem</th><th>temperatura_orvalho_min_na_hora_ant_aut_degc__origem</th><th>umidade_rel_max_na_hora_ant_aut_pcnt__origem</th><th>umidade_rel_min_na_hora_ant_aut_pcnt__origem</th><th>umidade_relativa_do_ar_horaria_pcnt__origem</th><th>vento_direcao_horaria_gr_deg_gr__origem</th><th>vento_rajada_maxima_ms__origem</th><th>vento_velocidade_horaria_ms__origem</th><th>ano</th></tr>\n",
       "<tr><td>2022-01-18</td><td>12</td><td>BUENOS AIRES/AERO...</td><td>NULL</td><td>2022-01-18</td><td>15</td><td>GUARULHOS</td><td>SP</td><td>TAM</td><td>8033</td><td>0</td><td>I</td><td>2022-01-18 12:35:00</td><td>NULL</td><td>2022-01-18 15:10:00</td><td>NULL</td><td>NULL</td><td>JORGE NEWBERY AIR...</td><td>ARGENTINA</td><td>AMERICA DO SUL</td><td>GUARULHOS - GOVER...</td><td>BRASIL</td><td>AMERICA DO SUL</td><td>Pontual</td><td>0</td><td>0</td><td>0</td><td>0</td><td>1.0</td><td>1.0</td><td>18.0</td><td>1.0</td><td>1.0</td><td>18.0</td><td>NULL</td><td>NULL</td><td>NULL</td><td>NULL</td><td>NULL</td><td>750.0</td><td>-23.435.556</td><td>-46.473.056</td><td>-23.43555555555556</td><td>-46.473055555555554</td><td>JORGE NEWBERY AIR...</td><td>NULL</td><td>NULL</td><td>NULL</td><td>NULL</td><td>NULL</td><td>NULL</td><td>NULL</td><td>NULL</td><td>NULL</td><td>NULL</td><td>NULL</td><td>NULL</td><td>NULL</td><td>NULL</td><td>NULL</td><td>NULL</td><td>NULL</td><td>NULL</td><td>NULL</td><td>NULL</td><td>NULL</td><td>NULL</td><td>NULL</td><td>NULL</td><td>NULL</td><td>NULL</td><td>NULL</td><td>NULL</td><td>NULL</td><td>NULL</td><td>NULL</td><td>NULL</td><td>NULL</td><td>NULL</td><td>2023</td></tr>\n",
       "<tr><td>2022-04-13</td><td>11</td><td>FORTALEZA</td><td>CE</td><td>2022-04-13</td><td>14</td><td>GUARULHOS</td><td>SP</td><td>TAM</td><td>3307</td><td>0</td><td>N</td><td>2022-04-13 11:20:00</td><td>2022-04-13 11:11:00</td><td>2022-04-13 14:50:00</td><td>2022-04-13 14:30:00</td><td>NULL</td><td>PINTO MARTINS</td><td>BRASIL</td><td>AMERICA DO SUL</td><td>GUARULHOS - GOVER...</td><td>BRASIL</td><td>AMERICA DO SUL</td><td>Pontual</td><td>0 days 00:09:00</td><td>0 days 00:20:00</td><td>9</td><td>20</td><td>4.0</td><td>2.0</td><td>13.0</td><td>4.0</td><td>2.0</td><td>13.0</td><td>25.0</td><td>-37.758.333</td><td>-38.532.222</td><td>-3.775833333333333</td><td>-38.532222222222224</td><td>750.0</td><td>-23.435.556</td><td>-46.473.056</td><td>-23.43555555555556</td><td>-46.473055555555554</td><td>PINTO MARTINS -&gt; ...</td><td>NULL</td><td>NULL</td><td>NULL</td><td>NULL</td><td>NULL</td><td>NULL</td><td>NULL</td><td>NULL</td><td>NULL</td><td>NULL</td><td>NULL</td><td>NULL</td><td>NULL</td><td>NULL</td><td>NULL</td><td>NULL</td><td>NULL</td><td>NULL</td><td>NULL</td><td>NULL</td><td>NULL</td><td>NULL</td><td>NULL</td><td>NULL</td><td>NULL</td><td>NULL</td><td>NULL</td><td>NULL</td><td>NULL</td><td>NULL</td><td>NULL</td><td>NULL</td><td>NULL</td><td>NULL</td><td>2023</td></tr>\n",
       "<tr><td>2022-07-02</td><td>10</td><td>BRASILIA</td><td>DF</td><td>2022-07-02</td><td>12</td><td>GUARULHOS</td><td>SP</td><td>GOL</td><td>1403</td><td>0</td><td>N</td><td>2022-07-02 10:55:00</td><td>2022-07-02 10:51:00</td><td>2022-07-02 12:35:00</td><td>2022-07-02 12:29:00</td><td>REALIZADO</td><td>PRESIDENTE JUSCEL...</td><td>BRASIL</td><td>AMERICA DO SUL</td><td>GUARULHOS - GOVER...</td><td>BRASIL</td><td>AMERICA DO SUL</td><td>Pontual</td><td>0 days 00:04:00</td><td>0 days 00:06:00</td><td>4</td><td>6</td><td>7.0</td><td>5.0</td><td>2.0</td><td>7.0</td><td>5.0</td><td>2.0</td><td>1066.0</td><td>-15.871.111</td><td>-47.918.611</td><td>-15.871111111111112</td><td>-47.91861111111111</td><td>750.0</td><td>-23.435.556</td><td>-46.473.056</td><td>-23.43555555555556</td><td>-46.473055555555554</td><td>PRESIDENTE JUSCEL...</td><td>NULL</td><td>NULL</td><td>NULL</td><td>NULL</td><td>NULL</td><td>NULL</td><td>NULL</td><td>NULL</td><td>NULL</td><td>NULL</td><td>NULL</td><td>NULL</td><td>NULL</td><td>NULL</td><td>NULL</td><td>NULL</td><td>NULL</td><td>NULL</td><td>NULL</td><td>NULL</td><td>NULL</td><td>NULL</td><td>NULL</td><td>NULL</td><td>NULL</td><td>NULL</td><td>NULL</td><td>NULL</td><td>NULL</td><td>NULL</td><td>NULL</td><td>NULL</td><td>NULL</td><td>NULL</td><td>2023</td></tr>\n",
       "<tr><td>2022-03-06</td><td>8</td><td>SALVADOR</td><td>BA</td><td>2022-03-06</td><td>11</td><td>GUARULHOS</td><td>SP</td><td>TAM</td><td>3377</td><td>0</td><td>N</td><td>2022-03-06 08:50:00</td><td>2022-03-06 08:50:00</td><td>2022-03-06 11:20:00</td><td>2022-03-06 11:07:00</td><td>NULL</td><td>DEPUTADO LUIS EDU...</td><td>BRASIL</td><td>AMERICA DO SUL</td><td>GUARULHOS - GOVER...</td><td>BRASIL</td><td>AMERICA DO SUL</td><td>Pontual</td><td>0 days 00:00:00</td><td>0 days 00:13:00</td><td>0</td><td>13</td><td>3.0</td><td>6.0</td><td>6.0</td><td>3.0</td><td>6.0</td><td>6.0</td><td>20.0</td><td>-12.908.611</td><td>-383.225</td><td>-12.908611111111112</td><td>-38.322500000000005</td><td>750.0</td><td>-23.435.556</td><td>-46.473.056</td><td>-23.43555555555556</td><td>-46.473055555555554</td><td>DEPUTADO LUIS EDU...</td><td>NULL</td><td>NULL</td><td>NULL</td><td>NULL</td><td>NULL</td><td>NULL</td><td>NULL</td><td>NULL</td><td>NULL</td><td>NULL</td><td>NULL</td><td>NULL</td><td>NULL</td><td>NULL</td><td>NULL</td><td>NULL</td><td>NULL</td><td>NULL</td><td>NULL</td><td>NULL</td><td>NULL</td><td>NULL</td><td>NULL</td><td>NULL</td><td>NULL</td><td>NULL</td><td>NULL</td><td>NULL</td><td>NULL</td><td>NULL</td><td>NULL</td><td>NULL</td><td>NULL</td><td>NULL</td><td>2023</td></tr>\n",
       "<tr><td>2022-10-12</td><td>16</td><td>BUENOS AIRES/AERO...</td><td>NULL</td><td>2022-10-12</td><td>19</td><td>GUARULHOS</td><td>SP</td><td>TAM</td><td>8145</td><td>0</td><td>I</td><td>2022-10-12 16:55:00</td><td>2022-10-12 16:52:00</td><td>2022-10-12 19:35:00</td><td>2022-10-12 19:34:00</td><td>REALIZADO</td><td>JORGE NEWBERY AIR...</td><td>ARGENTINA</td><td>AMERICA DO SUL</td><td>GUARULHOS - GOVER...</td><td>BRASIL</td><td>AMERICA DO SUL</td><td>Pontual</td><td>0 days 00:03:00</td><td>0 days 00:01:00</td><td>3</td><td>1</td><td>10.0</td><td>2.0</td><td>12.0</td><td>10.0</td><td>2.0</td><td>12.0</td><td>NULL</td><td>NULL</td><td>NULL</td><td>NULL</td><td>NULL</td><td>750.0</td><td>-23.435.556</td><td>-46.473.056</td><td>-23.43555555555556</td><td>-46.473055555555554</td><td>JORGE NEWBERY AIR...</td><td>NULL</td><td>NULL</td><td>NULL</td><td>NULL</td><td>NULL</td><td>NULL</td><td>NULL</td><td>NULL</td><td>NULL</td><td>NULL</td><td>NULL</td><td>NULL</td><td>NULL</td><td>NULL</td><td>NULL</td><td>NULL</td><td>NULL</td><td>NULL</td><td>NULL</td><td>NULL</td><td>NULL</td><td>NULL</td><td>NULL</td><td>NULL</td><td>NULL</td><td>NULL</td><td>NULL</td><td>NULL</td><td>NULL</td><td>NULL</td><td>NULL</td><td>NULL</td><td>NULL</td><td>NULL</td><td>2023</td></tr>\n",
       "<tr><td>2022-10-05</td><td>21</td><td>MIAMI</td><td>NULL</td><td>2022-10-06</td><td>5</td><td>GUARULHOS</td><td>SP</td><td>TAM</td><td>8191</td><td>0</td><td>I</td><td>2022-10-05 21:20:00</td><td>2022-10-05 21:30:00</td><td>2022-10-06 05:35:00</td><td>2022-10-06 06:07:00</td><td>REALIZADO</td><td>MIAMI INTERNATION...</td><td>ESTADOS UNIDOS DA...</td><td>AMERICA DO NORTE</td><td>GUARULHOS - GOVER...</td><td>BRASIL</td><td>AMERICA DO SUL</td><td>Pontual</td><td>0 days 00:10:00</td><td>0 days 00:32:00</td><td>10</td><td>32</td><td>10.0</td><td>2.0</td><td>5.0</td><td>10.0</td><td>3.0</td><td>6.0</td><td>NULL</td><td>NULL</td><td>NULL</td><td>NULL</td><td>NULL</td><td>750.0</td><td>-23.435.556</td><td>-46.473.056</td><td>-23.43555555555556</td><td>-46.473055555555554</td><td>MIAMI INTERNATION...</td><td>NULL</td><td>NULL</td><td>NULL</td><td>NULL</td><td>NULL</td><td>NULL</td><td>NULL</td><td>NULL</td><td>NULL</td><td>NULL</td><td>NULL</td><td>NULL</td><td>NULL</td><td>NULL</td><td>NULL</td><td>NULL</td><td>NULL</td><td>NULL</td><td>NULL</td><td>NULL</td><td>NULL</td><td>NULL</td><td>NULL</td><td>NULL</td><td>NULL</td><td>NULL</td><td>NULL</td><td>NULL</td><td>NULL</td><td>NULL</td><td>NULL</td><td>NULL</td><td>NULL</td><td>NULL</td><td>2023</td></tr>\n",
       "<tr><td>2022-09-12</td><td>14</td><td>SALVADOR</td><td>BA</td><td>2022-09-12</td><td>16</td><td>GUARULHOS</td><td>SP</td><td>TAM</td><td>3489</td><td>0</td><td>N</td><td>2022-09-12 14:00:00</td><td>2022-09-12 14:01:00</td><td>2022-09-12 16:35:00</td><td>2022-09-12 16:36:00</td><td>REALIZADO</td><td>DEPUTADO LUIS EDU...</td><td>BRASIL</td><td>AMERICA DO SUL</td><td>GUARULHOS - GOVER...</td><td>BRASIL</td><td>AMERICA DO SUL</td><td>Pontual</td><td>0 days 00:01:00</td><td>0 days 00:01:00</td><td>1</td><td>1</td><td>9.0</td><td>0.0</td><td>12.0</td><td>9.0</td><td>0.0</td><td>12.0</td><td>20.0</td><td>-12.908.611</td><td>-383.225</td><td>-12.908611111111112</td><td>-38.322500000000005</td><td>750.0</td><td>-23.435.556</td><td>-46.473.056</td><td>-23.43555555555556</td><td>-46.473055555555554</td><td>DEPUTADO LUIS EDU...</td><td>NULL</td><td>NULL</td><td>NULL</td><td>NULL</td><td>NULL</td><td>NULL</td><td>NULL</td><td>NULL</td><td>NULL</td><td>NULL</td><td>NULL</td><td>NULL</td><td>NULL</td><td>NULL</td><td>NULL</td><td>NULL</td><td>NULL</td><td>NULL</td><td>NULL</td><td>NULL</td><td>NULL</td><td>NULL</td><td>NULL</td><td>NULL</td><td>NULL</td><td>NULL</td><td>NULL</td><td>NULL</td><td>NULL</td><td>NULL</td><td>NULL</td><td>NULL</td><td>NULL</td><td>NULL</td><td>2023</td></tr>\n",
       "<tr><td>2022-10-09</td><td>10</td><td>RECIFE</td><td>PE</td><td>2022-10-09</td><td>13</td><td>GUARULHOS</td><td>SP</td><td>GOL</td><td>1453</td><td>0</td><td>N</td><td>2022-10-09 10:40:00</td><td>2022-10-09 10:35:00</td><td>2022-10-09 13:55:00</td><td>2022-10-09 13:52:00</td><td>REALIZADO</td><td>GUARARAPES - GILB...</td><td>BRASIL</td><td>AMERICA DO SUL</td><td>GUARULHOS - GOVER...</td><td>BRASIL</td><td>AMERICA DO SUL</td><td>Pontual</td><td>0 days 00:05:00</td><td>0 days 00:03:00</td><td>5</td><td>3</td><td>10.0</td><td>6.0</td><td>9.0</td><td>10.0</td><td>6.0</td><td>9.0</td><td>10.0</td><td>-81.263.889</td><td>-34.922.778</td><td>-8.12638888888889</td><td>-34.922777777777775</td><td>750.0</td><td>-23.435.556</td><td>-46.473.056</td><td>-23.43555555555556</td><td>-46.473055555555554</td><td>GUARARAPES - GILB...</td><td>NULL</td><td>NULL</td><td>NULL</td><td>NULL</td><td>NULL</td><td>NULL</td><td>NULL</td><td>NULL</td><td>NULL</td><td>NULL</td><td>NULL</td><td>NULL</td><td>NULL</td><td>NULL</td><td>NULL</td><td>NULL</td><td>NULL</td><td>NULL</td><td>NULL</td><td>NULL</td><td>NULL</td><td>NULL</td><td>NULL</td><td>NULL</td><td>NULL</td><td>NULL</td><td>NULL</td><td>NULL</td><td>NULL</td><td>NULL</td><td>NULL</td><td>NULL</td><td>NULL</td><td>NULL</td><td>2023</td></tr>\n",
       "<tr><td>2022-09-10</td><td>4</td><td>RIO DE JANEIRO</td><td>RJ</td><td>2022-09-10</td><td>6</td><td>GUARULHOS</td><td>SP</td><td>TAM</td><td>3987</td><td>0</td><td>N</td><td>2022-09-10 04:50:00</td><td>2022-09-10 04:45:00</td><td>2022-09-10 06:00:00</td><td>2022-09-10 05:46:00</td><td>REALIZADO</td><td>AEROPORTO INTERNA...</td><td>BRASIL</td><td>AMERICA DO SUL</td><td>GUARULHOS - GOVER...</td><td>BRASIL</td><td>AMERICA DO SUL</td><td>Pontual</td><td>0 days 00:05:00</td><td>0 days 00:14:00</td><td>5</td><td>14</td><td>9.0</td><td>5.0</td><td>10.0</td><td>9.0</td><td>5.0</td><td>10.0</td><td>9.0</td><td>-22.81</td><td>-43.250.556</td><td>-22.81</td><td>-43.25055555555556</td><td>750.0</td><td>-23.435.556</td><td>-46.473.056</td><td>-23.43555555555556</td><td>-46.473055555555554</td><td>AEROPORTO INTERNA...</td><td>NULL</td><td>NULL</td><td>NULL</td><td>NULL</td><td>NULL</td><td>NULL</td><td>NULL</td><td>NULL</td><td>NULL</td><td>NULL</td><td>NULL</td><td>NULL</td><td>NULL</td><td>NULL</td><td>NULL</td><td>NULL</td><td>NULL</td><td>NULL</td><td>NULL</td><td>NULL</td><td>NULL</td><td>NULL</td><td>NULL</td><td>NULL</td><td>NULL</td><td>NULL</td><td>NULL</td><td>NULL</td><td>NULL</td><td>NULL</td><td>NULL</td><td>NULL</td><td>NULL</td><td>NULL</td><td>2023</td></tr>\n",
       "<tr><td>2022-11-11</td><td>22</td><td>FLORIANOPOLIS</td><td>SC</td><td>2022-11-11</td><td>23</td><td>GUARULHOS</td><td>SP</td><td>TAM</td><td>3297</td><td>0</td><td>N</td><td>2022-11-11 22:20:00</td><td>2022-11-11 22:15:00</td><td>2022-11-11 23:40:00</td><td>2022-11-11 23:29:00</td><td>REALIZADO</td><td>HERCILIO LUZ</td><td>BRASIL</td><td>AMERICA DO SUL</td><td>GUARULHOS - GOVER...</td><td>BRASIL</td><td>AMERICA DO SUL</td><td>Pontual</td><td>0 days 00:05:00</td><td>0 days 00:11:00</td><td>5</td><td>11</td><td>11.0</td><td>4.0</td><td>11.0</td><td>11.0</td><td>4.0</td><td>11.0</td><td>5.0</td><td>-27.670.278</td><td>-485.525</td><td>-27.67027777777778</td><td>-48.5525</td><td>750.0</td><td>-23.435.556</td><td>-46.473.056</td><td>-23.43555555555556</td><td>-46.473055555555554</td><td>HERCILIO LUZ -&gt; G...</td><td>NULL</td><td>NULL</td><td>NULL</td><td>NULL</td><td>NULL</td><td>NULL</td><td>NULL</td><td>NULL</td><td>NULL</td><td>NULL</td><td>NULL</td><td>NULL</td><td>NULL</td><td>NULL</td><td>NULL</td><td>NULL</td><td>NULL</td><td>NULL</td><td>NULL</td><td>NULL</td><td>NULL</td><td>NULL</td><td>NULL</td><td>NULL</td><td>NULL</td><td>NULL</td><td>NULL</td><td>NULL</td><td>NULL</td><td>NULL</td><td>NULL</td><td>NULL</td><td>NULL</td><td>NULL</td><td>2023</td></tr>\n",
       "</table>\n",
       "only showing top 10 rows\n"
      ],
      "text/plain": [
       "+------------+------------+--------------------+---------+------------+------------+--------------+----------+-------------+----------+---------+-----------------+-------------------+-------------------+-------------------+-------------------+------------+--------------------+--------------------+-----------------+--------------------+------------+------------------+-------------+-------------------------+-------------------------+-----------------------+-----------------------+-----------+------------------+---------------+-----------+------------------+---------------+---------------+------------------+------------------+--------------------+---------------------+----------------+-------------------+-------------------+---------------------+----------------------+--------------------+--------------+--------------------------------------+-----------------------------------------------------------+---------------------------------------------------+---------------------------------------------------+--------------------------------------------------+---------------------------------------------+------------------------------------------------+------------------------------------------------+-----------------------------------------------------+-----------------------------------------------------+---------------------------------------------+---------------------------------------------+--------------------------------------------+----------------------------------------+-------------------------------+------------------------------------+-------------+-------------------------------------+----------------------------------------------------------+--------------------------------------------------+--------------------------------------------------+-------------------------------------------------+--------------------------------------------+-----------------------------------------------+-----------------------------------------------+----------------------------------------------------+----------------------------------------------------+--------------------------------------------+--------------------------------------------+-------------------------------------------+---------------------------------------+------------------------------+-----------------------------------+----+\n",
       "|data_partida|hora_partida|       cidade_origem|uf_origem|data_chegada|hora_chegada|cidade_destino|uf_destino|nome_empresas|numero_voo|codigo_di|codigo_tipo_linha|   partida_prevista|       partida_real|   chegada_prevista|       chegada_real|situacao_voo|    descricao_origem|         pais_origem|continente_origem|   descricao_destino|pais_destino|continente_destino|status_do_voo|delta_tempo_partida_delta|delta_tempo_chegada_delta|delta_tempo_partida_int|delta_tempo_chegada_int|mes_partida|dia_semana_partida|dia_mes_partida|mes_chegada|dia_semana_chegada|dia_mes_chegada|altitude_origem|latgeopoint_origem|longeopoint_origem|latitude_aero_origem|longitude_aero_origem|altitude_destino|latgeopoint_destino|longeopoint_destino|latitude_aero_destino|longitude_aero_destino|                rota|regiao_destino|precipitacao_total_horario_mm__destino|pressao_atmosferica_ao_nivel_da_estacao_horaria_mb__destino|pressao_atmosferica_max_na_hora_ant_aut_mb__destino|pressao_atmosferica_min_na_hora_ant_aut_mb__destino|temperatura_do_ar_bulbo_seco_horaria_degc__destino|temperatura_do_ponto_de_orvalho_degc__destino|temperatura_maxima_na_hora_ant_aut_degc__destino|temperatura_minima_na_hora_ant_aut_degc__destino|temperatura_orvalho_max_na_hora_ant_aut_degc__destino|temperatura_orvalho_min_na_hora_ant_aut_degc__destino|umidade_rel_max_na_hora_ant_aut_pcnt__destino|umidade_rel_min_na_hora_ant_aut_pcnt__destino|umidade_relativa_do_ar_horaria_pcnt__destino|vento_direcao_horaria_gr_deg_gr__destino|vento_rajada_maxima_ms__destino|vento_velocidade_horaria_ms__destino|regiao_origem|precipitacao_total_horario_mm__origem|pressao_atmosferica_ao_nivel_da_estacao_horaria_mb__origem|pressao_atmosferica_max_na_hora_ant_aut_mb__origem|pressao_atmosferica_min_na_hora_ant_aut_mb__origem|temperatura_do_ar_bulbo_seco_horaria_degc__origem|temperatura_do_ponto_de_orvalho_degc__origem|temperatura_maxima_na_hora_ant_aut_degc__origem|temperatura_minima_na_hora_ant_aut_degc__origem|temperatura_orvalho_max_na_hora_ant_aut_degc__origem|temperatura_orvalho_min_na_hora_ant_aut_degc__origem|umidade_rel_max_na_hora_ant_aut_pcnt__origem|umidade_rel_min_na_hora_ant_aut_pcnt__origem|umidade_relativa_do_ar_horaria_pcnt__origem|vento_direcao_horaria_gr_deg_gr__origem|vento_rajada_maxima_ms__origem|vento_velocidade_horaria_ms__origem| ano|\n",
       "+------------+------------+--------------------+---------+------------+------------+--------------+----------+-------------+----------+---------+-----------------+-------------------+-------------------+-------------------+-------------------+------------+--------------------+--------------------+-----------------+--------------------+------------+------------------+-------------+-------------------------+-------------------------+-----------------------+-----------------------+-----------+------------------+---------------+-----------+------------------+---------------+---------------+------------------+------------------+--------------------+---------------------+----------------+-------------------+-------------------+---------------------+----------------------+--------------------+--------------+--------------------------------------+-----------------------------------------------------------+---------------------------------------------------+---------------------------------------------------+--------------------------------------------------+---------------------------------------------+------------------------------------------------+------------------------------------------------+-----------------------------------------------------+-----------------------------------------------------+---------------------------------------------+---------------------------------------------+--------------------------------------------+----------------------------------------+-------------------------------+------------------------------------+-------------+-------------------------------------+----------------------------------------------------------+--------------------------------------------------+--------------------------------------------------+-------------------------------------------------+--------------------------------------------+-----------------------------------------------+-----------------------------------------------+----------------------------------------------------+----------------------------------------------------+--------------------------------------------+--------------------------------------------+-------------------------------------------+---------------------------------------+------------------------------+-----------------------------------+----+\n",
       "|  2022-01-18|          12|BUENOS AIRES/AERO...|     NULL|  2022-01-18|          15|     GUARULHOS|        SP|          TAM|      8033|        0|                I|2022-01-18 12:35:00|               NULL|2022-01-18 15:10:00|               NULL|        NULL|JORGE NEWBERY AIR...|           ARGENTINA|   AMERICA DO SUL|GUARULHOS - GOVER...|      BRASIL|    AMERICA DO SUL|      Pontual|                        0|                        0|                      0|                      0|        1.0|               1.0|           18.0|        1.0|               1.0|           18.0|           NULL|              NULL|              NULL|                NULL|                 NULL|           750.0|        -23.435.556|        -46.473.056|   -23.43555555555556|   -46.473055555555554|JORGE NEWBERY AIR...|          NULL|                                  NULL|                                                       NULL|                                               NULL|                                               NULL|                                              NULL|                                         NULL|                                            NULL|                                            NULL|                                                 NULL|                                                 NULL|                                         NULL|                                         NULL|                                        NULL|                                    NULL|                           NULL|                                NULL|         NULL|                                 NULL|                                                      NULL|                                              NULL|                                              NULL|                                             NULL|                                        NULL|                                           NULL|                                           NULL|                                                NULL|                                                NULL|                                        NULL|                                        NULL|                                       NULL|                                   NULL|                          NULL|                               NULL|2023|\n",
       "|  2022-04-13|          11|           FORTALEZA|       CE|  2022-04-13|          14|     GUARULHOS|        SP|          TAM|      3307|        0|                N|2022-04-13 11:20:00|2022-04-13 11:11:00|2022-04-13 14:50:00|2022-04-13 14:30:00|        NULL|       PINTO MARTINS|              BRASIL|   AMERICA DO SUL|GUARULHOS - GOVER...|      BRASIL|    AMERICA DO SUL|      Pontual|          0 days 00:09:00|          0 days 00:20:00|                      9|                     20|        4.0|               2.0|           13.0|        4.0|               2.0|           13.0|           25.0|       -37.758.333|       -38.532.222|  -3.775833333333333|  -38.532222222222224|           750.0|        -23.435.556|        -46.473.056|   -23.43555555555556|   -46.473055555555554|PINTO MARTINS -> ...|          NULL|                                  NULL|                                                       NULL|                                               NULL|                                               NULL|                                              NULL|                                         NULL|                                            NULL|                                            NULL|                                                 NULL|                                                 NULL|                                         NULL|                                         NULL|                                        NULL|                                    NULL|                           NULL|                                NULL|         NULL|                                 NULL|                                                      NULL|                                              NULL|                                              NULL|                                             NULL|                                        NULL|                                           NULL|                                           NULL|                                                NULL|                                                NULL|                                        NULL|                                        NULL|                                       NULL|                                   NULL|                          NULL|                               NULL|2023|\n",
       "|  2022-07-02|          10|            BRASILIA|       DF|  2022-07-02|          12|     GUARULHOS|        SP|          GOL|      1403|        0|                N|2022-07-02 10:55:00|2022-07-02 10:51:00|2022-07-02 12:35:00|2022-07-02 12:29:00|   REALIZADO|PRESIDENTE JUSCEL...|              BRASIL|   AMERICA DO SUL|GUARULHOS - GOVER...|      BRASIL|    AMERICA DO SUL|      Pontual|          0 days 00:04:00|          0 days 00:06:00|                      4|                      6|        7.0|               5.0|            2.0|        7.0|               5.0|            2.0|         1066.0|       -15.871.111|       -47.918.611| -15.871111111111112|   -47.91861111111111|           750.0|        -23.435.556|        -46.473.056|   -23.43555555555556|   -46.473055555555554|PRESIDENTE JUSCEL...|          NULL|                                  NULL|                                                       NULL|                                               NULL|                                               NULL|                                              NULL|                                         NULL|                                            NULL|                                            NULL|                                                 NULL|                                                 NULL|                                         NULL|                                         NULL|                                        NULL|                                    NULL|                           NULL|                                NULL|         NULL|                                 NULL|                                                      NULL|                                              NULL|                                              NULL|                                             NULL|                                        NULL|                                           NULL|                                           NULL|                                                NULL|                                                NULL|                                        NULL|                                        NULL|                                       NULL|                                   NULL|                          NULL|                               NULL|2023|\n",
       "|  2022-03-06|           8|            SALVADOR|       BA|  2022-03-06|          11|     GUARULHOS|        SP|          TAM|      3377|        0|                N|2022-03-06 08:50:00|2022-03-06 08:50:00|2022-03-06 11:20:00|2022-03-06 11:07:00|        NULL|DEPUTADO LUIS EDU...|              BRASIL|   AMERICA DO SUL|GUARULHOS - GOVER...|      BRASIL|    AMERICA DO SUL|      Pontual|          0 days 00:00:00|          0 days 00:13:00|                      0|                     13|        3.0|               6.0|            6.0|        3.0|               6.0|            6.0|           20.0|       -12.908.611|          -383.225| -12.908611111111112|  -38.322500000000005|           750.0|        -23.435.556|        -46.473.056|   -23.43555555555556|   -46.473055555555554|DEPUTADO LUIS EDU...|          NULL|                                  NULL|                                                       NULL|                                               NULL|                                               NULL|                                              NULL|                                         NULL|                                            NULL|                                            NULL|                                                 NULL|                                                 NULL|                                         NULL|                                         NULL|                                        NULL|                                    NULL|                           NULL|                                NULL|         NULL|                                 NULL|                                                      NULL|                                              NULL|                                              NULL|                                             NULL|                                        NULL|                                           NULL|                                           NULL|                                                NULL|                                                NULL|                                        NULL|                                        NULL|                                       NULL|                                   NULL|                          NULL|                               NULL|2023|\n",
       "|  2022-10-12|          16|BUENOS AIRES/AERO...|     NULL|  2022-10-12|          19|     GUARULHOS|        SP|          TAM|      8145|        0|                I|2022-10-12 16:55:00|2022-10-12 16:52:00|2022-10-12 19:35:00|2022-10-12 19:34:00|   REALIZADO|JORGE NEWBERY AIR...|           ARGENTINA|   AMERICA DO SUL|GUARULHOS - GOVER...|      BRASIL|    AMERICA DO SUL|      Pontual|          0 days 00:03:00|          0 days 00:01:00|                      3|                      1|       10.0|               2.0|           12.0|       10.0|               2.0|           12.0|           NULL|              NULL|              NULL|                NULL|                 NULL|           750.0|        -23.435.556|        -46.473.056|   -23.43555555555556|   -46.473055555555554|JORGE NEWBERY AIR...|          NULL|                                  NULL|                                                       NULL|                                               NULL|                                               NULL|                                              NULL|                                         NULL|                                            NULL|                                            NULL|                                                 NULL|                                                 NULL|                                         NULL|                                         NULL|                                        NULL|                                    NULL|                           NULL|                                NULL|         NULL|                                 NULL|                                                      NULL|                                              NULL|                                              NULL|                                             NULL|                                        NULL|                                           NULL|                                           NULL|                                                NULL|                                                NULL|                                        NULL|                                        NULL|                                       NULL|                                   NULL|                          NULL|                               NULL|2023|\n",
       "|  2022-10-05|          21|               MIAMI|     NULL|  2022-10-06|           5|     GUARULHOS|        SP|          TAM|      8191|        0|                I|2022-10-05 21:20:00|2022-10-05 21:30:00|2022-10-06 05:35:00|2022-10-06 06:07:00|   REALIZADO|MIAMI INTERNATION...|ESTADOS UNIDOS DA...| AMERICA DO NORTE|GUARULHOS - GOVER...|      BRASIL|    AMERICA DO SUL|      Pontual|          0 days 00:10:00|          0 days 00:32:00|                     10|                     32|       10.0|               2.0|            5.0|       10.0|               3.0|            6.0|           NULL|              NULL|              NULL|                NULL|                 NULL|           750.0|        -23.435.556|        -46.473.056|   -23.43555555555556|   -46.473055555555554|MIAMI INTERNATION...|          NULL|                                  NULL|                                                       NULL|                                               NULL|                                               NULL|                                              NULL|                                         NULL|                                            NULL|                                            NULL|                                                 NULL|                                                 NULL|                                         NULL|                                         NULL|                                        NULL|                                    NULL|                           NULL|                                NULL|         NULL|                                 NULL|                                                      NULL|                                              NULL|                                              NULL|                                             NULL|                                        NULL|                                           NULL|                                           NULL|                                                NULL|                                                NULL|                                        NULL|                                        NULL|                                       NULL|                                   NULL|                          NULL|                               NULL|2023|\n",
       "|  2022-09-12|          14|            SALVADOR|       BA|  2022-09-12|          16|     GUARULHOS|        SP|          TAM|      3489|        0|                N|2022-09-12 14:00:00|2022-09-12 14:01:00|2022-09-12 16:35:00|2022-09-12 16:36:00|   REALIZADO|DEPUTADO LUIS EDU...|              BRASIL|   AMERICA DO SUL|GUARULHOS - GOVER...|      BRASIL|    AMERICA DO SUL|      Pontual|          0 days 00:01:00|          0 days 00:01:00|                      1|                      1|        9.0|               0.0|           12.0|        9.0|               0.0|           12.0|           20.0|       -12.908.611|          -383.225| -12.908611111111112|  -38.322500000000005|           750.0|        -23.435.556|        -46.473.056|   -23.43555555555556|   -46.473055555555554|DEPUTADO LUIS EDU...|          NULL|                                  NULL|                                                       NULL|                                               NULL|                                               NULL|                                              NULL|                                         NULL|                                            NULL|                                            NULL|                                                 NULL|                                                 NULL|                                         NULL|                                         NULL|                                        NULL|                                    NULL|                           NULL|                                NULL|         NULL|                                 NULL|                                                      NULL|                                              NULL|                                              NULL|                                             NULL|                                        NULL|                                           NULL|                                           NULL|                                                NULL|                                                NULL|                                        NULL|                                        NULL|                                       NULL|                                   NULL|                          NULL|                               NULL|2023|\n",
       "|  2022-10-09|          10|              RECIFE|       PE|  2022-10-09|          13|     GUARULHOS|        SP|          GOL|      1453|        0|                N|2022-10-09 10:40:00|2022-10-09 10:35:00|2022-10-09 13:55:00|2022-10-09 13:52:00|   REALIZADO|GUARARAPES - GILB...|              BRASIL|   AMERICA DO SUL|GUARULHOS - GOVER...|      BRASIL|    AMERICA DO SUL|      Pontual|          0 days 00:05:00|          0 days 00:03:00|                      5|                      3|       10.0|               6.0|            9.0|       10.0|               6.0|            9.0|           10.0|       -81.263.889|       -34.922.778|   -8.12638888888889|  -34.922777777777775|           750.0|        -23.435.556|        -46.473.056|   -23.43555555555556|   -46.473055555555554|GUARARAPES - GILB...|          NULL|                                  NULL|                                                       NULL|                                               NULL|                                               NULL|                                              NULL|                                         NULL|                                            NULL|                                            NULL|                                                 NULL|                                                 NULL|                                         NULL|                                         NULL|                                        NULL|                                    NULL|                           NULL|                                NULL|         NULL|                                 NULL|                                                      NULL|                                              NULL|                                              NULL|                                             NULL|                                        NULL|                                           NULL|                                           NULL|                                                NULL|                                                NULL|                                        NULL|                                        NULL|                                       NULL|                                   NULL|                          NULL|                               NULL|2023|\n",
       "|  2022-09-10|           4|      RIO DE JANEIRO|       RJ|  2022-09-10|           6|     GUARULHOS|        SP|          TAM|      3987|        0|                N|2022-09-10 04:50:00|2022-09-10 04:45:00|2022-09-10 06:00:00|2022-09-10 05:46:00|   REALIZADO|AEROPORTO INTERNA...|              BRASIL|   AMERICA DO SUL|GUARULHOS - GOVER...|      BRASIL|    AMERICA DO SUL|      Pontual|          0 days 00:05:00|          0 days 00:14:00|                      5|                     14|        9.0|               5.0|           10.0|        9.0|               5.0|           10.0|            9.0|            -22.81|       -43.250.556|              -22.81|   -43.25055555555556|           750.0|        -23.435.556|        -46.473.056|   -23.43555555555556|   -46.473055555555554|AEROPORTO INTERNA...|          NULL|                                  NULL|                                                       NULL|                                               NULL|                                               NULL|                                              NULL|                                         NULL|                                            NULL|                                            NULL|                                                 NULL|                                                 NULL|                                         NULL|                                         NULL|                                        NULL|                                    NULL|                           NULL|                                NULL|         NULL|                                 NULL|                                                      NULL|                                              NULL|                                              NULL|                                             NULL|                                        NULL|                                           NULL|                                           NULL|                                                NULL|                                                NULL|                                        NULL|                                        NULL|                                       NULL|                                   NULL|                          NULL|                               NULL|2023|\n",
       "|  2022-11-11|          22|       FLORIANOPOLIS|       SC|  2022-11-11|          23|     GUARULHOS|        SP|          TAM|      3297|        0|                N|2022-11-11 22:20:00|2022-11-11 22:15:00|2022-11-11 23:40:00|2022-11-11 23:29:00|   REALIZADO|        HERCILIO LUZ|              BRASIL|   AMERICA DO SUL|GUARULHOS - GOVER...|      BRASIL|    AMERICA DO SUL|      Pontual|          0 days 00:05:00|          0 days 00:11:00|                      5|                     11|       11.0|               4.0|           11.0|       11.0|               4.0|           11.0|            5.0|       -27.670.278|          -485.525|  -27.67027777777778|             -48.5525|           750.0|        -23.435.556|        -46.473.056|   -23.43555555555556|   -46.473055555555554|HERCILIO LUZ -> G...|          NULL|                                  NULL|                                                       NULL|                                               NULL|                                               NULL|                                              NULL|                                         NULL|                                            NULL|                                            NULL|                                                 NULL|                                                 NULL|                                         NULL|                                         NULL|                                        NULL|                                    NULL|                           NULL|                                NULL|         NULL|                                 NULL|                                                      NULL|                                              NULL|                                              NULL|                                             NULL|                                        NULL|                                           NULL|                                           NULL|                                                NULL|                                                NULL|                                        NULL|                                        NULL|                                       NULL|                                   NULL|                          NULL|                               NULL|2023|\n",
       "+------------+------------+--------------------+---------+------------+------------+--------------+----------+-------------+----------+---------+-----------------+-------------------+-------------------+-------------------+-------------------+------------+--------------------+--------------------+-----------------+--------------------+------------+------------------+-------------+-------------------------+-------------------------+-----------------------+-----------------------+-----------+------------------+---------------+-----------+------------------+---------------+---------------+------------------+------------------+--------------------+---------------------+----------------+-------------------+-------------------+---------------------+----------------------+--------------------+--------------+--------------------------------------+-----------------------------------------------------------+---------------------------------------------------+---------------------------------------------------+--------------------------------------------------+---------------------------------------------+------------------------------------------------+------------------------------------------------+-----------------------------------------------------+-----------------------------------------------------+---------------------------------------------+---------------------------------------------+--------------------------------------------+----------------------------------------+-------------------------------+------------------------------------+-------------+-------------------------------------+----------------------------------------------------------+--------------------------------------------------+--------------------------------------------------+-------------------------------------------------+--------------------------------------------+-----------------------------------------------+-----------------------------------------------+----------------------------------------------------+----------------------------------------------------+--------------------------------------------+--------------------------------------------+-------------------------------------------+---------------------------------------+------------------------------+-----------------------------------+----+\n",
       "only showing top 10 rows"
      ]
     },
     "execution_count": 85,
     "metadata": {},
     "output_type": "execute_result"
    }
   ],
   "source": [
    "df_joined_final"
   ]
  },
  {
   "cell_type": "code",
   "execution_count": 86,
   "id": "b3049df3-57f5-4309-af03-c9f3485796bf",
   "metadata": {},
   "outputs": [
    {
     "data": {
      "text/plain": [
       "715402"
      ]
     },
     "execution_count": 86,
     "metadata": {},
     "output_type": "execute_result"
    }
   ],
   "source": [
    "df_joined_final.count()"
   ]
  },
  {
   "cell_type": "markdown",
   "id": "c03c2112-7851-441c-8573-b47aea5ad3f1",
   "metadata": {},
   "source": [
    "# Salvando o dataset tratado com dados de meterologia"
   ]
  },
  {
   "cell_type": "code",
   "execution_count": 87,
   "id": "ccc3badd-03f5-4406-9994-45d818bc6a30",
   "metadata": {},
   "outputs": [],
   "source": [
    "# Reparticionando o DataFrame para uma única partição\n",
    "df_joined_final = df_joined_final.repartition(1)\n",
    "\n",
    "# Salvando o DataFrame em um único arquivo CSV\n",
    "(df_joined_final.write\n",
    "     .option(\"header\", \"true\")\n",
    "     .mode(\"overwrite\")\n",
    "     .csv(\"dados_tratados/historico_voo_meteorologia_left_2023.csv\"))"
   ]
  },
  {
   "cell_type": "code",
   "execution_count": null,
   "id": "7e965df2-89c4-46b2-8b2c-84efdc32efa0",
   "metadata": {},
   "outputs": [],
   "source": []
  }
 ],
 "metadata": {
  "kernelspec": {
   "display_name": "Python 3 (ipykernel)",
   "language": "python",
   "name": "python3"
  },
  "language_info": {
   "codemirror_mode": {
    "name": "ipython",
    "version": 3
   },
   "file_extension": ".py",
   "mimetype": "text/x-python",
   "name": "python",
   "nbconvert_exporter": "python",
   "pygments_lexer": "ipython3",
   "version": "3.11.0"
  }
 },
 "nbformat": 4,
 "nbformat_minor": 5
}
