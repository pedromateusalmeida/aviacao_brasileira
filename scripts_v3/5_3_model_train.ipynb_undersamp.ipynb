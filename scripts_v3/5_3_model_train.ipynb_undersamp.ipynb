{
 "cells": [
  {
   "cell_type": "code",
   "execution_count": 32,
   "id": "63834c32-5e30-4e20-911c-a5400b91971f",
   "metadata": {},
   "outputs": [],
   "source": [
    "#pip uninstall scikit-learn --yes\n",
    "#pip uninstall imblearn --yes\n",
    "#pip install scikit-learn==1.2.0\n",
    "#pip install scikit-optimize\n",
    "#pip install hyperopt==0.2.7\n",
    "#pip install imblearn\n",
    "#pip install scikit-plot\n",
    "#pip install -r requirements.txt"
   ]
  },
  {
   "cell_type": "markdown",
   "id": "dcc9b54c-4278-4cb6-a009-e0dc12007ef2",
   "metadata": {},
   "source": [
    "# Pacotes"
   ]
  },
  {
   "cell_type": "code",
   "execution_count": 1,
   "id": "cad7397a-c10b-410b-bdf4-dc0fa65edb25",
   "metadata": {},
   "outputs": [
    {
     "name": "stdout",
     "output_type": "stream",
     "text": [
      "xgboost: 2.0.2\n",
      "shap: 0.44.0\n",
      "2.0.2\n",
      "0.44.0\n",
      "1.4.2\n"
     ]
    }
   ],
   "source": [
    "# Manipulação de dados\n",
    "import pandas as pd\n",
    "import numpy as np\n",
    "from datetime import date\n",
    "from pytz import timezone\n",
    "\n",
    "# Visualização de dados\n",
    "import matplotlib.pyplot as plt\n",
    "import seaborn as sns\n",
    "import scikitplot as skplt\n",
    "plt.style.use('ggplot')\n",
    "\n",
    "# Machine Learning - Pré-processamento\n",
    "from sklearn.preprocessing import (\n",
    "    LabelEncoder, OneHotEncoder, StandardScaler\n",
    ")\n",
    "from sklearn.model_selection import (\n",
    "    train_test_split, cross_val_score, StratifiedKFold, RepeatedStratifiedKFold\n",
    ")\n",
    "from sklearn.pipeline import Pipeline\n",
    "\n",
    "# Machine Learning - Modelos e Métricas\n",
    "from sklearn.metrics import (\n",
    "    accuracy_score, f1_score, confusion_matrix, roc_auc_score, \n",
    "    recall_score, precision_score, log_loss, average_precision_score,\n",
    "    roc_curve, precision_recall_curve, balanced_accuracy_score,\n",
    "    matthews_corrcoef, cohen_kappa_score, brier_score_loss\n",
    ")\n",
    "\n",
    "# Modelos e otimização\n",
    "import xgboost as xgb\n",
    "from xgboost import XGBClassifier, plot_importance, plot_tree\n",
    "from hyperopt import fmin, tpe, hp, Trials, STATUS_OK, space_eval\n",
    "from hyperopt.pyll.base import scope\n",
    "import shap\n",
    "from skopt import forest_minimize\n",
    "import catboost as ctb\n",
    "from catboost import CatBoostClassifier\n",
    "\n",
    "# Balanceamento de classes\n",
    "from imblearn.over_sampling import SMOTE, SMOTENC\n",
    "from imblearn.under_sampling import RandomUnderSampler\n",
    "from imblearn.pipeline import make_pipeline\n",
    "\n",
    "# Salvamento e carregamento de modelos\n",
    "import pickle\n",
    "import os\n",
    "\n",
    "# Estatística\n",
    "from scipy.stats import ks_2samp\n",
    "\n",
    "# Outras ferramentas\n",
    "import re\n",
    "\n",
    "# Verificações de versão\n",
    "print(f\"xgboost: {xgb.__version__}\")\n",
    "print(f\"shap: {shap.__version__}\")\n",
    "#print(f\"sklearn: {sklearn.__version__}\")\n",
    "\n",
    "import pyarrow\n",
    "import xgboost as xgb\n",
    "from sklearn.model_selection import StratifiedKFold, cross_val_score\n",
    "from imblearn.under_sampling import RandomUnderSampler\n",
    "from sklearn.metrics import roc_auc_score\n",
    "\n",
    "\n",
    "import xgboost as xgb\n",
    "from sklearn.model_selection import StratifiedKFold, cross_val_score\n",
    "from imblearn.under_sampling import RandomUnderSampler\n",
    "from sklearn.metrics import roc_auc_score\n",
    "from hyperopt import fmin, tpe, Trials, STATUS_OK, hp, space_eval\n",
    "from hyperopt.pyll.base import scope\n",
    "\n",
    "from imblearn.under_sampling import RandomUnderSampler\n",
    "from xgboost import XGBClassifier\n",
    "\n",
    "from sklearn.calibration import calibration_curve\n",
    "import matplotlib.pyplot as plt\n",
    "\n",
    "import numpy as np\n",
    "from sklearn.metrics import (\n",
    "    accuracy_score, confusion_matrix, precision_recall_fscore_support, \n",
    "    roc_auc_score, average_precision_score, matthews_corrcoef, log_loss, \n",
    "    brier_score_loss, cohen_kappa_score, balanced_accuracy_score,\n",
    ")\n",
    "from scipy.stats import ks_2samp\n",
    "import matplotlib.pyplot as plt\n",
    "\n",
    "import pyarrow\n",
    "import xgboost as xgb\n",
    "from sklearn.model_selection import StratifiedKFold, cross_val_score\n",
    "from imblearn.under_sampling import RandomUnderSampler\n",
    "from sklearn.metrics import roc_auc_score\n",
    "from hyperopt import fmin, tpe, Trials, STATUS_OK, hp, space_eval\n",
    "from hyperopt.pyll.base import scope\n",
    "\n",
    "import xgboost as xgb\n",
    "from sklearn.model_selection import StratifiedKFold, cross_val_score\n",
    "from imblearn.under_sampling import RandomUnderSampler\n",
    "from sklearn.metrics import roc_auc_score\n",
    "from hyperopt import fmin, tpe, Trials, STATUS_OK, hp, space_eval\n",
    "from hyperopt.pyll.base import scope\n",
    "\n",
    "from imblearn.under_sampling import RandomUnderSampler\n",
    "from xgboost import XGBClassifier\n",
    "\n",
    "from imblearn.over_sampling import SMOTENC\n",
    "from sklearn.model_selection import StratifiedKFold, train_test_split, cross_validate\n",
    "from sklearn.preprocessing import OneHotEncoder\n",
    "import catboost as ctb\n",
    "from hyperopt import hp, fmin, tpe, Trials, STATUS_OK\n",
    "import numpy as np\n",
    "import pandas as pd\n",
    "\n",
    "from hyperopt import STATUS_OK, hp\n",
    "from sklearn.model_selection import StratifiedKFold, cross_validate\n",
    "import catboost as ctb\n",
    "import pandas as pd\n",
    "\n",
    "from imblearn.over_sampling import SMOTENC\n",
    "from catboost import CatBoostClassifier\n",
    "\n",
    "# Bibliotecas padrão e de manipulação de data\n",
    "from datetime import date\n",
    "import pandas as pd\n",
    "import numpy as np\n",
    "from pytz import timezone\n",
    "\n",
    "# Visualização de dados\n",
    "import seaborn as sns\n",
    "import matplotlib.pyplot as plt\n",
    "import scikitplot as skplt\n",
    "\n",
    "# Machine Learning - pré-processamento e métricas\n",
    "from sklearn import preprocessing\n",
    "from sklearn.preprocessing import LabelEncoder, OneHotEncoder, StandardScaler\n",
    "from sklearn.model_selection import train_test_split, cross_val_score, RepeatedStratifiedKFold, KFold, StratifiedKFold\n",
    "from sklearn.pipeline import Pipeline\n",
    "from sklearn.metrics import accuracy_score, f1_score, confusion_matrix, roc_auc_score, recall_score, precision_score, log_loss, average_precision_score\n",
    "from sklearn.metrics import roc_curve, precision_recall_curve\n",
    "\n",
    "# Machine Learning - modelos e otimização\n",
    "import xgboost as xgb\n",
    "from xgboost import plot_importance\n",
    "from xgboost import plot_tree\n",
    "import sklearn\n",
    "import shap\n",
    "from hyperopt import fmin, tpe, hp, Trials, STATUS_OK, space_eval\n",
    "from skopt import forest_minimize\n",
    "from imblearn.over_sampling import SMOTE\n",
    "from imblearn.pipeline import make_pipeline\n",
    "\n",
    "# Salvamento e carregamento de modelos\n",
    "import pickle\n",
    "import os\n",
    "\n",
    "# Outras bibliotecas\n",
    "import re\n",
    "\n",
    "plt.style.use('ggplot')\n",
    "print(xgb.__version__)\n",
    "print(shap.__version__)\n",
    "print(sklearn.__version__)\n",
    "#print(hyperopt.__version__)\n",
    "\n",
    "from hyperopt import fmin, tpe, Trials, STATUS_OK, hp, space_eval\n",
    "from hyperopt.pyll.base import scope"
   ]
  },
  {
   "cell_type": "markdown",
   "id": "282d5046-7a66-4e62-98a3-e368e1c004f3",
   "metadata": {},
   "source": [
    "# Funções"
   ]
  },
  {
   "cell_type": "code",
   "execution_count": 2,
   "id": "c88f3792-0af0-423c-8080-e4edaff449ec",
   "metadata": {},
   "outputs": [],
   "source": [
    "## Dummies\n",
    "def get_one_hot_enc(feature_col: pd.Series, enc: preprocessing.OneHotEncoder, column_name: str) -> pd.DataFrame:\n",
    "    \"\"\"\n",
    "    Aplica codificação one-hot a uma coluna específica de um DataFrame.\n",
    "\n",
    "    Args:\n",
    "    feature_col (pd.Series): Coluna do DataFrame para ser codificada.\n",
    "    enc (preprocessing.OneHotEncoder): Instância do OneHotEncoder treinada.\n",
    "    column_name (str): Nome da coluna a ser codificada.\n",
    "\n",
    "    Processo:\n",
    "    1. Cria um DataFrame com a coluna especificada.\n",
    "    2. Aplica a transformação one-hot usando o encoder fornecido.\n",
    "    3. Retorna um DataFrame com as colunas codificadas.\n",
    "\n",
    "    Returns:\n",
    "    pd.DataFrame: DataFrame com as colunas resultantes da codificação one-hot.\n",
    "    \"\"\"\n",
    "    unseen_df = pd.DataFrame(feature_col, columns=[column_name])\n",
    "    encoded_vec = enc.transform(unseen_df).toarray()\n",
    "    columns = enc.get_feature_names_out([column_name])\n",
    "    encoded_df = pd.DataFrame(encoded_vec, columns=columns)\n",
    "    return encoded_df\n",
    "\n",
    "\n",
    "# Função para salvar um modelo em um arquivo pickle\n",
    "def save_pickle(model, file_name: str):\n",
    "    \"\"\"\n",
    "    Salva um objeto modelo em um arquivo pickle.\n",
    "\n",
    "    Args:\n",
    "    model (any): O modelo a ser salvo.\n",
    "    file_name (str): Nome do arquivo pickle a ser criado.\n",
    "\n",
    "    Processo:\n",
    "    1. Abre o arquivo pickle em modo de escrita binária.\n",
    "    2. Salva o objeto modelo no arquivo pickle.\n",
    "    \"\"\"\n",
    "    with open(file_name, 'wb') as file:\n",
    "        pickle.dump(model, file)\n",
    "\n",
    "# Função para carregar um modelo de um arquivo pickle\n",
    "def load_pickle(file_name: str) -> any:\n",
    "    \"\"\"\n",
    "    Carrega um objeto a partir de um arquivo pickle.\n",
    "\n",
    "    Args:\n",
    "    file_name (str): Nome do arquivo pickle a ser carregado.\n",
    "\n",
    "    Processo:\n",
    "    1. Abre o arquivo pickle em modo de leitura binária.\n",
    "    2. Carrega e retorna o objeto contido no arquivo pickle.\n",
    "\n",
    "    Returns:\n",
    "    any: Objeto carregado do arquivo pickle.\n",
    "    \"\"\"\n",
    "    with open(file_name, 'rb') as file:\n",
    "        return pickle.load(file)"
   ]
  },
  {
   "cell_type": "markdown",
   "id": "5599b6a4-bbc6-4e35-8de5-5eca65f59069",
   "metadata": {},
   "source": [
    "# Dataset"
   ]
  },
  {
   "cell_type": "code",
   "execution_count": 3,
   "id": "8e5821ea-5e59-4196-94e4-695b6e42913e",
   "metadata": {},
   "outputs": [],
   "source": [
    "import pandas as pd\n",
    "from sklearn.model_selection import train_test_split\n",
    "from sklearn.preprocessing import LabelEncoder\n",
    "import xgboost as xgb\n",
    "\n",
    "file_path = 'df_treinamento_modelo.csv'\n",
    "df = pd.read_csv(file_path)\n",
    "\n",
    "df = df.drop(columns =[ 'codigo_di', 'codigo_tipo_linha'])\n",
    "\n",
    "df = df[list(df)]\n",
    "\n",
    "list_dummies =  colunas_categ = df.drop(columns = 'status_do_voo').select_dtypes(include=['object']).columns.tolist()\n",
    "\n",
    "# Transformar colunas categóricas em tipo \"category\"\n",
    "df[list_dummies] = df[list_dummies].astype(\"category\")\n",
    "\n",
    "# Seleção das features preditoras (X) e variável-alvo (y)\n",
    "dt_ax = df.drop(columns=[\"status_do_voo\"])\n",
    "dt_ay = df[['status_do_voo']]\n",
    "\n",
    "# Codificação da variável-alvo\n",
    "label_mapping = {'Pontual': 0, 'Atrasado': 1}\n",
    "dt_ay = dt_ay['status_do_voo'].map(label_mapping)\n",
    "\n",
    "# Codifica colunas categóricas como inteiros\n",
    "label_encoders = {}\n",
    "for col in list_dummies:\n",
    "    le = LabelEncoder()\n",
    "    dt_ax[col] = le.fit_transform(dt_ax[col])\n",
    "    label_encoders[col] = le\n",
    "\n",
    "# Segmentação em treino (85%) e teste (15%)\n",
    "X_train, X_test, y_train, y_test = train_test_split(dt_ax, dt_ay, random_state=14, test_size=0.18)\n",
    "\n",
    "#smote = SMOTE(random_state=42, sampling_strategy='not majority')\n",
    "#X_smote_a, y_smote_a = smote.fit_resample(X_train, y_train)\n",
    "\n",
    "# Segmentação adicional para calibração (80% treino / 20% calibração)\n",
    "X_train_calib, X_test_calib, y_train_calib, y_test_calib = train_test_split(X_train, y_train, random_state=14, test_size=0.12)\n",
    "\n",
    "smote = RandomUnderSampler(random_state=42)\n",
    "X_smote_a, y_smote_a = smote.fit_resample(X_train_calib, y_train_calib)\n",
    "\n",
    "# Reverter os valores transformados para o tipo \"category\" original\n",
    "def revert_to_category(data, label_encoders, list_dummies):\n",
    "    for col in list_dummies:\n",
    "        if col in data.columns:\n",
    "            le = label_encoders[col]\n",
    "            data[col] = le.inverse_transform(data[col])\n",
    "    return data\n",
    "\n",
    "# Aplicar a reversão em X_smote_a, X_test_calib, X_test\n",
    "X_smote_a = revert_to_category(X_smote_a, label_encoders, list_dummies)\n",
    "X_test_calib = revert_to_category(X_test_calib, label_encoders, list_dummies)\n",
    "X_test = revert_to_category(X_test, label_encoders, list_dummies)\n",
    "\n",
    "# Para garantir que as colunas estão no tipo \"category\"\n",
    "X_smote_a[list_dummies] = X_smote_a[list_dummies].astype(\"category\")\n",
    "X_test_calib[list_dummies] = X_test_calib[list_dummies].astype(\"category\")\n",
    "X_test[list_dummies] = X_test[list_dummies].astype(\"category\")\n",
    "\n",
    "# Converte os nomes das colunas para uma lista de strings\n",
    "feature_names = list(X_test.columns)\n",
    "\n",
    "smote = RandomUnderSampler(random_state=42, sampling_strategy=0.67)\n",
    "X_smote_under, y_smote_under = smote.fit_resample(X_test_calib, y_test_calib)\n",
    "\n",
    "# Converte os conjuntos para DMatrix\n",
    "dtrain_calib = xgb.DMatrix(X_smote_a, label=y_smote_a, enable_categorical=True, feature_names=feature_names, nthread=-1)\n",
    "dtest_calib = xgb.DMatrix(X_smote_under, label=y_smote_under, enable_categorical=True, feature_names=feature_names, nthread=-1)\n",
    "\n",
    "# Converte os conjuntos para DMatrix\n",
    "#dtrain = xgb.DMatrix(X_smote_a, label=y_smote_a, enable_categorical=True, feature_names=feature_names)\n",
    "dtest = xgb.DMatrix(X_test, label=y_test, enable_categorical=True, feature_names=feature_names, nthread=-1)"
   ]
  },
  {
   "cell_type": "code",
   "execution_count": 4,
   "id": "8ec5f552-a2ae-4242-adcc-129a5fbcecf4",
   "metadata": {},
   "outputs": [
    {
     "name": "stdout",
     "output_type": "stream",
     "text": [
      "Distribuição de classes original:\n",
      "Classe 0: 82.99%\n",
      "Classe 1: 17.01%\n",
      "--------------------\n",
      "Distribuição de classes SMOTE:\n",
      "Classe 0: 50.00%\n",
      "Classe 1: 50.00%\n",
      "--------------------\n"
     ]
    }
   ],
   "source": [
    "def print_class_distribution(y, label):\n",
    "    unique, counts = np.unique(y, return_counts=True)\n",
    "    distribution = dict(zip(unique, counts))\n",
    "    total = sum(counts)\n",
    "    print(f'Distribuição de classes {label}:')\n",
    "    for k, v in distribution.items():\n",
    "        print(f'Classe {k}: {v/total:.2%}')\n",
    "    print('--------------------')\n",
    "\n",
    "print_class_distribution(y_train, 'original')\n",
    "print_class_distribution(y_smote_a, 'SMOTE')"
   ]
  },
  {
   "cell_type": "code",
   "execution_count": 5,
   "id": "17901951-cfc4-498a-8bd1-179af39fb6e7",
   "metadata": {},
   "outputs": [
    {
     "name": "stdout",
     "output_type": "stream",
     "text": [
      "Distribuição de classes original calib:\n",
      "Classe 0: 82.57%\n",
      "Classe 1: 17.43%\n",
      "--------------------\n",
      "Distribuição de classes Undersamp calib:\n",
      "Classe 0: 59.88%\n",
      "Classe 1: 40.12%\n",
      "--------------------\n"
     ]
    }
   ],
   "source": [
    "print_class_distribution(y_test_calib, 'original calib')\n",
    "print_class_distribution(y_smote_under, 'Undersamp calib')"
   ]
  },
  {
   "cell_type": "markdown",
   "id": "aedff536-2d6c-48bb-ad16-3b1779c0674b",
   "metadata": {},
   "source": [
    "# Hipertunnig"
   ]
  },
  {
   "cell_type": "code",
   "execution_count": 6,
   "id": "3ef721c9-d25c-4e3b-934e-bde7a4e5a761",
   "metadata": {},
   "outputs": [],
   "source": [
    "def hipertunnig(space):\n",
    "    \"\"\"\n",
    "    Realiza o ajuste de hiperparâmetros de um modelo XGBoost usando validação cruzada com DMatrix.\n",
    "    \n",
    "    Args:\n",
    "    space (dict): Dicionário contendo os hiperparâmetros avaliados pelo Hyperopt.\n",
    "    \n",
    "    Returns:\n",
    "    dict: Dicionário contendo o 'loss' (negativo da média do AUCPR), o 'status' e as métricas adicionais (AUC).\n",
    "    \"\"\"\n",
    "    # Configuração do modelo com os parâmetros do espaço\n",
    "    params = {\n",
    "        'max_depth': int(space['max_depth']),\n",
    "        'gamma': space['gamma'],\n",
    "        'reg_alpha': space['reg_alpha'],\n",
    "        'reg_lambda': space['reg_lambda'],\n",
    "        'min_child_weight': int(space['min_child_weight']),\n",
    "        'colsample_bytree': space['colsample_bytree'],\n",
    "        'learning_rate': space['learning_rate'],\n",
    "        'max_delta_step': space['max_delta_step'],\n",
    "        'subsample': space['subsample'],\n",
    "        'sampling_method': space['sampling_method'],\n",
    "        'tree_method': space['tree_method'],       \n",
    "        'device': space['device'], \n",
    "        'enable_categorical': space['enable_categorical'],\n",
    "        'scale_pos_weight': space['scale_pos_weight'],\n",
    "        'eval_metric': [\"aucpr\", \"auc\"],  # Avalia AUCPR e AUC\n",
    "        'objective': space['objective'],\n",
    "        'seed': space['seed'],\n",
    "        'random_state': space['seed'],\n",
    "        'max_cat_to_onehot': int(space['max_cat_to_onehot']),\n",
    "        'max_cat_threshold': int(space['max_cat_threshold']),  \n",
    "        'validate_parameters': space['validate_parameters']\n",
    "    }\n",
    "\n",
    "    # Realiza a validação cruzada com xgb.cv\n",
    "    cv_results = xgb.cv(\n",
    "        params=params,\n",
    "        dtrain=dtrain_calib,                  # DMatrix preparado\n",
    "        num_boost_round=int(space['n_estimators']),\n",
    "        nfold=5,                              # Número de folds\n",
    "        metrics=[\"aucpr\", \"auc\"],             # Métricas de avaliação\n",
    "        as_pandas=True,                       # Retorna os resultados como DataFrame\n",
    "        seed=42,\n",
    "        stratified=True,                      # Garante estratificação\n",
    "        early_stopping_rounds = 10,           # Ativa a parada antecipada\n",
    "    )\n",
    "    \n",
    "    # Calcula a média do AUCPR e do AUC\n",
    "    mean_aucpr = cv_results[\"test-aucpr-mean\"].max()\n",
    "    mean_auc = cv_results[\"test-auc-mean\"].max()\n",
    "    print(\"Média AUCPR: \", mean_aucpr)\n",
    "    print(\"Média AUC: \", mean_auc)\n",
    "\n",
    "    # Retorna os resultados\n",
    "    return {\n",
    "        'loss': -mean_aucpr,   # Usa o negativo do AUCPR como função de perda\n",
    "        'status': STATUS_OK,\n",
    "        'additional_metrics': {\n",
    "            'aucpr': mean_aucpr,\n",
    "            'auc': mean_auc}}\n",
    "\n",
    "# Espaço de busca atualizado\n",
    "space = {\n",
    "    'max_depth': scope.int(hp.quniform(\"max_depth\", 1, 15, 1)),\n",
    "    'gamma': hp.uniform('gamma', 1, 20),\n",
    "    'reg_alpha': scope.int(hp.quniform('reg_alpha', 0, 200, 1)),\n",
    "    'reg_lambda': hp.uniform('reg_lambda', 0, 10),\n",
    "    'colsample_bytree': hp.uniform('colsample_bytree', 0.1, 1),\n",
    "    'min_child_weight': scope.int(hp.quniform('min_child_weight', 0, 20, 1)),\n",
    "    'learning_rate': hp.uniform('learning_rate', 0.01, 0.5),\n",
    "    'n_estimators': scope.int(hp.quniform('n_estimators', 50, 1000, 10)),\n",
    "    'max_delta_step': hp.uniform('max_delta_step', 0, 10),\n",
    "    'subsample': hp.uniform('subsample', 0.3, 1),\n",
    "    'sampling_method': 'gradient_based',\n",
    "    'tree_method': 'hist',\n",
    "    'device': 'cuda',\n",
    "    'enable_categorical': True,\n",
    "    'scale_pos_weight': hp.uniform('scale_pos_weight', 3, 40),\n",
    "    'max_cat_to_onehot': scope.int(hp.quniform('max_cat_to_onehot', 3, 50, 1)),\n",
    "    'max_cat_threshold': scope.int(hp.quniform('max_cat_threshold', 3, 50, 1)),\n",
    "    'validate_parameters': True,\n",
    "    'seed': 0,\n",
    "    'objective': 'binary:logistic'\n",
    "}"
   ]
  },
  {
   "cell_type": "code",
   "execution_count": 7,
   "id": "1897f66a-136d-4e10-aacb-8742348ee368",
   "metadata": {},
   "outputs": [
    {
     "name": "stdout",
     "output_type": "stream",
     "text": [
      "  0%|                                                                           | 0/20 [00:00<?, ?trial/s, best loss=?]"
     ]
    },
    {
     "name": "stderr",
     "output_type": "stream",
     "text": [
      "[19:37:35] WARNING: C:\\buildkite-agent\\builds\\buildkite-windows-cpu-autoscaling-group-i-0750514818a16474a-1\\xgboost\\xgboost-ci-windows\\src\\learner.cc:742: \n",
      "Parameters: { \"enable_categorical\" } are not used.\n",
      "\n",
      "\n"
     ]
    },
    {
     "name": "stdout",
     "output_type": "stream",
     "text": [
      "Média AUCPR:                                                                                                           \n",
      "0.7019241718082297                                                                                                     \n",
      "Média AUC:                                                                                                             \n",
      "0.713210070235945                                                                                                      \n",
      "  5%|██▍                                             | 1/20 [00:13<04:18, 13.63s/trial, best loss: -0.7019241718082297]"
     ]
    },
    {
     "name": "stderr",
     "output_type": "stream",
     "text": [
      "[19:37:48] WARNING: C:\\buildkite-agent\\builds\\buildkite-windows-cpu-autoscaling-group-i-0750514818a16474a-1\\xgboost\\xgboost-ci-windows\\src\\learner.cc:742: \n",
      "Parameters: { \"enable_categorical\" } are not used.\n",
      "\n",
      "\n"
     ]
    },
    {
     "name": "stdout",
     "output_type": "stream",
     "text": [
      "Média AUCPR:                                                                                                           \n",
      "0.6940792860923102                                                                                                     \n",
      "Média AUC:                                                                                                             \n",
      "0.705053290520701                                                                                                      \n",
      " 10%|████▊                                           | 2/20 [00:41<06:35, 21.97s/trial, best loss: -0.7019241718082297]"
     ]
    },
    {
     "name": "stderr",
     "output_type": "stream",
     "text": [
      "[19:38:16] WARNING: C:\\buildkite-agent\\builds\\buildkite-windows-cpu-autoscaling-group-i-0750514818a16474a-1\\xgboost\\xgboost-ci-windows\\src\\learner.cc:742: \n",
      "Parameters: { \"enable_categorical\" } are not used.\n",
      "\n",
      "\n"
     ]
    },
    {
     "name": "stdout",
     "output_type": "stream",
     "text": [
      "Média AUCPR:                                                                                                           \n",
      "0.7188372325121369                                                                                                     \n",
      "Média AUC:                                                                                                             \n",
      "0.7272467088590103                                                                                                     \n",
      " 15%|███████▏                                        | 3/20 [01:45<11:41, 41.28s/trial, best loss: -0.7188372325121369]"
     ]
    },
    {
     "name": "stderr",
     "output_type": "stream",
     "text": [
      "[19:39:20] WARNING: C:\\buildkite-agent\\builds\\buildkite-windows-cpu-autoscaling-group-i-0750514818a16474a-1\\xgboost\\xgboost-ci-windows\\src\\learner.cc:742: \n",
      "Parameters: { \"enable_categorical\" } are not used.\n",
      "\n",
      "\n",
      "[19:39:21] WARNING: C:\\buildkite-agent\\builds\\buildkite-windows-cpu-autoscaling-group-i-0750514818a16474a-1\\xgboost\\xgboost-ci-windows\\src\\learner.cc:742: \n",
      "Parameters: { \"enable_categorical\" } are not used.\n",
      "\n",
      "\n"
     ]
    },
    {
     "name": "stdout",
     "output_type": "stream",
     "text": [
      "Média AUCPR:                                                                                                           \n",
      "0.7022149623472562                                                                                                     \n",
      "Média AUC:                                                                                                             \n",
      "0.7123737252908018                                                                                                     \n",
      " 20%|█████████▌                                      | 4/20 [02:26<10:58, 41.18s/trial, best loss: -0.7188372325121369]"
     ]
    },
    {
     "name": "stderr",
     "output_type": "stream",
     "text": [
      "[19:40:01] WARNING: C:\\buildkite-agent\\builds\\buildkite-windows-cpu-autoscaling-group-i-0750514818a16474a-1\\xgboost\\xgboost-ci-windows\\src\\learner.cc:742: \n",
      "Parameters: { \"enable_categorical\" } are not used.\n",
      "\n",
      "\n",
      "[19:40:02] WARNING: C:\\buildkite-agent\\builds\\buildkite-windows-cpu-autoscaling-group-i-0750514818a16474a-1\\xgboost\\xgboost-ci-windows\\src\\learner.cc:742: \n",
      "Parameters: { \"enable_categorical\" } are not used.\n",
      "\n",
      "\n"
     ]
    },
    {
     "name": "stdout",
     "output_type": "stream",
     "text": [
      "Média AUCPR:                                                                                                           \n",
      "0.7003826341667145                                                                                                     \n",
      "Média AUC:                                                                                                             \n",
      "0.7122454390515477                                                                                                     \n",
      " 25%|████████████                                    | 5/20 [03:59<14:56, 59.79s/trial, best loss: -0.7188372325121369]"
     ]
    },
    {
     "name": "stderr",
     "output_type": "stream",
     "text": [
      "[19:41:34] WARNING: C:\\buildkite-agent\\builds\\buildkite-windows-cpu-autoscaling-group-i-0750514818a16474a-1\\xgboost\\xgboost-ci-windows\\src\\learner.cc:742: \n",
      "Parameters: { \"enable_categorical\" } are not used.\n",
      "\n",
      "\n"
     ]
    },
    {
     "name": "stdout",
     "output_type": "stream",
     "text": [
      "Média AUCPR:                                                                                                           \n",
      "0.7022915264882459                                                                                                     \n",
      "Média AUC:                                                                                                             \n",
      "0.7114706375843896                                                                                                     \n",
      " 30%|██████████████▍                                 | 6/20 [04:10<10:06, 43.30s/trial, best loss: -0.7188372325121369]"
     ]
    },
    {
     "name": "stderr",
     "output_type": "stream",
     "text": [
      "[19:41:45] WARNING: C:\\buildkite-agent\\builds\\buildkite-windows-cpu-autoscaling-group-i-0750514818a16474a-1\\xgboost\\xgboost-ci-windows\\src\\learner.cc:742: \n",
      "Parameters: { \"enable_categorical\" } are not used.\n",
      "\n",
      "\n",
      "[19:41:46] WARNING: C:\\buildkite-agent\\builds\\buildkite-windows-cpu-autoscaling-group-i-0750514818a16474a-1\\xgboost\\xgboost-ci-windows\\src\\learner.cc:742: \n",
      "Parameters: { \"enable_categorical\" } are not used.\n",
      "\n",
      "\n"
     ]
    },
    {
     "name": "stdout",
     "output_type": "stream",
     "text": [
      "Média AUCPR:                                                                                                           \n",
      "0.6968686879736177                                                                                                     \n",
      "Média AUC:                                                                                                             \n",
      "0.7079495287242195                                                                                                     \n",
      " 35%|████████████████▊                               | 7/20 [04:39<08:21, 38.58s/trial, best loss: -0.7188372325121369]"
     ]
    },
    {
     "name": "stderr",
     "output_type": "stream",
     "text": [
      "[19:42:14] WARNING: C:\\buildkite-agent\\builds\\buildkite-windows-cpu-autoscaling-group-i-0750514818a16474a-1\\xgboost\\xgboost-ci-windows\\src\\learner.cc:742: \n",
      "Parameters: { \"enable_categorical\" } are not used.\n",
      "\n",
      "\n",
      "[19:42:15] WARNING: C:\\buildkite-agent\\builds\\buildkite-windows-cpu-autoscaling-group-i-0750514818a16474a-1\\xgboost\\xgboost-ci-windows\\src\\learner.cc:742: \n",
      "Parameters: { \"enable_categorical\" } are not used.\n",
      "\n",
      "\n"
     ]
    },
    {
     "name": "stdout",
     "output_type": "stream",
     "text": [
      "Média AUCPR:                                                                                                           \n",
      "0.714492422408591                                                                                                      \n",
      "Média AUC:                                                                                                             \n",
      "0.723625307149022                                                                                                      \n",
      " 40%|███████████████████▏                            | 8/20 [04:52<06:04, 30.36s/trial, best loss: -0.7188372325121369]"
     ]
    },
    {
     "name": "stderr",
     "output_type": "stream",
     "text": [
      "[19:42:27] WARNING: C:\\buildkite-agent\\builds\\buildkite-windows-cpu-autoscaling-group-i-0750514818a16474a-1\\xgboost\\xgboost-ci-windows\\src\\learner.cc:742: \n",
      "Parameters: { \"enable_categorical\" } are not used.\n",
      "\n",
      "\n"
     ]
    },
    {
     "name": "stdout",
     "output_type": "stream",
     "text": [
      "Média AUCPR:                                                                                                           \n",
      "0.6843986169391942                                                                                                     \n",
      "Média AUC:                                                                                                             \n",
      "0.6984973844201553                                                                                                     \n",
      " 45%|█████████████████████▌                          | 9/20 [07:50<14:00, 76.40s/trial, best loss: -0.7188372325121369]"
     ]
    },
    {
     "name": "stderr",
     "output_type": "stream",
     "text": [
      "[19:45:25] WARNING: C:\\buildkite-agent\\builds\\buildkite-windows-cpu-autoscaling-group-i-0750514818a16474a-1\\xgboost\\xgboost-ci-windows\\src\\learner.cc:742: \n",
      "Parameters: { \"enable_categorical\" } are not used.\n",
      "\n",
      "\n"
     ]
    },
    {
     "name": "stdout",
     "output_type": "stream",
     "text": [
      "Média AUCPR:                                                                                                           \n",
      "0.6809019493481159                                                                                                     \n",
      "Média AUC:                                                                                                             \n",
      "0.6931792433581442                                                                                                     \n",
      " 50%|███████████████████████▌                       | 10/20 [08:02<09:25, 56.56s/trial, best loss: -0.7188372325121369]"
     ]
    },
    {
     "name": "stderr",
     "output_type": "stream",
     "text": [
      "[19:45:37] WARNING: C:\\buildkite-agent\\builds\\buildkite-windows-cpu-autoscaling-group-i-0750514818a16474a-1\\xgboost\\xgboost-ci-windows\\src\\learner.cc:742: \n",
      "Parameters: { \"enable_categorical\" } are not used.\n",
      "\n",
      "\n"
     ]
    },
    {
     "name": "stdout",
     "output_type": "stream",
     "text": [
      "Média AUCPR:                                                                                                           \n",
      "0.685723099186901                                                                                                      \n",
      "Média AUC:                                                                                                             \n",
      "0.6983837027115973                                                                                                     \n",
      " 55%|█████████████████████████▊                     | 11/20 [09:15<09:16, 61.79s/trial, best loss: -0.7188372325121369]"
     ]
    },
    {
     "name": "stderr",
     "output_type": "stream",
     "text": [
      "[19:46:50] WARNING: C:\\buildkite-agent\\builds\\buildkite-windows-cpu-autoscaling-group-i-0750514818a16474a-1\\xgboost\\xgboost-ci-windows\\src\\learner.cc:742: \n",
      "Parameters: { \"enable_categorical\" } are not used.\n",
      "\n",
      "\n",
      "[19:46:51] WARNING: C:\\buildkite-agent\\builds\\buildkite-windows-cpu-autoscaling-group-i-0750514818a16474a-1\\xgboost\\xgboost-ci-windows\\src\\learner.cc:742: \n",
      "Parameters: { \"enable_categorical\" } are not used.\n",
      "\n",
      "\n"
     ]
    },
    {
     "name": "stdout",
     "output_type": "stream",
     "text": [
      "Média AUCPR:                                                                                                           \n",
      "0.6908470073303309                                                                                                     \n",
      "Média AUC:                                                                                                             \n",
      "0.7051199076198035                                                                                                     \n",
      " 60%|████████████████████████████▏                  | 12/20 [10:21<08:24, 63.00s/trial, best loss: -0.7188372325121369]"
     ]
    },
    {
     "name": "stderr",
     "output_type": "stream",
     "text": [
      "[19:47:56] WARNING: C:\\buildkite-agent\\builds\\buildkite-windows-cpu-autoscaling-group-i-0750514818a16474a-1\\xgboost\\xgboost-ci-windows\\src\\learner.cc:742: \n",
      "Parameters: { \"enable_categorical\" } are not used.\n",
      "\n",
      "\n",
      "[19:47:57] WARNING: C:\\buildkite-agent\\builds\\buildkite-windows-cpu-autoscaling-group-i-0750514818a16474a-1\\xgboost\\xgboost-ci-windows\\src\\learner.cc:742: \n",
      "Parameters: { \"enable_categorical\" } are not used.\n",
      "\n",
      "\n"
     ]
    },
    {
     "name": "stdout",
     "output_type": "stream",
     "text": [
      "Média AUCPR:                                                                                                           \n",
      "0.7088944701743392                                                                                                     \n",
      "Média AUC:                                                                                                             \n",
      "0.7201604833512155                                                                                                     \n",
      " 65%|██████████████████████████████▌                | 13/20 [10:55<06:18, 54.07s/trial, best loss: -0.7188372325121369]"
     ]
    },
    {
     "name": "stderr",
     "output_type": "stream",
     "text": [
      "[19:48:30] WARNING: C:\\buildkite-agent\\builds\\buildkite-windows-cpu-autoscaling-group-i-0750514818a16474a-1\\xgboost\\xgboost-ci-windows\\src\\learner.cc:742: \n",
      "Parameters: { \"enable_categorical\" } are not used.\n",
      "\n",
      "\n"
     ]
    },
    {
     "name": "stdout",
     "output_type": "stream",
     "text": [
      "Média AUCPR:                                                                                                           \n",
      "0.6972075435475051                                                                                                     \n",
      "Média AUC:                                                                                                             \n",
      "0.7079689775092171                                                                                                     \n",
      " 70%|████████████████████████████████▉              | 14/20 [11:17<04:26, 44.48s/trial, best loss: -0.7188372325121369]"
     ]
    },
    {
     "name": "stderr",
     "output_type": "stream",
     "text": [
      "[19:48:52] WARNING: C:\\buildkite-agent\\builds\\buildkite-windows-cpu-autoscaling-group-i-0750514818a16474a-1\\xgboost\\xgboost-ci-windows\\src\\learner.cc:742: \n",
      "Parameters: { \"enable_categorical\" } are not used.\n",
      "\n",
      "\n"
     ]
    },
    {
     "name": "stdout",
     "output_type": "stream",
     "text": [
      "Média AUCPR:                                                                                                           \n",
      "0.6702640434589261                                                                                                     \n",
      "Média AUC:                                                                                                             \n",
      "0.6874771547094799                                                                                                     \n",
      " 75%|███████████████████████████████████▎           | 15/20 [12:13<04:00, 48.05s/trial, best loss: -0.7188372325121369]"
     ]
    },
    {
     "name": "stderr",
     "output_type": "stream",
     "text": [
      "[19:49:48] WARNING: C:\\buildkite-agent\\builds\\buildkite-windows-cpu-autoscaling-group-i-0750514818a16474a-1\\xgboost\\xgboost-ci-windows\\src\\learner.cc:742: \n",
      "Parameters: { \"enable_categorical\" } are not used.\n",
      "\n",
      "\n",
      "[19:49:49] WARNING: C:\\buildkite-agent\\builds\\buildkite-windows-cpu-autoscaling-group-i-0750514818a16474a-1\\xgboost\\xgboost-ci-windows\\src\\learner.cc:742: \n",
      "Parameters: { \"enable_categorical\" } are not used.\n",
      "\n",
      "\n"
     ]
    },
    {
     "name": "stdout",
     "output_type": "stream",
     "text": [
      "Média AUCPR:                                                                                                           \n",
      "0.6886567335401638                                                                                                     \n",
      "Média AUC:                                                                                                             \n",
      "0.7015480446676307                                                                                                     \n",
      " 80%|█████████████████████████████████████▌         | 16/20 [13:14<03:27, 51.87s/trial, best loss: -0.7188372325121369]"
     ]
    },
    {
     "name": "stderr",
     "output_type": "stream",
     "text": [
      "[19:50:49] WARNING: C:\\buildkite-agent\\builds\\buildkite-windows-cpu-autoscaling-group-i-0750514818a16474a-1\\xgboost\\xgboost-ci-windows\\src\\learner.cc:742: \n",
      "Parameters: { \"enable_categorical\" } are not used.\n",
      "\n",
      "\n"
     ]
    },
    {
     "name": "stdout",
     "output_type": "stream",
     "text": [
      "Média AUCPR:                                                                                                           \n",
      "0.6556065899026506                                                                                                     \n",
      "Média AUC:                                                                                                             \n",
      "0.6722871399471989                                                                                                     \n",
      " 85%|███████████████████████████████████████▉       | 17/20 [14:40<03:06, 62.06s/trial, best loss: -0.7188372325121369]"
     ]
    },
    {
     "name": "stderr",
     "output_type": "stream",
     "text": [
      "[19:52:15] WARNING: C:\\buildkite-agent\\builds\\buildkite-windows-cpu-autoscaling-group-i-0750514818a16474a-1\\xgboost\\xgboost-ci-windows\\src\\learner.cc:742: \n",
      "Parameters: { \"enable_categorical\" } are not used.\n",
      "\n",
      "\n"
     ]
    },
    {
     "name": "stdout",
     "output_type": "stream",
     "text": [
      "Média AUCPR:                                                                                                           \n",
      "0.706137819924865                                                                                                      \n",
      "Média AUC:                                                                                                             \n",
      "0.7153473763046017                                                                                                     \n",
      " 90%|██████████████████████████████████████████▎    | 18/20 [14:57<01:37, 48.53s/trial, best loss: -0.7188372325121369]"
     ]
    },
    {
     "name": "stderr",
     "output_type": "stream",
     "text": [
      "[19:52:32] WARNING: C:\\buildkite-agent\\builds\\buildkite-windows-cpu-autoscaling-group-i-0750514818a16474a-1\\xgboost\\xgboost-ci-windows\\src\\learner.cc:742: \n",
      "Parameters: { \"enable_categorical\" } are not used.\n",
      "\n",
      "\n"
     ]
    },
    {
     "name": "stdout",
     "output_type": "stream",
     "text": [
      "Média AUCPR:                                                                                                           \n",
      "0.703860073121352                                                                                                      \n",
      "Média AUC:                                                                                                             \n",
      "0.7133332642035335                                                                                                     \n",
      " 95%|████████████████████████████████████████████▋  | 19/20 [15:14<00:39, 39.17s/trial, best loss: -0.7188372325121369]"
     ]
    },
    {
     "name": "stderr",
     "output_type": "stream",
     "text": [
      "[19:52:49] WARNING: C:\\buildkite-agent\\builds\\buildkite-windows-cpu-autoscaling-group-i-0750514818a16474a-1\\xgboost\\xgboost-ci-windows\\src\\learner.cc:742: \n",
      "Parameters: { \"enable_categorical\" } are not used.\n",
      "\n",
      "\n",
      "[19:52:50] WARNING: C:\\buildkite-agent\\builds\\buildkite-windows-cpu-autoscaling-group-i-0750514818a16474a-1\\xgboost\\xgboost-ci-windows\\src\\learner.cc:742: \n",
      "Parameters: { \"enable_categorical\" } are not used.\n",
      "\n",
      "\n"
     ]
    },
    {
     "name": "stdout",
     "output_type": "stream",
     "text": [
      "Média AUCPR:                                                                                                           \n",
      "0.70049568976969                                                                                                       \n",
      "Média AUC:                                                                                                             \n",
      "0.7112219202783868                                                                                                     \n",
      "100%|███████████████████████████████████████████████| 20/20 [15:44<00:00, 47.21s/trial, best loss: -0.7188372325121369]\n",
      "Melhores hiperparâmetros: {'colsample_bytree': 0.7012032899850568, 'device': 'cuda', 'enable_categorical': True, 'gamma': 4.798903229670862, 'learning_rate': 0.04933062893051044, 'max_cat_threshold': 26, 'max_cat_to_onehot': 17, 'max_delta_step': 9.491673316134818, 'max_depth': 6, 'min_child_weight': 15, 'n_estimators': 240, 'objective': 'binary:logistic', 'reg_alpha': 35, 'reg_lambda': 8.44982221963377, 'sampling_method': 'gradient_based', 'scale_pos_weight': 32.12618958856584, 'seed': 0, 'subsample': 0.8775734227933094, 'tree_method': 'hist', 'validate_parameters': True}\n"
     ]
    }
   ],
   "source": [
    "# Executando a otimização\n",
    "trials = Trials()\n",
    "best_hyperparams = fmin(fn=hipertunnig, \n",
    "                        space=space, \n",
    "                        algo=tpe.suggest, \n",
    "                        max_evals=20, \n",
    "                        trials=trials)\n",
    "\n",
    "# Obtendo os melhores hiperparâmetros\n",
    "best_hyperparams = space_eval(space, best_hyperparams)\n",
    "print(\"Melhores hiperparâmetros:\", best_hyperparams)"
   ]
  },
  {
   "cell_type": "code",
   "execution_count": 8,
   "id": "dce2e072-372e-423f-9f65-8c199c46c366",
   "metadata": {},
   "outputs": [
    {
     "data": {
      "text/plain": [
       "{'colsample_bytree': 0.7012032899850568,\n",
       " 'device': 'cuda',\n",
       " 'enable_categorical': True,\n",
       " 'gamma': 4.798903229670862,\n",
       " 'learning_rate': 0.04933062893051044,\n",
       " 'max_cat_threshold': 26,\n",
       " 'max_cat_to_onehot': 17,\n",
       " 'max_delta_step': 9.491673316134818,\n",
       " 'max_depth': 6,\n",
       " 'min_child_weight': 15,\n",
       " 'n_estimators': 240,\n",
       " 'objective': 'binary:logistic',\n",
       " 'reg_alpha': 35,\n",
       " 'reg_lambda': 8.44982221963377,\n",
       " 'sampling_method': 'gradient_based',\n",
       " 'scale_pos_weight': 32.12618958856584,\n",
       " 'seed': 0,\n",
       " 'subsample': 0.8775734227933094,\n",
       " 'tree_method': 'hist',\n",
       " 'validate_parameters': True}"
      ]
     },
     "execution_count": 8,
     "metadata": {},
     "output_type": "execute_result"
    }
   ],
   "source": [
    "best_hyperparams"
   ]
  },
  {
   "cell_type": "code",
   "execution_count": 9,
   "id": "57fe3bdc-8619-42de-928d-b0b5e78dad2d",
   "metadata": {},
   "outputs": [
    {
     "name": "stdout",
     "output_type": "stream",
     "text": [
      "Melhor max_depth: 6\n",
      "Melhor gamma: 4.798903229670862\n",
      "Melhor reg_alpha: 35\n",
      "Melhor reg_lambda: 8.44982221963377\n",
      "Melhor colsample_bytree: 0.7012032899850568\n",
      "Melhor min_child_weight: 15\n",
      "Melhor learning_rate: 0.04933062893051044\n",
      "Melhor n_estimators: 240\n",
      "Melhor max_delta_step: 9.491673316134818\n",
      "Melhor subsample: 0.8775734227933094\n",
      "Melhor sampling_method: gradient_based\n",
      "Melhor tree_method: hist\n",
      "Melhor scale_pos_weight: 32.12618958856584\n"
     ]
    }
   ],
   "source": [
    "# Melhores Parametros\n",
    "print(\"Melhor max_depth:\", best_hyperparams['max_depth'])\n",
    "print(\"Melhor gamma:\", best_hyperparams['gamma'])\n",
    "print(\"Melhor reg_alpha:\", best_hyperparams['reg_alpha'])\n",
    "print(\"Melhor reg_lambda:\", best_hyperparams['reg_lambda'])\n",
    "print(\"Melhor colsample_bytree:\", best_hyperparams['colsample_bytree'])\n",
    "print(\"Melhor min_child_weight:\", best_hyperparams['min_child_weight'])\n",
    "print(\"Melhor learning_rate:\", best_hyperparams['learning_rate'])\n",
    "print(\"Melhor n_estimators:\", best_hyperparams['n_estimators'])\n",
    "print(\"Melhor max_delta_step:\", best_hyperparams['max_delta_step'])\n",
    "print(\"Melhor subsample:\", best_hyperparams['subsample'])\n",
    "print(\"Melhor sampling_method:\", best_hyperparams['sampling_method'])\n",
    "print(\"Melhor tree_method:\", best_hyperparams['tree_method'])\n",
    "print(\"Melhor scale_pos_weight:\", best_hyperparams['scale_pos_weight'])"
   ]
  },
  {
   "cell_type": "markdown",
   "id": "08501f6b-b42f-474a-b127-0a2e1cd7ca88",
   "metadata": {},
   "source": [
    "# Treinamento do Modelo"
   ]
  },
  {
   "cell_type": "code",
   "execution_count": 10,
   "id": "8e61feb0-5aa3-4d17-8127-9acea99ecfae",
   "metadata": {
    "scrolled": true
   },
   "outputs": [
    {
     "name": "stdout",
     "output_type": "stream",
     "text": [
      "[0]\tvalidation-aucpr:0.22356\tvalidation-auc:0.60033\n"
     ]
    },
    {
     "name": "stderr",
     "output_type": "stream",
     "text": [
      "[19:53:19] WARNING: C:\\buildkite-agent\\builds\\buildkite-windows-cpu-autoscaling-group-i-0750514818a16474a-1\\xgboost\\xgboost-ci-windows\\src\\learner.cc:742: \n",
      "Parameters: { \"enable_categorical\" } are not used.\n",
      "\n"
     ]
    },
    {
     "name": "stdout",
     "output_type": "stream",
     "text": [
      "[1]\tvalidation-aucpr:0.26082\tvalidation-auc:0.65072\n",
      "[2]\tvalidation-aucpr:0.26257\tvalidation-auc:0.65041\n",
      "[3]\tvalidation-aucpr:0.26719\tvalidation-auc:0.65643\n",
      "[4]\tvalidation-aucpr:0.26928\tvalidation-auc:0.65717\n",
      "[5]\tvalidation-aucpr:0.27032\tvalidation-auc:0.65718\n",
      "[6]\tvalidation-aucpr:0.27231\tvalidation-auc:0.65733\n",
      "[7]\tvalidation-aucpr:0.27376\tvalidation-auc:0.65826\n",
      "[8]\tvalidation-aucpr:0.27492\tvalidation-auc:0.65980\n",
      "[9]\tvalidation-aucpr:0.27232\tvalidation-auc:0.65905\n",
      "[10]\tvalidation-aucpr:0.27494\tvalidation-auc:0.66009\n",
      "[11]\tvalidation-aucpr:0.27569\tvalidation-auc:0.66003\n",
      "[12]\tvalidation-aucpr:0.27773\tvalidation-auc:0.66035\n",
      "[13]\tvalidation-aucpr:0.27651\tvalidation-auc:0.66027\n",
      "[14]\tvalidation-aucpr:0.27760\tvalidation-auc:0.66127\n",
      "[15]\tvalidation-aucpr:0.27806\tvalidation-auc:0.66196\n",
      "[16]\tvalidation-aucpr:0.28135\tvalidation-auc:0.66462\n",
      "[17]\tvalidation-aucpr:0.28235\tvalidation-auc:0.66571\n",
      "[18]\tvalidation-aucpr:0.28238\tvalidation-auc:0.66665\n",
      "[19]\tvalidation-aucpr:0.28328\tvalidation-auc:0.66774\n",
      "[20]\tvalidation-aucpr:0.28373\tvalidation-auc:0.66810\n",
      "[21]\tvalidation-aucpr:0.28423\tvalidation-auc:0.66879\n",
      "[22]\tvalidation-aucpr:0.28365\tvalidation-auc:0.66854\n",
      "[23]\tvalidation-aucpr:0.28384\tvalidation-auc:0.66924\n",
      "[24]\tvalidation-aucpr:0.28743\tvalidation-auc:0.67017\n",
      "[25]\tvalidation-aucpr:0.28820\tvalidation-auc:0.67151\n",
      "[26]\tvalidation-aucpr:0.28907\tvalidation-auc:0.67198\n",
      "[27]\tvalidation-aucpr:0.28984\tvalidation-auc:0.67299\n",
      "[28]\tvalidation-aucpr:0.29007\tvalidation-auc:0.67357\n",
      "[29]\tvalidation-aucpr:0.29017\tvalidation-auc:0.67362\n",
      "[30]\tvalidation-aucpr:0.29003\tvalidation-auc:0.67405\n",
      "[31]\tvalidation-aucpr:0.29096\tvalidation-auc:0.67528\n",
      "[32]\tvalidation-aucpr:0.29090\tvalidation-auc:0.67542\n",
      "[33]\tvalidation-aucpr:0.29157\tvalidation-auc:0.67582\n",
      "[34]\tvalidation-aucpr:0.29376\tvalidation-auc:0.67660\n",
      "[35]\tvalidation-aucpr:0.29530\tvalidation-auc:0.67718\n",
      "[36]\tvalidation-aucpr:0.29508\tvalidation-auc:0.67738\n",
      "[37]\tvalidation-aucpr:0.29579\tvalidation-auc:0.67809\n",
      "[38]\tvalidation-aucpr:0.29642\tvalidation-auc:0.67875\n",
      "[39]\tvalidation-aucpr:0.29702\tvalidation-auc:0.67932\n",
      "[40]\tvalidation-aucpr:0.29785\tvalidation-auc:0.68010\n",
      "[41]\tvalidation-aucpr:0.29801\tvalidation-auc:0.68049\n",
      "[42]\tvalidation-aucpr:0.30010\tvalidation-auc:0.68198\n",
      "[43]\tvalidation-aucpr:0.29985\tvalidation-auc:0.68224\n",
      "[44]\tvalidation-aucpr:0.30048\tvalidation-auc:0.68288\n",
      "[45]\tvalidation-aucpr:0.30121\tvalidation-auc:0.68314\n",
      "[46]\tvalidation-aucpr:0.30058\tvalidation-auc:0.68323\n",
      "[47]\tvalidation-aucpr:0.30119\tvalidation-auc:0.68381\n",
      "[48]\tvalidation-aucpr:0.30172\tvalidation-auc:0.68451\n",
      "[49]\tvalidation-aucpr:0.30333\tvalidation-auc:0.68562\n",
      "[50]\tvalidation-aucpr:0.30566\tvalidation-auc:0.68665\n",
      "[51]\tvalidation-aucpr:0.30655\tvalidation-auc:0.68742\n",
      "[52]\tvalidation-aucpr:0.30668\tvalidation-auc:0.68757\n",
      "[53]\tvalidation-aucpr:0.30747\tvalidation-auc:0.68804\n",
      "[54]\tvalidation-aucpr:0.30763\tvalidation-auc:0.68854\n",
      "[55]\tvalidation-aucpr:0.30986\tvalidation-auc:0.68958\n",
      "[56]\tvalidation-aucpr:0.31078\tvalidation-auc:0.69026\n",
      "[57]\tvalidation-aucpr:0.31309\tvalidation-auc:0.69109\n",
      "[58]\tvalidation-aucpr:0.31359\tvalidation-auc:0.69165\n",
      "[59]\tvalidation-aucpr:0.31380\tvalidation-auc:0.69212\n",
      "[60]\tvalidation-aucpr:0.31569\tvalidation-auc:0.69291\n",
      "[61]\tvalidation-aucpr:0.31647\tvalidation-auc:0.69323\n",
      "[62]\tvalidation-aucpr:0.31692\tvalidation-auc:0.69354\n",
      "[63]\tvalidation-aucpr:0.31744\tvalidation-auc:0.69412\n",
      "[64]\tvalidation-aucpr:0.31710\tvalidation-auc:0.69425\n",
      "[65]\tvalidation-aucpr:0.31854\tvalidation-auc:0.69473\n",
      "[66]\tvalidation-aucpr:0.31832\tvalidation-auc:0.69489\n",
      "[67]\tvalidation-aucpr:0.31878\tvalidation-auc:0.69525\n",
      "[68]\tvalidation-aucpr:0.31978\tvalidation-auc:0.69571\n",
      "[69]\tvalidation-aucpr:0.31982\tvalidation-auc:0.69593\n",
      "[70]\tvalidation-aucpr:0.31988\tvalidation-auc:0.69605\n",
      "[71]\tvalidation-aucpr:0.32017\tvalidation-auc:0.69628\n",
      "[72]\tvalidation-aucpr:0.32006\tvalidation-auc:0.69650\n",
      "[73]\tvalidation-aucpr:0.32208\tvalidation-auc:0.69737\n",
      "[74]\tvalidation-aucpr:0.32278\tvalidation-auc:0.69773\n",
      "[75]\tvalidation-aucpr:0.32269\tvalidation-auc:0.69782\n",
      "[76]\tvalidation-aucpr:0.32389\tvalidation-auc:0.69839\n",
      "[77]\tvalidation-aucpr:0.32470\tvalidation-auc:0.69873\n",
      "[78]\tvalidation-aucpr:0.32531\tvalidation-auc:0.69919\n",
      "[79]\tvalidation-aucpr:0.32561\tvalidation-auc:0.69943\n",
      "[80]\tvalidation-aucpr:0.32546\tvalidation-auc:0.69953\n",
      "[81]\tvalidation-aucpr:0.32528\tvalidation-auc:0.69953\n",
      "[82]\tvalidation-aucpr:0.32560\tvalidation-auc:0.69978\n",
      "[83]\tvalidation-aucpr:0.32612\tvalidation-auc:0.70013\n",
      "[84]\tvalidation-aucpr:0.32638\tvalidation-auc:0.70025\n",
      "[85]\tvalidation-aucpr:0.32745\tvalidation-auc:0.70119\n",
      "[86]\tvalidation-aucpr:0.32816\tvalidation-auc:0.70189\n",
      "[87]\tvalidation-aucpr:0.32804\tvalidation-auc:0.70191\n",
      "[88]\tvalidation-aucpr:0.32829\tvalidation-auc:0.70206\n",
      "[89]\tvalidation-aucpr:0.32882\tvalidation-auc:0.70232\n",
      "[90]\tvalidation-aucpr:0.32910\tvalidation-auc:0.70253\n",
      "[91]\tvalidation-aucpr:0.33114\tvalidation-auc:0.70336\n",
      "[92]\tvalidation-aucpr:0.33156\tvalidation-auc:0.70346\n",
      "[93]\tvalidation-aucpr:0.33201\tvalidation-auc:0.70396\n",
      "[94]\tvalidation-aucpr:0.33182\tvalidation-auc:0.70395\n",
      "[95]\tvalidation-aucpr:0.33287\tvalidation-auc:0.70437\n",
      "[96]\tvalidation-aucpr:0.33299\tvalidation-auc:0.70455\n",
      "[97]\tvalidation-aucpr:0.33347\tvalidation-auc:0.70501\n",
      "[98]\tvalidation-aucpr:0.33354\tvalidation-auc:0.70513\n",
      "[99]\tvalidation-aucpr:0.33371\tvalidation-auc:0.70528\n",
      "[100]\tvalidation-aucpr:0.33392\tvalidation-auc:0.70538\n",
      "[101]\tvalidation-aucpr:0.33419\tvalidation-auc:0.70553\n",
      "[102]\tvalidation-aucpr:0.33440\tvalidation-auc:0.70580\n",
      "[103]\tvalidation-aucpr:0.33470\tvalidation-auc:0.70596\n",
      "[104]\tvalidation-aucpr:0.33496\tvalidation-auc:0.70616\n",
      "[105]\tvalidation-aucpr:0.33534\tvalidation-auc:0.70649\n",
      "[106]\tvalidation-aucpr:0.33587\tvalidation-auc:0.70671\n",
      "[107]\tvalidation-aucpr:0.33602\tvalidation-auc:0.70682\n",
      "[108]\tvalidation-aucpr:0.33619\tvalidation-auc:0.70707\n",
      "[109]\tvalidation-aucpr:0.33627\tvalidation-auc:0.70711\n",
      "[110]\tvalidation-aucpr:0.33650\tvalidation-auc:0.70729\n",
      "[111]\tvalidation-aucpr:0.33690\tvalidation-auc:0.70750\n",
      "[112]\tvalidation-aucpr:0.33709\tvalidation-auc:0.70772\n",
      "[113]\tvalidation-aucpr:0.33885\tvalidation-auc:0.70862\n",
      "[114]\tvalidation-aucpr:0.33899\tvalidation-auc:0.70868\n",
      "[115]\tvalidation-aucpr:0.34032\tvalidation-auc:0.70942\n",
      "[116]\tvalidation-aucpr:0.34053\tvalidation-auc:0.70956\n",
      "[117]\tvalidation-aucpr:0.34082\tvalidation-auc:0.70980\n",
      "[118]\tvalidation-aucpr:0.34196\tvalidation-auc:0.71035\n",
      "[119]\tvalidation-aucpr:0.34331\tvalidation-auc:0.71094\n",
      "[120]\tvalidation-aucpr:0.34414\tvalidation-auc:0.71134\n",
      "[121]\tvalidation-aucpr:0.34470\tvalidation-auc:0.71174\n",
      "[122]\tvalidation-aucpr:0.34493\tvalidation-auc:0.71191\n",
      "[123]\tvalidation-aucpr:0.34527\tvalidation-auc:0.71211\n",
      "[124]\tvalidation-aucpr:0.34538\tvalidation-auc:0.71217\n",
      "[125]\tvalidation-aucpr:0.34644\tvalidation-auc:0.71262\n",
      "[126]\tvalidation-aucpr:0.34699\tvalidation-auc:0.71297\n",
      "[127]\tvalidation-aucpr:0.34720\tvalidation-auc:0.71305\n",
      "[128]\tvalidation-aucpr:0.34788\tvalidation-auc:0.71335\n",
      "[129]\tvalidation-aucpr:0.34787\tvalidation-auc:0.71340\n",
      "[130]\tvalidation-aucpr:0.34802\tvalidation-auc:0.71348\n",
      "[131]\tvalidation-aucpr:0.34814\tvalidation-auc:0.71362\n",
      "[132]\tvalidation-aucpr:0.34806\tvalidation-auc:0.71362\n",
      "[133]\tvalidation-aucpr:0.34836\tvalidation-auc:0.71391\n",
      "[134]\tvalidation-aucpr:0.34900\tvalidation-auc:0.71418\n",
      "[135]\tvalidation-aucpr:0.34911\tvalidation-auc:0.71425\n",
      "[136]\tvalidation-aucpr:0.34938\tvalidation-auc:0.71432\n",
      "[137]\tvalidation-aucpr:0.34957\tvalidation-auc:0.71449\n",
      "[138]\tvalidation-aucpr:0.34980\tvalidation-auc:0.71461\n",
      "[139]\tvalidation-aucpr:0.34987\tvalidation-auc:0.71474\n",
      "[140]\tvalidation-aucpr:0.34982\tvalidation-auc:0.71476\n",
      "[141]\tvalidation-aucpr:0.34974\tvalidation-auc:0.71481\n",
      "[142]\tvalidation-aucpr:0.34993\tvalidation-auc:0.71491\n",
      "[143]\tvalidation-aucpr:0.34997\tvalidation-auc:0.71496\n",
      "[144]\tvalidation-aucpr:0.34997\tvalidation-auc:0.71502\n",
      "[145]\tvalidation-aucpr:0.35032\tvalidation-auc:0.71522\n",
      "[146]\tvalidation-aucpr:0.35066\tvalidation-auc:0.71548\n",
      "[147]\tvalidation-aucpr:0.35078\tvalidation-auc:0.71554\n",
      "[148]\tvalidation-aucpr:0.35081\tvalidation-auc:0.71560\n",
      "[149]\tvalidation-aucpr:0.35091\tvalidation-auc:0.71578\n",
      "[150]\tvalidation-aucpr:0.35093\tvalidation-auc:0.71582\n",
      "[151]\tvalidation-aucpr:0.35162\tvalidation-auc:0.71613\n",
      "[152]\tvalidation-aucpr:0.35178\tvalidation-auc:0.71623\n",
      "[153]\tvalidation-aucpr:0.35186\tvalidation-auc:0.71629\n",
      "[154]\tvalidation-aucpr:0.35207\tvalidation-auc:0.71639\n",
      "[155]\tvalidation-aucpr:0.35213\tvalidation-auc:0.71645\n",
      "[156]\tvalidation-aucpr:0.35249\tvalidation-auc:0.71662\n",
      "[157]\tvalidation-aucpr:0.35256\tvalidation-auc:0.71677\n",
      "[158]\tvalidation-aucpr:0.35262\tvalidation-auc:0.71684\n",
      "[159]\tvalidation-aucpr:0.35280\tvalidation-auc:0.71689\n",
      "[160]\tvalidation-aucpr:0.35292\tvalidation-auc:0.71705\n",
      "[161]\tvalidation-aucpr:0.35311\tvalidation-auc:0.71716\n",
      "[162]\tvalidation-aucpr:0.35314\tvalidation-auc:0.71720\n",
      "[163]\tvalidation-aucpr:0.35321\tvalidation-auc:0.71723\n",
      "[164]\tvalidation-aucpr:0.35355\tvalidation-auc:0.71744\n",
      "[165]\tvalidation-aucpr:0.35357\tvalidation-auc:0.71745\n",
      "[166]\tvalidation-aucpr:0.35406\tvalidation-auc:0.71765\n",
      "[167]\tvalidation-aucpr:0.35411\tvalidation-auc:0.71768\n",
      "[168]\tvalidation-aucpr:0.35416\tvalidation-auc:0.71772\n",
      "[169]\tvalidation-aucpr:0.35435\tvalidation-auc:0.71775\n",
      "[170]\tvalidation-aucpr:0.35441\tvalidation-auc:0.71778\n",
      "[171]\tvalidation-aucpr:0.35468\tvalidation-auc:0.71803\n",
      "[172]\tvalidation-aucpr:0.35488\tvalidation-auc:0.71820\n",
      "[173]\tvalidation-aucpr:0.35497\tvalidation-auc:0.71826\n",
      "[174]\tvalidation-aucpr:0.35504\tvalidation-auc:0.71829\n",
      "[175]\tvalidation-aucpr:0.35518\tvalidation-auc:0.71836\n",
      "[176]\tvalidation-aucpr:0.35524\tvalidation-auc:0.71837\n",
      "[177]\tvalidation-aucpr:0.35536\tvalidation-auc:0.71846\n",
      "[178]\tvalidation-aucpr:0.35587\tvalidation-auc:0.71876\n",
      "[179]\tvalidation-aucpr:0.35589\tvalidation-auc:0.71878\n",
      "[180]\tvalidation-aucpr:0.35591\tvalidation-auc:0.71877\n",
      "[181]\tvalidation-aucpr:0.35595\tvalidation-auc:0.71884\n",
      "[182]\tvalidation-aucpr:0.35605\tvalidation-auc:0.71886\n",
      "[183]\tvalidation-aucpr:0.35612\tvalidation-auc:0.71888\n",
      "[184]\tvalidation-aucpr:0.35628\tvalidation-auc:0.71893\n",
      "[185]\tvalidation-aucpr:0.35639\tvalidation-auc:0.71895\n",
      "[186]\tvalidation-aucpr:0.35656\tvalidation-auc:0.71899\n",
      "[187]\tvalidation-aucpr:0.35665\tvalidation-auc:0.71907\n",
      "[188]\tvalidation-aucpr:0.35684\tvalidation-auc:0.71922\n",
      "[189]\tvalidation-aucpr:0.35731\tvalidation-auc:0.71951\n",
      "[190]\tvalidation-aucpr:0.35742\tvalidation-auc:0.71959\n",
      "[191]\tvalidation-aucpr:0.35747\tvalidation-auc:0.71961\n",
      "[192]\tvalidation-aucpr:0.35759\tvalidation-auc:0.71968\n",
      "[193]\tvalidation-aucpr:0.35768\tvalidation-auc:0.71979\n",
      "[194]\tvalidation-aucpr:0.35799\tvalidation-auc:0.72002\n",
      "[195]\tvalidation-aucpr:0.35810\tvalidation-auc:0.72009\n",
      "[196]\tvalidation-aucpr:0.35843\tvalidation-auc:0.72039\n",
      "[197]\tvalidation-aucpr:0.35849\tvalidation-auc:0.72042\n",
      "[198]\tvalidation-aucpr:0.35866\tvalidation-auc:0.72051\n",
      "[199]\tvalidation-aucpr:0.35863\tvalidation-auc:0.72055\n",
      "[200]\tvalidation-aucpr:0.35874\tvalidation-auc:0.72062\n",
      "[201]\tvalidation-aucpr:0.35877\tvalidation-auc:0.72063\n",
      "[202]\tvalidation-aucpr:0.35880\tvalidation-auc:0.72065\n",
      "[203]\tvalidation-aucpr:0.35894\tvalidation-auc:0.72071\n",
      "[204]\tvalidation-aucpr:0.35905\tvalidation-auc:0.72075\n",
      "[205]\tvalidation-aucpr:0.35908\tvalidation-auc:0.72077\n",
      "[206]\tvalidation-aucpr:0.35911\tvalidation-auc:0.72082\n",
      "[207]\tvalidation-aucpr:0.35913\tvalidation-auc:0.72081\n",
      "[208]\tvalidation-aucpr:0.35976\tvalidation-auc:0.72113\n",
      "[209]\tvalidation-aucpr:0.35980\tvalidation-auc:0.72117\n",
      "[210]\tvalidation-aucpr:0.35985\tvalidation-auc:0.72119\n",
      "[211]\tvalidation-aucpr:0.36040\tvalidation-auc:0.72145\n",
      "[212]\tvalidation-aucpr:0.36042\tvalidation-auc:0.72145\n",
      "[213]\tvalidation-aucpr:0.36046\tvalidation-auc:0.72148\n",
      "[214]\tvalidation-aucpr:0.36044\tvalidation-auc:0.72152\n",
      "[215]\tvalidation-aucpr:0.36055\tvalidation-auc:0.72160\n",
      "[216]\tvalidation-aucpr:0.36073\tvalidation-auc:0.72173\n",
      "[217]\tvalidation-aucpr:0.36080\tvalidation-auc:0.72180\n",
      "[218]\tvalidation-aucpr:0.36091\tvalidation-auc:0.72190\n",
      "[219]\tvalidation-aucpr:0.36111\tvalidation-auc:0.72204\n",
      "[220]\tvalidation-aucpr:0.36130\tvalidation-auc:0.72209\n",
      "[221]\tvalidation-aucpr:0.36137\tvalidation-auc:0.72214\n",
      "[222]\tvalidation-aucpr:0.36162\tvalidation-auc:0.72227\n",
      "[223]\tvalidation-aucpr:0.36173\tvalidation-auc:0.72234\n",
      "[224]\tvalidation-aucpr:0.36175\tvalidation-auc:0.72236\n",
      "[225]\tvalidation-aucpr:0.36179\tvalidation-auc:0.72238\n",
      "[226]\tvalidation-aucpr:0.36181\tvalidation-auc:0.72246\n",
      "[227]\tvalidation-aucpr:0.36186\tvalidation-auc:0.72250\n",
      "[228]\tvalidation-aucpr:0.36191\tvalidation-auc:0.72253\n",
      "[229]\tvalidation-aucpr:0.36190\tvalidation-auc:0.72252\n",
      "[230]\tvalidation-aucpr:0.36190\tvalidation-auc:0.72255\n",
      "[231]\tvalidation-aucpr:0.36198\tvalidation-auc:0.72261\n",
      "[232]\tvalidation-aucpr:0.36201\tvalidation-auc:0.72265\n",
      "[233]\tvalidation-aucpr:0.36198\tvalidation-auc:0.72265\n",
      "[234]\tvalidation-aucpr:0.36200\tvalidation-auc:0.72268\n",
      "[235]\tvalidation-aucpr:0.36197\tvalidation-auc:0.72271\n",
      "[236]\tvalidation-aucpr:0.36203\tvalidation-auc:0.72277\n",
      "[237]\tvalidation-aucpr:0.36204\tvalidation-auc:0.72280\n",
      "[238]\tvalidation-aucpr:0.36239\tvalidation-auc:0.72299\n",
      "[239]\tvalidation-aucpr:0.36242\tvalidation-auc:0.72299\n"
     ]
    }
   ],
   "source": [
    "# Preparar os parâmetros do modelo\n",
    "best_params = {\n",
    "    'max_depth': int(best_hyperparams['max_depth']),               # Profundidade máxima da árvore\n",
    "    'n_estimators': int(best_hyperparams['n_estimators']),         # Número de árvores (boost rounds)\n",
    "    'reg_lambda': best_hyperparams['reg_lambda'],                  # Regularização L2\n",
    "    'reg_alpha': best_hyperparams['reg_alpha'],                    # Regularização L1\n",
    "    'gamma': best_hyperparams['gamma'],                            # Redução mínima da perda\n",
    "    'min_child_weight': int(best_hyperparams['min_child_weight']), # Peso mínimo da folha\n",
    "    'colsample_bytree': best_hyperparams['colsample_bytree'],      # Amostragem de colunas por árvore\n",
    "    'learning_rate': best_hyperparams['learning_rate'],            # Taxa de aprendizado\n",
    "    'max_delta_step': best_hyperparams['max_delta_step'],          # Passo máximo de atualização\n",
    "    'subsample': best_hyperparams['subsample'],                    # Fração de amostras para cada árvore\n",
    "    'sampling_method': best_hyperparams['sampling_method'],        # Método de amostragem (e.g., 'uniform' ou 'gradient_based')\n",
    "    'tree_method': best_hyperparams['tree_method'],                # Método de crescimento da árvore ('hist', 'gpu_hist', etc.)\n",
    "    'scale_pos_weight': best_hyperparams['scale_pos_weight'],      # Peso para classes desbalanceadas\n",
    "    'max_cat_to_onehot': best_hyperparams['max_cat_to_onehot'],    # Número máximo de categorias para one-hot\n",
    "    'max_cat_threshold': best_hyperparams.get('max_cat_threshold', 20), # Limite máximo de categorias (valor padrão incluído)\n",
    "    'objective': 'binary:logistic',                                # Objetivo do modelo (logística binária)\n",
    "    'eval_metric': [\"aucpr\", \"auc\"],                               # Métrica de avaliação padrão\n",
    "    'enable_categorical': True,                                    # Suporte a variáveis categóricas\n",
    "    'validate_parameters': True,                                   # Validação dos parâmetros\n",
    "    'seed': best_hyperparams.get('seed', 0),                       # Semente para reprodutibilidade\n",
    "    'random_state': best_hyperparams.get('random_state', 0),       # Estado aleatório\n",
    "    'device': best_hyperparams.get('device', 'cuda'),              # Especifica o uso de GPU ('cuda' ou 'cpu')\n",
    "    'verbosity': 1,                                                # Nível de logging do modelo\n",
    "    'nthread': best_hyperparams.get('nthread', -1)                 # Número de threads para paralelismo\n",
    "}\n",
    "\n",
    "# Separar o número de iterações de boosting\n",
    "num_boost_round = best_params.pop('n_estimators')  # Remove do dict e armazena separadamente\n",
    "\n",
    "# Treinamento com early stopping\n",
    "model_class = xgb.train(\n",
    "    params=best_params,\n",
    "    dtrain=dtrain_calib,\n",
    "    num_boost_round=num_boost_round,\n",
    "    evals=[(dtest, 'validation')],  # Adiciona o conjunto de validação\n",
    "    early_stopping_rounds=15,      # Critério de parada\n",
    "    verbose_eval=True              # Mostra o progresso durante o treinamento\n",
    ")"
   ]
  },
  {
   "cell_type": "markdown",
   "id": "77af576b-864d-49f6-92bc-eaaaf1f9e8fa",
   "metadata": {},
   "source": [
    "## Analise do Resultado"
   ]
  },
  {
   "cell_type": "code",
   "execution_count": 11,
   "id": "b606520f-6ccb-4b4c-b24a-8432d4bdcb9a",
   "metadata": {},
   "outputs": [],
   "source": [
    "#file_path_x = 'df_xtest_hold.csv'\n",
    "#X_test = pd.read_csv(file_path_x)\n",
    "\n",
    "#file_path_y = 'df_ytest_hold.csv'\n",
    "#y_test = pd.read_csv(file_path_y)"
   ]
  },
  {
   "cell_type": "code",
   "execution_count": 12,
   "id": "f4af3330-4f05-4dd8-bb82-499c5b20022a",
   "metadata": {},
   "outputs": [
    {
     "name": "stdout",
     "output_type": "stream",
     "text": [
      "Accuracy: 0.172\n",
      "Precision: 0.172\n",
      "Recall: 1.000\n",
      "F1-Score: 0.293\n",
      "PRAUC: 0.362\n",
      "AUC: 0.723\n",
      "Gini Coefficient: 0.446\n",
      "MCC: 0.004\n",
      "Log Loss: 2.549\n",
      "Brier Score: 0.734\n",
      "Cohen's Kappa: 0.000\n",
      "Balanced Accuracy: 0.500\n",
      "Specificity: 0.000\n",
      "False Positive Rate (FPR): 1.000\n",
      "False Negative Rate (FNR): 0.000\n",
      "Geometric Mean (G-Mean): 0.009\n"
     ]
    }
   ],
   "source": [
    "import numpy as np\n",
    "from sklearn.metrics import (\n",
    "    accuracy_score, confusion_matrix, precision_score, recall_score,\n",
    "    f1_score, roc_auc_score, balanced_accuracy_score, average_precision_score,\n",
    "    log_loss, brier_score_loss, cohen_kappa_score, matthews_corrcoef\n",
    ")\n",
    "\n",
    "# Garantir que y_test e y_pred_proba sejam arrays NumPy\n",
    "y_test_np = np.array(y_test)  # Converte y_test para NumPy se necessário\n",
    "y_pred_proba = model_class.predict(dtest)  # Previsões no formato de probabilidades da classe positiva\n",
    "\n",
    "# Prever as classes com base no limiar de 0.5\n",
    "y_pred = (y_pred_proba >= 0.5).astype(int)\n",
    "\n",
    "# Matriz de confusão e cálculos básicos\n",
    "cm = confusion_matrix(y_test_np, y_pred)\n",
    "TN, FP, FN, TP = cm.ravel()\n",
    "accuracy = accuracy_score(y_test_np, y_pred)\n",
    "sensitivity = TP / (TP + FN) if (TP + FN) > 0 else 0\n",
    "specificity = TN / (TN + FP) if (TN + FP) > 0 else 0\n",
    "precision = TP / (TP + FP) if (TP + FP) > 0 else 0\n",
    "recall = sensitivity\n",
    "f1 = (2 * precision * recall) / (precision + recall) if (precision + recall) > 0 else 0\n",
    "balanced_acc = balanced_accuracy_score(y_test_np, y_pred)\n",
    "fpr = FP / (FP + TN) if (FP + TN) > 0 else 0\n",
    "fnr = FN / (FN + TP) if (FN + TP) > 0 else 0\n",
    "\n",
    "# Métricas baseadas em probabilidades\n",
    "prauc = average_precision_score(y_test_np, y_pred_proba)\n",
    "auc = roc_auc_score(y_test_np, y_pred_proba)\n",
    "gini = 2 * auc - 1\n",
    "mcc = matthews_corrcoef(y_test_np, y_pred)\n",
    "log_loss_value = log_loss(y_test_np, y_pred_proba)\n",
    "brier_score = brier_score_loss(y_test_np, y_pred_proba)\n",
    "kappa = cohen_kappa_score(y_test_np, y_pred)\n",
    "\n",
    "# Geometric Mean (G-Mean)\n",
    "g_mean = np.sqrt(sensitivity * specificity)\n",
    "\n",
    "# Exibir as métricas\n",
    "print(f'Accuracy: {accuracy:.3f}')\n",
    "print(f'Precision: {precision:.3f}')\n",
    "print(f'Recall: {recall:.3f}')\n",
    "print(f'F1-Score: {f1:.3f}')\n",
    "print(f'PRAUC: {prauc:.3f}')\n",
    "print(f'AUC: {auc:.3f}')\n",
    "print(f'Gini Coefficient: {gini:.3f}')\n",
    "print(f'MCC: {mcc:.3f}')\n",
    "print(f'Log Loss: {log_loss_value:.3f}')\n",
    "print(f'Brier Score: {brier_score:.3f}')\n",
    "print(f'Cohen\\'s Kappa: {kappa:.3f}')\n",
    "print(f'Balanced Accuracy: {balanced_acc:.3f}')\n",
    "print(f'Specificity: {specificity:.3f}')\n",
    "print(f'False Positive Rate (FPR): {fpr:.3f}')\n",
    "print(f'False Negative Rate (FNR): {fnr:.3f}')\n",
    "print(f'Geometric Mean (G-Mean): {g_mean:.3f}')\n"
   ]
  },
  {
   "cell_type": "markdown",
   "id": "6315fb65-edfa-416d-bbf3-08b31d2e31ea",
   "metadata": {},
   "source": [
    "### Feature Importance"
   ]
  },
  {
   "cell_type": "code",
   "execution_count": 13,
   "id": "1de68e50-1a74-42dc-94ca-434edcbf1c7b",
   "metadata": {},
   "outputs": [
    {
     "data": {
      "image/png": "[encoded data removed]",
      "text/plain": [
       "<Figure size 1300x900 with 1 Axes>"
      ]
     },
     "metadata": {},
     "output_type": "display_data"
    }
   ],
   "source": [
    "plt.rcParams['figure.figsize'] = [13, 9]\n",
    "xgb.plot_importance(model_class, max_num_features=20)\n",
    "plt.show()"
   ]
  },
  {
   "cell_type": "markdown",
   "id": "e40279ce-0b66-44bd-93c4-7a7608699914",
   "metadata": {},
   "source": [
    "#### Treeplot"
   ]
  },
  {
   "cell_type": "code",
   "execution_count": 14,
   "id": "9b617ccf-1987-4878-8440-1bbe660f96b7",
   "metadata": {
    "scrolled": true
   },
   "outputs": [],
   "source": [
    "# plot single tree\n",
    "#fig, ax = plt.subplots(figsize=(100, 100))\n",
    "#fig = plt.figure(figsize=(12, 6))\n",
    "#plt.figure(figsize=(50, 50))\n",
    "#plot_tree(model_class)\n",
    "#plt.savefig('xgb_treeplot.jpg', dpi=1800)  \n",
    "#plt.show()"
   ]
  },
  {
   "cell_type": "markdown",
   "id": "d2915bc1-ffb1-482d-be28-e9cc3da08790",
   "metadata": {},
   "source": [
    "### Matriz de Confusão"
   ]
  },
  {
   "cell_type": "markdown",
   "id": "f5c77695-9322-46c2-8c62-801b6d2acb1a",
   "metadata": {},
   "source": [
    "O gráfico de calor mostra as previsões do modelo em relação aos valores reais. Os valores na diagonal (7979 e 148171) representam as previsões corretas para as classes negativas (0) e positivas (1), respectivamente. Os outros dois valores (19805 e 18812) representam os erros do tipo I(falsos negativos) e tipo II(falsos positivos), respectivamente. A matriz sugere que o modelo é melhor em prever a classe majoritária (Pontual) do que a minoritária (Atraso), o que é comum em conjuntos de dados desbalanceados."
   ]
  },
  {
   "cell_type": "code",
   "execution_count": 15,
   "id": "9e841f98-1b4b-40b3-9dae-f2a658a36a31",
   "metadata": {},
   "outputs": [
    {
     "data": {
      "image/png": "[encoded data removed]",
      "text/plain": [
       "<Figure size 1300x900 with 2 Axes>"
      ]
     },
     "metadata": {},
     "output_type": "display_data"
    }
   ],
   "source": [
    "# Matriz de Confusão\n",
    "cm = confusion_matrix(y_test, y_pred)\n",
    "sns.heatmap(cm, annot=True, fmt='d')\n",
    "plt.title('Matriz de Confusão')\n",
    "plt.show()"
   ]
  },
  {
   "cell_type": "markdown",
   "id": "5129efab-941a-4db3-9fcd-17d9381b73fb",
   "metadata": {},
   "source": [
    "### Curva ROC"
   ]
  },
  {
   "cell_type": "markdown",
   "id": "31c22b87-60e4-4193-93a4-5855f8178229",
   "metadata": {},
   "source": [
    "A relação entre a taxa de verdadeiro positivo e a taxa de falso positivo para diferentes limiares de classificação. A curva está suave e sobe gradualmente. No entanto, uma curva ROC ideal se aproximaria mais do canto superior esquerdo mais rápido. A consequência é que temos uma alta taxa de verdadeiro positivo e baixa taxa de falso positivo. Isso devido ao banco de dados desbalanceado. O resultado nos permit dizer que ainda há um potencial de melhoria no modelo"
   ]
  },
  {
   "cell_type": "code",
   "execution_count": 16,
   "id": "88cdf2f8-2364-43d6-aaef-4d78a6a3b2e1",
   "metadata": {},
   "outputs": [
    {
     "data": {
      "image/png": "[encoded data removed]",
      "text/plain": [
       "<Figure size 800x600 with 1 Axes>"
      ]
     },
     "metadata": {},
     "output_type": "display_data"
    }
   ],
   "source": [
    "# Gerar previsões probabilísticas para a classe positiva\n",
    "y_pred_proba_pos = model_class.predict(dtest)   # Probabilidades da classe positiva\n",
    "\n",
    "fpr, tpr, thresholds = roc_curve(y_test, y_pred_proba_pos)\n",
    "\n",
    "# Plot da Curva ROC\n",
    "plt.figure(figsize=(8, 6))\n",
    "plt.plot(fpr, tpr, label=f'Modelo AUC: {roc_auc_score(y_test_np, y_pred_proba):.3f})')\n",
    "plt.title('Curva ROC', fontsize=14)\n",
    "plt.xlabel('Taxa de Falso Positivo (FPR)', fontsize=12)\n",
    "plt.ylabel('Taxa de Verdadeiro Positivo (TPR)', fontsize=12)\n",
    "plt.grid(True)\n",
    "plt.legend()\n",
    "plt.show()\n",
    "\n",
    "\n"
   ]
  },
  {
   "cell_type": "markdown",
   "id": "5975c899-1ed9-46ee-9dd5-86d8b03a5db8",
   "metadata": {},
   "source": [
    "### Curva de Precisão-Recall"
   ]
  },
  {
   "cell_type": "markdown",
   "id": "f4fed31d-e2c8-4d57-9b17-0f8b0f5423dd",
   "metadata": {},
   "source": [
    "Este gráfico é útil em situações de classes desbalanceadas e foca na relação entre precisão (quão muitos dos classificados como positivos são realmente positivos) e recall (quão muitos dos positivos reais foram capturados pelo modelo). A curva começa com uma alta precisão, mas diminui à medida que o recall aumenta, isso pode ser um sinal de que pode estar acontecendo um trade-off, ou seja, visando ter mais ou manter performance."
   ]
  },
  {
   "cell_type": "code",
   "execution_count": 17,
   "id": "546168b4-5cc2-4111-adec-599b15f70d9c",
   "metadata": {},
   "outputs": [
    {
     "data": {
      "image/png": "[encoded data removed]",
      "text/plain": [
       "<Figure size 800x600 with 1 Axes>"
      ]
     },
     "metadata": {},
     "output_type": "display_data"
    }
   ],
   "source": [
    "from sklearn.metrics import precision_recall_curve\n",
    "import matplotlib.pyplot as plt\n",
    "\n",
    "# Gerar previsões probabilísticas para a classe positiva\n",
    "y_pred_proba_pos = model_class.predict(dtest)   # Probabilidades da classe positiva\n",
    "\n",
    "# Curva de Precisão-Recall\n",
    "precision, recall, _ = precision_recall_curve(y_test, y_pred_proba_pos)\n",
    "\n",
    "# Plot da Curva de Precisão-Recall\n",
    "plt.figure(figsize=(8, 6))\n",
    "plt.plot(recall, precision, label='Modelo XGBoost')\n",
    "plt.title('Curva de Precisão-Recall', fontsize=14)\n",
    "plt.xlabel('Recall', fontsize=12)\n",
    "plt.ylabel('Precisão', fontsize=12)\n",
    "plt.grid(True)\n",
    "plt.legend()\n",
    "plt.show()\n"
   ]
  },
  {
   "cell_type": "markdown",
   "id": "56417ae7-ff96-4413-9b4d-099e5637d361",
   "metadata": {},
   "source": [
    "### Calibration plot"
   ]
  },
  {
   "cell_type": "code",
   "execution_count": 18,
   "id": "8adcd66c-4ab5-42a4-be1c-939c0f4c2b93",
   "metadata": {},
   "outputs": [
    {
     "name": "stderr",
     "output_type": "stream",
     "text": [
      "[19:53:38] WARNING: C:\\buildkite-agent\\builds\\buildkite-windows-cpu-autoscaling-group-i-0750514818a16474a-1\\xgboost\\xgboost-ci-windows\\src\\common\\error_msg.cc:58: Falling back to prediction using DMatrix due to mismatched devices. This might lead to higher memory usage and slower performance. XGBoost is running on: cuda:0, while the input data is on: cpu.\n",
      "Potential solutions:\n",
      "- Use a data structure that matches the device ordinal in the booster.\n",
      "- Set the device for booster before call to inplace_predict.\n",
      "\n",
      "This warning will only be shown once.\n",
      "\n"
     ]
    },
    {
     "name": "stdout",
     "output_type": "stream",
     "text": [
      "\n",
      "Before Calibration\n",
      "--- Uncalibrated ---\n",
      "Log Loss: 1.4450\n",
      "AUC: 0.7209\n",
      "Brier Score: 0.5314\n",
      "Overconfidence Error: 0.4243\n",
      "Expected Calibration Error (ECE): 0.6299\n",
      "Maximum Calibration Error (MCE): 0.6797\n"
     ]
    },
    {
     "data": {
      "image/png": "[encoded data removed]",
      "text/plain": [
       "<Figure size 1000x600 with 1 Axes>"
      ]
     },
     "metadata": {},
     "output_type": "display_data"
    }
   ],
   "source": [
    "from sklearn.calibration import calibration_curve\n",
    "import matplotlib.pyplot as plt\n",
    "from xgboost import XGBClassifier\n",
    "from sklearn.calibration import CalibratedClassifierCV\n",
    "from sklearn.metrics import log_loss, roc_auc_score, brier_score_loss, make_scorer\n",
    "from sklearn.model_selection import RepeatedStratifiedKFold, cross_val_score\n",
    "import numpy as np\n",
    "\n",
    "# Funções para métricas adicionais\n",
    "def calculate_overconfidence_error(y_true, y_pred, bins=10):\n",
    "    \"\"\"Calcula o erro de overconfidence.\"\"\"\n",
    "    bin_edges = np.linspace(0, 1, bins + 1)\n",
    "    bin_sums = np.zeros(bins)\n",
    "    bin_counts = np.zeros(bins)\n",
    "\n",
    "    for i in range(bins):\n",
    "        bin_mask = (y_pred >= bin_edges[i]) & (y_pred < bin_edges[i + 1])\n",
    "        bin_sums[i] = np.sum(y_pred[bin_mask]) - np.sum(y_true[bin_mask])\n",
    "        bin_counts[i] = np.sum(bin_mask)\n",
    "\n",
    "    overconfidence_error = np.sum(np.abs(bin_sums) / bin_counts) / bins\n",
    "    return overconfidence_error\n",
    "\n",
    "def calculate_ece_mce(y_true, y_pred, bins=10):\n",
    "    \"\"\"Calcula o Expected Calibration Error (ECE) e Maximum Calibration Error (MCE).\"\"\"\n",
    "    bin_edges = np.linspace(0, 1, bins + 1)\n",
    "    ece = 0\n",
    "    mce = 0\n",
    "\n",
    "    for i in range(bins):\n",
    "        bin_mask = (y_pred >= bin_edges[i]) & (y_pred < bin_edges[i + 1])\n",
    "        bin_true = y_true[bin_mask]\n",
    "        bin_pred = y_pred[bin_mask]\n",
    "\n",
    "        if len(bin_true) > 0:\n",
    "            accuracy = np.mean(bin_true)\n",
    "            avg_confidence = np.mean(bin_pred)\n",
    "            bin_error = np.abs(accuracy - avg_confidence)\n",
    "\n",
    "            ece += bin_error * len(bin_true)\n",
    "            mce = max(mce, bin_error)\n",
    "\n",
    "    ece /= len(y_true)\n",
    "    return ece, mce\n",
    "\n",
    "def evaluate_metrics(y_true, y_pred, title=\"Metrics\"):\n",
    "    \"\"\"Calcula e exibe as métricas.\"\"\"\n",
    "    logloss = log_loss(y_true, y_pred)\n",
    "    auc = roc_auc_score(y_true, y_pred)\n",
    "    brier = brier_score_loss(y_true, y_pred)\n",
    "    overconfidence = calculate_overconfidence_error(y_true, y_pred)\n",
    "    ece, mce = calculate_ece_mce(y_true, y_pred)\n",
    "\n",
    "    print(f\"--- {title} ---\")\n",
    "    print(f\"Log Loss: {logloss:.4f}\")\n",
    "    print(f\"AUC: {auc:.4f}\")\n",
    "    print(f\"Brier Score: {brier:.4f}\")\n",
    "    print(f\"Overconfidence Error: {overconfidence:.4f}\")\n",
    "    print(f\"Expected Calibration Error (ECE): {ece:.4f}\")\n",
    "    print(f\"Maximum Calibration Error (MCE): {mce:.4f}\")\n",
    "# Prever probabilidades da classe positiva no conjunto de teste\n",
    "y_pred_proba = model_class.predict(dtest_calib)  # Probabilidades da classe positiva\n",
    "\n",
    "# Ajustar os parâmetros para XGBClassifier\n",
    "classifier_params = best_params.copy()\n",
    "classifier_params['n_estimators'] = num_boost_round  # Número de iterações de boosting\n",
    "\n",
    "# Configuração do modelo XGBClassifier\n",
    "model = XGBClassifier(**classifier_params)\n",
    "\n",
    "# Treinamento do modelo inicial sem calibração\n",
    "model.fit(X_train_calib, y_train_calib)\n",
    "y_pred_test_uncalibrated = model.predict_proba(X_test)[:, 1]\n",
    "\n",
    "# Avaliar métricas antes da calibração\n",
    "print(\"\\nBefore Calibration\")\n",
    "evaluate_metrics(y_test, y_pred_test_uncalibrated, title=\"Uncalibrated\")\n",
    "\n",
    "# Obter os valores para o gráfico de calibração antes e depois da calibração\n",
    "prob_true_uncalibrated, prob_pred_uncalibrated = calibration_curve(y_test, y_pred_test_uncalibrated, n_bins=15, strategy='uniform')\n",
    "\n",
    "# Plotar o gráfico\n",
    "plt.figure(figsize=(10, 6))\n",
    "plt.plot(prob_pred_uncalibrated, prob_true_uncalibrated, marker='o', label='Sem Calibração')\n",
    "plt.plot([0, 1], [0, 1], linestyle='--', label='Perfeitamente Calibrado')\n",
    "plt.xlabel('Probabilidade prevista')\n",
    "plt.ylabel('Proporção observada')\n",
    "plt.title('Gráfico de Calibração')\n",
    "plt.legend()\n",
    "plt.grid(True)\n",
    "plt.show()"
   ]
  },
  {
   "cell_type": "code",
   "execution_count": 19,
   "id": "7bb5f5ec-d626-4658-b668-23d894b8b8eb",
   "metadata": {},
   "outputs": [],
   "source": [
    "# Garantir que y_test e y_pred_proba sejam arrays NumPy\n",
    "y_test_np = np.array(y_test)  # Converte y_test para NumPy se necessário\n",
    "y_pred_proba = model_class.predict(dtest)  # Previsões no formato de probabilidades da classe positiva\n",
    "\n",
    "# Prever as classes com base no limiar de 0.5\n",
    "y_pred = (y_pred_proba >= 0.5).astype(int)"
   ]
  },
  {
   "cell_type": "code",
   "execution_count": 20,
   "id": "b2ab0b1a-d226-4d34-b263-9fab49dec4a5",
   "metadata": {},
   "outputs": [
    {
     "data": {
      "image/png": "[encoded data removed]",
      "text/plain": [
       "<Figure size 1000x600 with 1 Axes>"
      ]
     },
     "metadata": {},
     "output_type": "display_data"
    }
   ],
   "source": [
    "import numpy as np\n",
    "import seaborn as sns\n",
    "import matplotlib.pyplot as plt\n",
    "\n",
    "# Garantir que os dados de teste e as probabilidades preditas sejam arrays NumPy\n",
    "# Supomos que y_test_np e y_pred_proba já estão definidos conforme descrito\n",
    "\n",
    "# Criação de um DataFrame para facilitar a visualização\n",
    "import pandas as pd\n",
    "\n",
    "data = pd.DataFrame({\n",
    "    'True Label': y_test_np,\n",
    "    'Predicted Probability': y_pred_proba\n",
    "})\n",
    "\n",
    "# Plotando a distribuição dos scores preditos\n",
    "plt.figure(figsize=(10, 6))\n",
    "sns.histplot(data=data, x='Predicted Probability', hue='True Label', kde=True, bins=50, palette='Set2', alpha=0.6)\n",
    "plt.title('Distribuição dos Scores Preditos por Classe', fontsize=16)\n",
    "plt.xlabel('Probabilidade Predita (Classe Positiva)', fontsize=14)\n",
    "plt.ylabel('Frequência', fontsize=14)\n",
    "plt.legend(title='True Label', labels=['Classe Negativa', 'Classe Positiva'])\n",
    "plt.grid(axis='y', linestyle='--', alpha=0.7)\n",
    "plt.tight_layout()\n",
    "plt.show()"
   ]
  },
  {
   "cell_type": "markdown",
   "id": "f753305e-a93a-44f9-8bf0-ec41be5d86cc",
   "metadata": {},
   "source": [
    "# Implementando Calibração"
   ]
  },
  {
   "cell_type": "code",
   "execution_count": null,
   "id": "d3e8438a-ffb6-4e9b-8a29-802430171100",
   "metadata": {},
   "outputs": [
    {
     "name": "stderr",
     "output_type": "stream",
     "text": [
      "The `needs_threshold` and `needs_proba` parameter are deprecated in version 1.4 and will be removed in 1.6. You can either let `response_method` be `None` or set it to `predict` to preserve the same behaviour.\n"
     ]
    }
   ],
   "source": [
    "# Validação cruzada na calibração com RepeatedStratifiedKFold\n",
    "cv = RepeatedStratifiedKFold(n_splits=4, n_repeats=10, random_state=0)\n",
    "\n",
    "# Calibração isotônica com validação cruzada\n",
    "calibrated = CalibratedClassifierCV(model, method='sigmoid', cv=4, n_jobs=-1)\n",
    "\n",
    "# Avaliar o modelo calibrado com cross-validation\n",
    "roc_auc_scorer = make_scorer(roc_auc_score, needs_proba=True)\n",
    "scores = cross_val_score(calibrated, X_test_calib, y_test_calib, scoring=roc_auc_scorer, cv=cv, n_jobs=-1)\n",
    "\n",
    "# Exibir resultados de validação cruzada\n",
    "print(f\"Mean ROC AUC (cross-validation): {np.mean(scores):.4f}\")\n",
    "print(f\"Standard Deviation ROC AUC (cross-validation): {np.std(scores):.4f}\")\n",
    "\n",
    "# Ajustar o modelo calibrado para avaliação no conjunto de teste\n",
    "calibrated.fit(X_test_calib, y_test_calib)\n",
    "\n",
    "# Predições no conjunto de teste após calibração\n",
    "y_pred_test_calibrated = calibrated.predict_proba(X_test)[:, 1]\n",
    "\n",
    "# Avaliar métricas após calibração no conjunto de teste\n",
    "print(\"\\nAfter Calibration\")\n",
    "evaluate_metrics(y_test, y_pred_test_calibrated, title=\"Calibrated\")"
   ]
  },
  {
   "cell_type": "markdown",
   "id": "646694e7-3c94-45ed-b755-d2e7d9778678",
   "metadata": {},
   "source": [
    "## Diagrama de caliabração"
   ]
  },
  {
   "cell_type": "code",
   "execution_count": null,
   "id": "62f4bc5e-23ac-4ec2-a68a-2bc6a8d6c988",
   "metadata": {},
   "outputs": [],
   "source": [
    "from sklearn.calibration import calibration_curve\n",
    "import matplotlib.pyplot as plt\n",
    "\n",
    "# Prever probabilidades da classe positiva no conjunto de teste\n",
    "y_pred_proba = model_class.predict(dtest_calib)  # Probabilidades da classe positiva\n",
    "\n",
    "\n",
    "# Obter os valores para o gráfico de calibração antes e depois da calibração\n",
    "prob_true_uncalibrated, prob_pred_uncalibrated = calibration_curve(y_test, y_pred_test_uncalibrated, n_bins=15, strategy='uniform')\n",
    "prob_true_calibrated, prob_pred_calibrated = calibration_curve(y_test, y_pred_test_calibrated, n_bins=15, strategy='uniform')\n",
    "\n",
    "# Plotar o gráfico\n",
    "plt.figure(figsize=(10, 6))\n",
    "plt.plot(prob_pred_uncalibrated, prob_true_uncalibrated, marker='o', label='Antes da Calibração')\n",
    "plt.plot(prob_pred_calibrated, prob_true_calibrated, marker='o', label='Após Regressão Isotônica', color='blue')\n",
    "plt.plot([0, 1], [0, 1], linestyle='--', label='Perfeitamente Calibrado')\n",
    "plt.xlabel('Probabilidade prevista')\n",
    "plt.ylabel('Proporção observada')\n",
    "plt.title('Gráfico de Calibração')\n",
    "plt.legend()\n",
    "plt.grid(True)\n",
    "plt.show()"
   ]
  },
  {
   "cell_type": "markdown",
   "id": "3d42bf96-2d68-433a-a787-ff126f876f0d",
   "metadata": {},
   "source": [
    "## Distribuição das probabildiade calibrado e nao calibrado"
   ]
  },
  {
   "cell_type": "code",
   "execution_count": null,
   "id": "1c3b490c-f85f-4621-93b7-77f4d24bacf5",
   "metadata": {},
   "outputs": [],
   "source": [
    "# Garantir que y_test e y_pred_proba sejam arrays NumPy\n",
    "y_pred_test_uncalibrated_np = np.array(y_test)  # Converte y_test para NumPy se necessário\n",
    "y_pred_test_uncalibrated_proba = model_class.predict(dtest)  # Previsões no formato de probabilidades da classe positiva\n",
    "\n",
    "# Prever as classes com base no limiar de 0.5\n",
    "y_pred_test_uncalibrated = (y_pred_test_uncalibrated_proba >= 0.5).astype(int)\n",
    "\n",
    "# Garantir que y_test e y_pred_proba sejam arrays NumPy\n",
    "y_pred_test_calibrated_np = np.array(y_test)  # Converte y_test para NumPy se necessário\n",
    "y_pred_test_calibrated_proba = calibrated.predict(X_test)  # Previsões no formato de probabilidades da classe positiva\n",
    "\n",
    "# Prever as classes com base no limiar de 0.5\n",
    "y_pred_test_calibrated = (y_pred_test_calibrated_proba >= 0.5).astype(int)\n",
    "\n",
    "# Ajustando as variáveis conforme o dataset fornecido\n",
    "\n",
    "# Verificar os tamanhos das variáveis\n",
    "print(f\"Tamanho de y_test: {len(y_pred_test_uncalibrated_np)}\")\n",
    "print(f\"Tamanho de y_pred_test_uncalibrated_proba: {len(y_pred_test_uncalibrated_proba)}\")\n",
    "print(f\"Tamanho de y_pred_test_calibrated_proba: {len(y_pred_test_calibrated_proba)}\")\n",
    "\n",
    "# Garantir que os tamanhos sejam consistentes\n",
    "if len(y_pred_test_uncalibrated_np) != len(y_pred_test_uncalibrated_proba):\n",
    "    y_pred_test_uncalibrated_np = y_pred_test_uncalibrated_np[:len(y_pred_test_uncalibrated_proba)]\n",
    "\n",
    "if len(y_pred_test_uncalibrated_np) != len(y_pred_test_calibrated_proba):\n",
    "    y_pred_test_calibrated_proba = y_pred_test_calibrated_proba[:len(y_pred_test_uncalibrated_np)]\n",
    "\n",
    "# Criar DataFrames para as distribuições\n",
    "data_class_0_uncalibrated = pd.DataFrame({\n",
    "    'Predicted Probability': y_pred_test_uncalibrated_proba[y_pred_test_uncalibrated_np == 0],\n",
    "    'Class': 'Classe 0 - Não Calibrado'\n",
    "})\n",
    "\n",
    "data_class_1_uncalibrated = pd.DataFrame({\n",
    "    'Predicted Probability': y_pred_test_uncalibrated_proba[y_pred_test_uncalibrated_np == 1],\n",
    "    'Class': 'Classe 1 - Não Calibrado'\n",
    "})\n",
    "\n",
    "data_class_0_calibrated = pd.DataFrame({\n",
    "    'Predicted Probability': y_pred_test_calibrated_proba[y_pred_test_uncalibrated_np == 0],\n",
    "    'Class': 'Classe 0 - Calibrado'\n",
    "})\n",
    "\n",
    "data_class_1_calibrated = pd.DataFrame({\n",
    "    'Predicted Probability': y_pred_test_calibrated_proba[y_pred_test_uncalibrated_np == 1],\n",
    "    'Class': 'Classe 1 - Calibrado'\n",
    "})\n",
    "\n",
    "# Redefinir os índices para evitar conflitos\n",
    "data_class_0_uncalibrated = data_class_0_uncalibrated.reset_index(drop=True)\n",
    "data_class_1_uncalibrated = data_class_1_uncalibrated.reset_index(drop=True)\n",
    "data_class_0_calibrated = data_class_0_calibrated.reset_index(drop=True)\n",
    "data_class_1_calibrated = data_class_1_calibrated.reset_index(drop=True)\n",
    "\n",
    "# Gráficos lado a lado\n",
    "fig, axes = plt.subplots(1, 2, figsize=(16, 6), sharey=True)\n",
    "\n",
    "# Gráfico para dados não calibrados\n",
    "sns.histplot(\n",
    "    data=pd.concat([data_class_0_uncalibrated, data_class_1_uncalibrated]).reset_index(drop=True),\n",
    "    x='Predicted Probability',\n",
    "    hue='Class',\n",
    "    kde=True,\n",
    "    bins=50,\n",
    "    palette='tab10',\n",
    "    alpha=0.6,\n",
    "    ax=axes[0]\n",
    ")\n",
    "axes[0].set_title('Distribuição dos Scores Não Calibrados', fontsize=14)\n",
    "axes[0].set_xlabel('Probabilidade Prevista', fontsize=12)\n",
    "axes[0].set_ylabel('Frequência', fontsize=12)\n",
    "axes[0].grid(axis='y', linestyle='--', alpha=0.7)\n",
    "\n",
    "# Gráfico para dados calibrados\n",
    "sns.histplot(\n",
    "    data=pd.concat([data_class_0_calibrated, data_class_1_calibrated]).reset_index(drop=True),\n",
    "    x='Predicted Probability',\n",
    "    hue='Class',\n",
    "    kde=True,\n",
    "    bins=50,\n",
    "    palette='tab10',\n",
    "    alpha=0.6,\n",
    "    ax=axes[1]\n",
    ")\n",
    "axes[1].set_title('Distribuição dos Scores Calibrados', fontsize=14)\n",
    "axes[1].set_xlabel('Probabilidade Prevista', fontsize=12)\n",
    "axes[1].grid(axis='y', linestyle='--', alpha=0.7)\n",
    "\n",
    "# Ajustar layout\n",
    "plt.tight_layout()\n",
    "plt.show()"
   ]
  },
  {
   "cell_type": "markdown",
   "id": "49d66372-bf37-4b43-ade1-0849ed49ed85",
   "metadata": {},
   "source": [
    "## Análise após calibração do modelo"
   ]
  },
  {
   "cell_type": "code",
   "execution_count": null,
   "id": "e60bf904-837d-4942-96e0-f6fc471101aa",
   "metadata": {},
   "outputs": [],
   "source": [
    "from sklearn.metrics import (\n",
    "    accuracy_score, confusion_matrix, precision_score, recall_score,\n",
    "    f1_score, roc_auc_score, balanced_accuracy_score, average_precision_score,\n",
    "    log_loss, brier_score_loss, cohen_kappa_score, matthews_corrcoef,\n",
    "    roc_curve, precision_recall_curve\n",
    ")\n",
    "import seaborn as sns\n",
    "import matplotlib.pyplot as plt\n",
    "import numpy as np\n",
    "\n",
    "# Garantir que y_test e y_pred_proba sejam arrays NumPy\n",
    "y_test_np = np.array(y_test)  # Converte y_test para NumPy se necessário\n",
    "\n",
    "# Gerar previsões probabilísticas para a classe positiva após calibração\n",
    "y_pred_proba = calibrated.predict_proba(X_test)[:, 1]  # Previsões calibradas (probabilidades)\n",
    "\n",
    "# Prever as classes com base no limiar de 0.5\n",
    "y_pred = (y_pred_proba >= 0.5).astype(int)\n",
    "\n",
    "# Matriz de Confusão\n",
    "cm = confusion_matrix(y_test_np, y_pred)\n",
    "sns.heatmap(cm, annot=True, fmt='d', cmap='Blues')\n",
    "plt.title('Matriz de Confusão')\n",
    "plt.xlabel('Predito')\n",
    "plt.ylabel('Real')\n",
    "plt.show()\n",
    "\n",
    "# Curva ROC\n",
    "fpr, tpr, thresholds = roc_curve(y_test_np, y_pred_proba)\n",
    "plt.figure(figsize=(8, 6))\n",
    "plt.plot(fpr, tpr, label=f'Modelo Calibrado (AUC: {roc_auc_score(y_test_np, y_pred_proba):.3f})')\n",
    "plt.title('Curva ROC', fontsize=14)\n",
    "plt.xlabel('Taxa de Falso Positivo (FPR)', fontsize=12)\n",
    "plt.ylabel('Taxa de Verdadeiro Positivo (TPR)', fontsize=12)\n",
    "plt.grid(True)\n",
    "plt.legend()\n",
    "plt.show()\n",
    "\n",
    "# Curva de Precisão-Recall\n",
    "precision, recall, _ = precision_recall_curve(y_test_np, y_pred_proba)\n",
    "plt.figure(figsize=(8, 6))\n",
    "plt.plot(recall, precision, label=f'Modelo Calibrado (PRAUC: {average_precision_score(y_test_np, y_pred_proba):.3f})')\n",
    "plt.title('Curva de Precisão-Recall', fontsize=14)\n",
    "plt.xlabel('Recall', fontsize=12)\n",
    "plt.ylabel('Precisão', fontsize=12)\n",
    "plt.grid(True)\n",
    "plt.legend()\n",
    "plt.show()\n",
    "\n",
    "# Cálculos de Métricas\n",
    "TN, FP, FN, TP = cm.ravel()\n",
    "accuracy = accuracy_score(y_test_np, y_pred)\n",
    "sensitivity = TP / (TP + FN) if (TP + FN) > 0 else 0\n",
    "specificity = TN / (TN + FP) if (TN + FP) > 0 else 0\n",
    "precision = TP / (TP + FP) if (TP + FP) > 0 else 0\n",
    "recall = sensitivity\n",
    "f1 = (2 * precision * recall) / (precision + recall) if (precision + recall) > 0 else 0\n",
    "balanced_acc = balanced_accuracy_score(y_test_np, y_pred)\n",
    "fpr = FP / (FP + TN) if (FP + TN) > 0 else 0\n",
    "fnr = FN / (FN + TP) if (FN + TP) > 0 else 0\n",
    "\n",
    "# Métricas baseadas em probabilidades\n",
    "prauc = average_precision_score(y_test_np, y_pred_proba)\n",
    "auc = roc_auc_score(y_test_np, y_pred_proba)\n",
    "gini = 2 * auc - 1\n",
    "mcc = matthews_corrcoef(y_test_np, y_pred)\n",
    "log_loss_value = log_loss(y_test_np, y_pred_proba)\n",
    "brier_score = brier_score_loss(y_test_np, y_pred_proba)\n",
    "kappa = cohen_kappa_score(y_test_np, y_pred)\n",
    "\n",
    "# Geometric Mean (G-Mean)\n",
    "g_mean = np.sqrt(sensitivity * specificity)\n",
    "\n",
    "# Exibir as métricas\n",
    "print(f'Accuracy: {accuracy:.3f}')\n",
    "print(f'Precision: {precision:.3f}')\n",
    "print(f'Recall: {recall:.3f}')\n",
    "print(f'F1-Score: {f1:.3f}')\n",
    "print(f'PRAUC: {prauc:.3f}')\n",
    "print(f'AUC: {auc:.3f}')\n",
    "print(f'Gini Coefficient: {gini:.3f}')\n",
    "print(f'MCC: {mcc:.3f}')\n",
    "print(f'Log Loss: {log_loss_value:.3f}')\n",
    "print(f'Brier Score: {brier_score:.3f}')\n",
    "print(f'Cohen\\'s Kappa: {kappa:.3f}')\n",
    "print(f'Balanced Accuracy: {balanced_acc:.3f}')\n",
    "print(f'Specificity: {specificity:.3f}')\n",
    "print(f'False Positive Rate (FPR): {fpr:.3f}')\n",
    "print(f'False Negative Rate (FNR): {fnr:.3f}')\n",
    "print(f'Geometric Mean (G-Mean): {g_mean:.3f}')"
   ]
  },
  {
   "cell_type": "markdown",
   "id": "8c9aca3c-a3a1-4990-81b6-761b20ba6810",
   "metadata": {},
   "source": [
    "### Shap\n",
    "(análise do modelo e não do modelo calibrado)"
   ]
  },
  {
   "cell_type": "markdown",
   "id": "66737d28-ebea-4ef0-8059-e2a7c4d23258",
   "metadata": {},
   "source": [
    "O Shap nos permite compreender o peso de cada variavel para o modelo"
   ]
  },
  {
   "cell_type": "code",
   "execution_count": null,
   "id": "ecc0c3c4-3de1-4097-a2f3-27ec3d2bbc5f",
   "metadata": {},
   "outputs": [],
   "source": [
    "explainer = shap.Explainer(model)\n",
    "shap_values = explainer(X_test)\n",
    "shap_importance = shap_values.abs.mean(0).values\n",
    "sorted_idx = shap_importance.argsort()\n",
    "shap.plots.bar(shap_values, max_display=18)"
   ]
  },
  {
   "cell_type": "code",
   "execution_count": null,
   "id": "c7be52a5-c7d4-47be-af3a-80fdee61fb6a",
   "metadata": {},
   "outputs": [],
   "source": [
    "pred = model.predict(X_test_calib, output_margin=True)\n",
    "\n",
    "explainer = shap.TreeExplainer(model)\n",
    "explanation = explainer(X_test)\n",
    "\n",
    "shap_values = explanation.values\n",
    "\n",
    "shap.plots.beeswarm(explanation)\n",
    "\n",
    "# make sure the SHAP values add up to marginal predictions\n",
    "#np.abs(shap_values.sum(axis=1) + explanation.base_values - y_test_calib).max()\n",
    "\n",
    "#dtest_calib.feature_names"
   ]
  },
  {
   "cell_type": "code",
   "execution_count": null,
   "id": "94be3cfb-e80c-430e-bb77-a283d1f667db",
   "metadata": {},
   "outputs": [],
   "source": [
    "pred = model.predict(X_test_calib, output_margin=True)\n",
    "\n",
    "explainer = shap.TreeExplainer(model)\n",
    "explanation = explainer(X_test)\n",
    "\n",
    "shap_values = explanation.values\n",
    "\n",
    "shap.plots.beeswarm(explanation)\n",
    "\n",
    "# make sure the SHAP values add up to marginal predictions\n",
    "np.abs(shap_values.sum(axis=1) + explanation.base_values - y_test).max()"
   ]
  },
  {
   "cell_type": "markdown",
   "id": "0e16b056-0adb-49cb-8733-78163cf75ff1",
   "metadata": {},
   "source": [
    "# Salvando o Modelo"
   ]
  },
  {
   "cell_type": "code",
   "execution_count": null,
   "id": "0f3d7bd0-2b9c-41a5-ac4a-a6e42593676a",
   "metadata": {},
   "outputs": [],
   "source": [
    "# Salvar o modelo\n",
    "save_pickle(model_class, 'modelo/modelo_xgboost_undersamp.pkl')"
   ]
  },
  {
   "cell_type": "code",
   "execution_count": null,
   "id": "35540133-980f-44c7-a5b3-7bccc88562c0",
   "metadata": {},
   "outputs": [],
   "source": [
    "calibrated"
   ]
  },
  {
   "cell_type": "code",
   "execution_count": null,
   "id": "92f7b805-b31b-4d6d-adb3-35f5c7096494",
   "metadata": {},
   "outputs": [],
   "source": [
    "# Salvar o modelo\n",
    "save_pickle(calibrated, 'modelo/modelo_xgboost_calibrated_undersamp.pkl')"
   ]
  },
  {
   "cell_type": "markdown",
   "id": "7fe0cdce-5db7-42b7-b033-a29d6a2a742f",
   "metadata": {},
   "source": [
    "# Load no modelo"
   ]
  },
  {
   "cell_type": "code",
   "execution_count": null,
   "id": "824896a1-8f1e-41bc-b6cd-018dad9387e1",
   "metadata": {},
   "outputs": [],
   "source": [
    "# Carregar o modelo\n",
    "#modelo_carregado = load_pickle('modelo/modelo_pkl/modelo_classificao_v3.pkl')"
   ]
  }
 ],
 "metadata": {
  "kernelspec": {
   "display_name": "Python 3 (ipykernel)",
   "language": "python",
   "name": "python3"
  },
  "language_info": {
   "codemirror_mode": {
    "name": "ipython",
    "version": 3
   },
   "file_extension": ".py",
   "mimetype": "text/x-python",
   "name": "python",
   "nbconvert_exporter": "python",
   "pygments_lexer": "ipython3",
   "version": "3.11.0"
  }
 },
 "nbformat": 4,
 "nbformat_minor": 5
}
